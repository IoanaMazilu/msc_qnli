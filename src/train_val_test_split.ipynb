{
 "cells": [
  {
   "cell_type": "code",
   "execution_count": 139,
   "metadata": {
    "collapsed": true
   },
   "outputs": [],
   "source": [
    "import pandas as pd\n",
    "import json\n",
    "import os"
   ]
  },
  {
   "cell_type": "code",
   "execution_count": 140,
   "outputs": [],
   "source": [
    "root_path = os.path.dirname(os.getcwd())\n",
    "lila_path = os.path.join(root_path, \"data\", \"lila\", \"all\", \"NumGLUE_Type_7_crowdsourced.json\")\n",
    "\n",
    "with open(lila_path, 'r') as f:\n",
    "    lila_equate = json.load(f)"
   ],
   "metadata": {
    "collapsed": false
   }
  },
  {
   "cell_type": "code",
   "execution_count": 141,
   "outputs": [
    {
     "data": {
      "text/plain": "dict_keys(['Source', 'Categories', 'Instances', 'Metadata'])"
     },
     "execution_count": 141,
     "metadata": {},
     "output_type": "execute_result"
    }
   ],
   "source": [
    "lila_equate.keys()"
   ],
   "metadata": {
    "collapsed": false
   }
  },
  {
   "cell_type": "code",
   "execution_count": 142,
   "outputs": [],
   "source": [
    "lila_equate = lila_equate[\"Instances\"]"
   ],
   "metadata": {
    "collapsed": false
   }
  },
  {
   "cell_type": "code",
   "execution_count": 143,
   "outputs": [
    {
     "data": {
      "text/plain": "6325"
     },
     "execution_count": 143,
     "metadata": {},
     "output_type": "execute_result"
    }
   ],
   "source": [
    "len(lila_equate)"
   ],
   "metadata": {
    "collapsed": false
   }
  },
  {
   "cell_type": "code",
   "execution_count": 144,
   "outputs": [
    {
     "data": {
      "text/plain": "dict_keys(['Input', 'Output Program', 'Output Answer', 'split'])"
     },
     "execution_count": 144,
     "metadata": {},
     "output_type": "execute_result"
    }
   ],
   "source": [
    "lila_equate[0].keys()"
   ],
   "metadata": {
    "collapsed": false
   }
  },
  {
   "cell_type": "code",
   "execution_count": 145,
   "outputs": [
    {
     "data": {
      "text/plain": "' \"statement 1\": In a deck of less than 72 cards , how many ways are there to select 13 Spade and 13 heart cards without repetition ?, \"statement 2\" :In a deck of 52 cards , how many ways are there to select 13 Spade and 13 heart cards without repetition ?, \"options: \" Entailment or contradiction or neutral?'"
     },
     "execution_count": 145,
     "metadata": {},
     "output_type": "execute_result"
    }
   ],
   "source": [
    "lila_equate[0][\"Input\"]"
   ],
   "metadata": {
    "collapsed": false
   }
  },
  {
   "cell_type": "code",
   "execution_count": 146,
   "outputs": [
    {
     "data": {
      "text/plain": "\"RajeshHaveQuestionsS1 = 41 \\nRajeshHaveQuestionsS2 = 31\\nif RajeshHaveQuestionsS1 is None or RajeshHaveQuestionsS2 is None:\\n   print('neutral')\\nelif RajeshHaveQuestionsS1==RajeshHaveQuestionsS2:\\n      print('Entailment')\\nelif RajeshHaveQuestionsS1!=RajeshHaveQuestionsS2:\\n     print('contradiction')\""
     },
     "execution_count": 146,
     "metadata": {},
     "output_type": "execute_result"
    }
   ],
   "source": [
    "lila_equate[1][\"Output Program\"][0]"
   ],
   "metadata": {
    "collapsed": false
   }
  },
  {
   "cell_type": "code",
   "execution_count": 147,
   "outputs": [],
   "source": [
    "train, val, test = [], [], []\n",
    "for instance in lila_equate:\n",
    "    new_instance = dict()\n",
    "    inputs = instance[\"Input\"]\n",
    "    premise_hypothesis = inputs.split(\", \\\"statement 2\\\" :\")\n",
    "    try:\n",
    "        premise, hypothesis = premise_hypothesis[0], premise_hypothesis[1]\n",
    "        premise = premise.split(\"\\\"statement 1\\\": \")[-1]\n",
    "        hypothesis = hypothesis.split(\", \\\"options: \\\"\")[0]\n",
    "        new_instance.update({\"premise\": premise,\n",
    "                             \"hypothesis\": hypothesis,\n",
    "                             \"lila_label\": instance[\"Output Answer\"][0],\n",
    "                             \"lila_script\": instance[\"Output Program\"][0]})\n",
    "        split = instance[\"split\"]\n",
    "        if split == \"train\":\n",
    "            train.append(new_instance)\n",
    "        elif split == \"dev\":\n",
    "            val.append(new_instance)\n",
    "        else:\n",
    "            test.append(new_instance)\n",
    "    except IndexError:\n",
    "        print(f\"ERROR extracting inputs:\\n{inputs}\")"
   ],
   "metadata": {
    "collapsed": false
   }
  },
  {
   "cell_type": "code",
   "execution_count": 148,
   "outputs": [
    {
     "name": "stdout",
     "output_type": "stream",
     "text": [
      "4302 806 1217\n"
     ]
    }
   ],
   "source": [
    "print(len(train), len(val), len(test))"
   ],
   "metadata": {
    "collapsed": false
   }
  },
  {
   "cell_type": "code",
   "execution_count": 149,
   "outputs": [],
   "source": [
    "import re\n",
    "\n",
    "def clean_text(text: str):\n",
    "    return re.sub(r'\\s+', ' ', text.lower().replace(\"\\n\", \"\")).strip()"
   ],
   "metadata": {
    "collapsed": false
   }
  },
  {
   "cell_type": "code",
   "execution_count": 150,
   "outputs": [
    {
     "data": {
      "text/plain": "                                             premise  \\\n0  In a deck of less than 72 cards , how many way...   \n1  If out of 41 questions solved by Rajesh 37 que...   \n2  Alice drives at a constant speed of 30 km per ...   \n3               Mary is 22 years younger than Albert   \n4  Assuming that Karen drives at an average speed...   \n\n                                          hypothesis     lila_label  \\\n0  In a deck of 52 cards , how many ways are ther...        neutral   \n1  If out of 31 questions solved by Rajesh 37 que...  contradiction   \n2  Alice drives at a constant speed of 20 km per ...  contradiction   \n3               Mary is 72 years younger than Albert  contradiction   \n4  Assuming that Karen drives at an average speed...        neutral   \n\n                                         lila_script  \n0  DeckOfCardStatement1= None \\nDeckOfCardStateme...  \n1  RajeshHaveQuestionsS1 = 41 \\nRajeshHaveQuestio...  \n2  DrivesSpeedS1 = 30\\nDrivesSpeedS2 = 20\\nif Dri...  \n3  AgeS1 = 22\\nAgeS2 = 72\\nif AgeS1 is None or Ag...  \n4  \\nDriveS2 = 60\\nDriveS1 = None\\nif DriveS1 is ...  ",
      "text/html": "<div>\n<style scoped>\n    .dataframe tbody tr th:only-of-type {\n        vertical-align: middle;\n    }\n\n    .dataframe tbody tr th {\n        vertical-align: top;\n    }\n\n    .dataframe thead th {\n        text-align: right;\n    }\n</style>\n<table border=\"1\" class=\"dataframe\">\n  <thead>\n    <tr style=\"text-align: right;\">\n      <th></th>\n      <th>premise</th>\n      <th>hypothesis</th>\n      <th>lila_label</th>\n      <th>lila_script</th>\n    </tr>\n  </thead>\n  <tbody>\n    <tr>\n      <th>0</th>\n      <td>In a deck of less than 72 cards , how many way...</td>\n      <td>In a deck of 52 cards , how many ways are ther...</td>\n      <td>neutral</td>\n      <td>DeckOfCardStatement1= None \\nDeckOfCardStateme...</td>\n    </tr>\n    <tr>\n      <th>1</th>\n      <td>If out of 41 questions solved by Rajesh 37 que...</td>\n      <td>If out of 31 questions solved by Rajesh 37 que...</td>\n      <td>contradiction</td>\n      <td>RajeshHaveQuestionsS1 = 41 \\nRajeshHaveQuestio...</td>\n    </tr>\n    <tr>\n      <th>2</th>\n      <td>Alice drives at a constant speed of 30 km per ...</td>\n      <td>Alice drives at a constant speed of 20 km per ...</td>\n      <td>contradiction</td>\n      <td>DrivesSpeedS1 = 30\\nDrivesSpeedS2 = 20\\nif Dri...</td>\n    </tr>\n    <tr>\n      <th>3</th>\n      <td>Mary is 22 years younger than Albert</td>\n      <td>Mary is 72 years younger than Albert</td>\n      <td>contradiction</td>\n      <td>AgeS1 = 22\\nAgeS2 = 72\\nif AgeS1 is None or Ag...</td>\n    </tr>\n    <tr>\n      <th>4</th>\n      <td>Assuming that Karen drives at an average speed...</td>\n      <td>Assuming that Karen drives at an average speed...</td>\n      <td>neutral</td>\n      <td>\\nDriveS2 = 60\\nDriveS1 = None\\nif DriveS1 is ...</td>\n    </tr>\n  </tbody>\n</table>\n</div>"
     },
     "execution_count": 150,
     "metadata": {},
     "output_type": "execute_result"
    }
   ],
   "source": [
    "lila_train = pd.DataFrame(train)\n",
    "lila_test = pd.DataFrame(test)\n",
    "lila_val = pd.DataFrame(val)\n",
    "lila_val.head()"
   ],
   "metadata": {
    "collapsed": false
   }
  },
  {
   "cell_type": "code",
   "execution_count": 151,
   "outputs": [],
   "source": [
    "lila_val[\"lila_label\"] = lila_val[\"lila_label\"].apply(lambda label: label.lower())\n",
    "lila_val[\"lila_label\"] = lila_val[\"lila_label\"].apply(lambda label: label.lower())\n",
    "lila_val[\"lila_label\"] = lila_val[\"lila_label\"].apply(lambda label: label.lower())"
   ],
   "metadata": {
    "collapsed": false
   }
  },
  {
   "cell_type": "code",
   "execution_count": 152,
   "outputs": [],
   "source": [
    "for col in [\"premise\", \"hypothesis\"]:\n",
    "    lila_train[col] = lila_train[col].apply(lambda text: clean_text(text))\n",
    "    lila_test[col] = lila_test[col].apply(lambda text: clean_text(text))\n",
    "    lila_val[col] = lila_val[col].apply(lambda text: clean_text(text))"
   ],
   "metadata": {
    "collapsed": false
   }
  },
  {
   "cell_type": "code",
   "execution_count": 153,
   "outputs": [],
   "source": [
    "lila_train = lila_train[~lila_train.duplicated(subset=['premise', 'hypothesis'])]\n",
    "lila_test = lila_test[~lila_test.duplicated(subset=['premise', 'hypothesis'])]\n",
    "lila_val = lila_val[~lila_val.duplicated(subset=['premise', 'hypothesis'])]"
   ],
   "metadata": {
    "collapsed": false
   }
  },
  {
   "cell_type": "code",
   "execution_count": 154,
   "outputs": [
    {
     "name": "stdout",
     "output_type": "stream",
     "text": [
      "4302 1217 806\n"
     ]
    }
   ],
   "source": [
    "print(lila_train.shape[0], lila_test.shape[0], lila_val.shape[0])"
   ],
   "metadata": {
    "collapsed": false
   }
  },
  {
   "cell_type": "code",
   "execution_count": null,
   "outputs": [],
   "source": [
    "lila_train.to_csv(os.path.join(root_path, \"data\", \"lila\", \"lila_train.csv\"), index=False)\n",
    "lila_test.to_csv(os.path.join(root_path, \"data\", \"lila\", \"lila_test.csv\"), index=False)\n",
    "lila_val.to_csv(os.path.join(root_path, \"data\", \"lila\", \"lila_val.csv\"), index=False)"
   ],
   "metadata": {
    "collapsed": false
   }
  },
  {
   "cell_type": "code",
   "execution_count": 109,
   "outputs": [],
   "source": [
    "lila_all = []\n",
    "lila_all.extend(train)\n",
    "lila_all.extend(test)\n",
    "lila_all.extend(val)"
   ],
   "metadata": {
    "collapsed": false
   }
  },
  {
   "cell_type": "code",
   "execution_count": 114,
   "outputs": [
    {
     "data": {
      "text/plain": "6325"
     },
     "execution_count": 114,
     "metadata": {},
     "output_type": "execute_result"
    }
   ],
   "source": [
    "lila_all_df = pd.DataFrame(lila_all)\n",
    "lila_all_df.shape[0]"
   ],
   "metadata": {
    "collapsed": false
   }
  },
  {
   "cell_type": "code",
   "execution_count": 113,
   "outputs": [
    {
     "data": {
      "text/plain": "0"
     },
     "execution_count": 113,
     "metadata": {},
     "output_type": "execute_result"
    }
   ],
   "source": [
    "lila_all_df[lila_all_df.duplicated(subset=[\"premise\", \"hypothesis\"])].shape[0]"
   ],
   "metadata": {
    "collapsed": false
   }
  },
  {
   "cell_type": "code",
   "execution_count": 115,
   "outputs": [],
   "source": [
    "for col in [\"premise\", \"hypothesis\"]:\n",
    "    lila_all_df[col] = lila_all_df[col].apply(lambda text: clean_text(text))"
   ],
   "metadata": {
    "collapsed": false
   }
  },
  {
   "cell_type": "code",
   "execution_count": 116,
   "outputs": [
    {
     "data": {
      "text/plain": "0"
     },
     "execution_count": 116,
     "metadata": {},
     "output_type": "execute_result"
    }
   ],
   "source": [
    "lila_all_df[lila_all_df.duplicated(subset=[\"premise\", \"hypothesis\"])].shape[0]"
   ],
   "metadata": {
    "collapsed": false
   }
  },
  {
   "cell_type": "markdown",
   "source": [
    "## Merge LILA samples with EQUATE samples per EQUATE dataset"
   ],
   "metadata": {
    "collapsed": false
   }
  },
  {
   "cell_type": "code",
   "execution_count": 155,
   "outputs": [
    {
     "data": {
      "text/plain": "(4302, 4)"
     },
     "execution_count": 155,
     "metadata": {},
     "output_type": "execute_result"
    }
   ],
   "source": [
    "lila_train.shape"
   ],
   "metadata": {
    "collapsed": false
   }
  },
  {
   "cell_type": "code",
   "execution_count": 156,
   "outputs": [
    {
     "name": "stdout",
     "output_type": "stream",
     "text": [
      "#######NewsNLI#######\n",
      "Total instances: 963\n",
      "Train: 562\n",
      "Test: 0\n",
      "Val: 0\n",
      "Train: lila_label\n",
      "Entailment    312\n",
      "neutral       250\n",
      "Name: count, dtype: int64\n",
      "Test: Series([], Name: count, dtype: int64)\n",
      "Val: Series([], Name: count, dtype: int64)\n",
      "#######RTE_Quant#######\n",
      "Total instances: 165\n",
      "Train: 103\n",
      "Test: 0\n",
      "Val: 0\n",
      "Train: lila_label\n",
      "neutral       52\n",
      "Entailment    51\n",
      "Name: count, dtype: int64\n",
      "Test: Series([], Name: count, dtype: int64)\n",
      "Val: Series([], Name: count, dtype: int64)\n",
      "#######RedditNLI#######\n",
      "Total instances: 247\n",
      "Train: 0\n",
      "Test: 0\n",
      "Val: 0\n",
      "Train: Series([], Name: count, dtype: int64)\n",
      "Test: Series([], Name: count, dtype: int64)\n",
      "Val: Series([], Name: count, dtype: int64)\n",
      "#######StressTest#######\n",
      "Total instances: 6947\n",
      "Train: 3112\n",
      "Test: 1217\n",
      "Val: 806\n",
      "Train: lila_label\n",
      "neutral          1049\n",
      "contradiction    1048\n",
      "Entailment       1015\n",
      "Name: count, dtype: int64\n",
      "Test: lila_label\n",
      "contradiction    466\n",
      "Entailment       382\n",
      "neutral          369\n",
      "Name: count, dtype: int64\n",
      "Val: lila_label\n",
      "contradiction    276\n",
      "neutral          275\n",
      "entailment       255\n",
      "Name: count, dtype: int64\n",
      "#######AWPNLI#######\n",
      "Total instances: 722\n",
      "Train: 525\n",
      "Test: 0\n",
      "Val: 0\n",
      "Train: lila_label\n",
      "Entailment       266\n",
      "contradiction    259\n",
      "Name: count, dtype: int64\n",
      "Test: Series([], Name: count, dtype: int64)\n",
      "Val: Series([], Name: count, dtype: int64)\n"
     ]
    }
   ],
   "source": [
    "from qnli_datasets import read_data\n",
    "\n",
    "datasets = [\"NewsNLI\", \"RTE_Quant\", \"RedditNLI\", \"StressTest\", \"AWPNLI\"]\n",
    "\n",
    "for dataset in datasets:\n",
    "    print(f\"#######{dataset}#######\")\n",
    "    instances, _ = read_data(f\"{dataset}.jsonl\")\n",
    "    equate_df = pd.DataFrame(instances)\n",
    "    equate_df[\"sample_index\"] = equate_df.index\n",
    "    equate_df[\"premise\"] = equate_df[\"premise\"].apply(lambda text: clean_text(text))\n",
    "    equate_df[\"hypothesis\"] = equate_df[\"hypothesis\"].apply(lambda text: clean_text(text))\n",
    "    equate_df = equate_df[~equate_df.duplicated(subset=['premise', 'hypothesis'])]\n",
    "    print(f\"Total instances: {equate_df.shape[0]}\")\n",
    "    equate_lila_train = pd.merge(equate_df, lila_train, on=[\"premise\", \"hypothesis\"], how=\"inner\")\n",
    "    equate_lila_test = pd.merge(equate_df, lila_test, on=[\"premise\", \"hypothesis\"], how=\"inner\")\n",
    "    equate_lila_val = pd.merge(equate_df, lila_val, on=[\"premise\", \"hypothesis\"], how=\"inner\")\n",
    "    print(f\"Train: {equate_lila_train.shape[0]}\\nTest: {equate_lila_test.shape[0]}\\nVal: {equate_lila_val.shape[0]}\")\n",
    "    print(f\"Train: {equate_lila_train['lila_label'].value_counts()}\\nTest: {equate_lila_test['lila_label'].value_counts()}\\nVal: {equate_lila_val['lila_label'].value_counts()}\")\n",
    "    output_path = os.path.join(root_path, \"data\", \"lila-equate\", dataset)\n",
    "    os.makedirs(output_path, exist_ok=True)\n",
    "    if equate_lila_train.shape[0] > 0:\n",
    "        equate_lila_train.to_csv(os.path.join(output_path, \"train.csv\"), index=False)\n",
    "    if equate_lila_test.shape[0] > 0:\n",
    "        equate_lila_test.to_csv(os.path.join(output_path, \"test.csv\"), index=False)\n",
    "    if equate_lila_val.shape[0] > 0:\n",
    "        equate_lila_val.to_csv(os.path.join(output_path, \"val.csv\"), index=False)"
   ],
   "metadata": {
    "collapsed": false
   }
  }
 ],
 "metadata": {
  "kernelspec": {
   "display_name": "Python 3",
   "language": "python",
   "name": "python3"
  },
  "language_info": {
   "codemirror_mode": {
    "name": "ipython",
    "version": 2
   },
   "file_extension": ".py",
   "mimetype": "text/x-python",
   "name": "python",
   "nbconvert_exporter": "python",
   "pygments_lexer": "ipython2",
   "version": "2.7.6"
  }
 },
 "nbformat": 4,
 "nbformat_minor": 0
}
