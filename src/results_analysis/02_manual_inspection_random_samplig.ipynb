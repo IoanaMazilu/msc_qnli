{
 "cells": [
  {
   "cell_type": "code",
   "execution_count": 2,
   "metadata": {
    "collapsed": true
   },
   "outputs": [],
   "source": [
    "import os\n",
    "import pandas as pd"
   ]
  },
  {
   "cell_type": "code",
   "execution_count": 3,
   "outputs": [],
   "source": [
    "root_path = os.path.dirname(os.path.dirname(os.getcwd()))"
   ],
   "metadata": {
    "collapsed": false
   }
  },
  {
   "cell_type": "code",
   "execution_count": 6,
   "outputs": [],
   "source": [
    "# for dataset in [\"StressTest\", \"AWPNLI\", \"NewsNLI\", \"RedditNLI\", \"RTE_Quant\"]:\n",
    "#     training_data = pd.read_csv(os.path.join(root_path, \"data\", \"finetuning\", dataset, \"train.csv\"))\n",
    "#     validation_sample = training_data.sample(frac=0.1)[[\"sample_index\", \"premise\", \"hypothesis\", \"golden_label\", \"generated_label\", \"completion\"]]\n",
    "#     os.makedirs(os.path.join(root_path, \"data_validation\", \"gpt4\"), exist_ok=True)\n",
    "#     validation_sample.to_excel(os.path.join(root_path, \"data_validation\", \"gpt4\", f\"{dataset}.xlsx\"))"
   ],
   "metadata": {
    "collapsed": false
   }
  },
  {
   "cell_type": "code",
   "execution_count": 3,
   "outputs": [],
   "source": [
    "# for dataset in [\"NewsNLI\", \"RedditNLI\", \"RTE_Quant\", \"AWPNLI\"]:\n",
    "#     training_data = pd.read_csv(os.path.join(root_path, \"data\", \"finetuning\", dataset, \"train.csv\"))\n",
    "#     validation_sample = training_data.sample(frac=min(100, training_data.shape[0])/training_data.shape[0])[[\"sample_index\", \"premise\", \"hypothesis\", \"golden_label\", \"generated_label\", \"completion\"]]\n",
    "#     os.makedirs(os.path.join(root_path, \"data_validation\", \"gpt4\"), exist_ok=True)\n",
    "#     validation_sample.to_excel(os.path.join(root_path, \"data_validation\", \"gpt4\", f\"{dataset}.xlsx\"))"
   ],
   "metadata": {
    "collapsed": false
   }
  },
  {
   "cell_type": "code",
   "execution_count": 4,
   "outputs": [],
   "source": [
    "for dataset in [\"StressTest\", \"AWPNLI\", \"NewsNLI\", \"RedditNLI\", \"RTE_Quant\"]:\n",
    "    training_data = pd.read_csv(os.path.join(root_path, \"data\", \"finetuning\", dataset, \"train.csv\"))\n",
    "    validation_sample = training_data.sample(n=50)[[\"sample_index\", \"premise\", \"hypothesis\"]]\n",
    "    os.makedirs(os.path.join(root_path, \"data_validation\", \"train_samples\"), exist_ok=True)\n",
    "    validation_sample.to_excel(os.path.join(root_path, \"data_validation\", \"train_samples\", f\"{dataset}.xlsx\"))"
   ],
   "metadata": {
    "collapsed": false
   }
  },
  {
   "cell_type": "code",
   "execution_count": 9,
   "outputs": [],
   "source": [
    "results = pd.read_excel(os.path.join(root_path, \"results_inference\", \"codellama-instruct\", \"13B\", \"6001211_finetuned\", \"evaluation\", \"qnli_classification_results.xlsx\"), usecols=[\"sample_index\", \"source\", \"premise\", \"hypothesis\", \"inferred_label\", \"golden_label\"])\n",
    "\n",
    "for dataset in [\"StressTest\", \"AWPNLI\", \"NewsNLI\", \"RedditNLI\", \"RTE_Quant\"]:\n",
    "    filtered_results = results[results[\"source\"] == dataset.replace(\"_\", \"\").lower()]\n",
    "    correct_label = filtered_results[filtered_results[\"golden_label\"] == filtered_results[\"inferred_label\"]]\n",
    "    validation_sample = correct_label.sample(n=min(50, correct_label.shape[0]))[[\"sample_index\", \"golden_label\", \"premise\", \"hypothesis\"]]\n",
    "    os.makedirs(os.path.join(root_path, \"data_validation\", \"test_correct_samples\"), exist_ok=True)\n",
    "    validation_sample.to_excel(os.path.join(root_path, \"data_validation\", \"test_correct_samples\", f\"{dataset}.xlsx\"))\n",
    "\n",
    "    incorrect_label = filtered_results[filtered_results[\"golden_label\"] != filtered_results[\"inferred_label\"]]\n",
    "    validation_sample = incorrect_label.sample(n=min(50, incorrect_label.shape[0]))[[\"sample_index\", \"golden_label\", \"premise\", \"hypothesis\"]]\n",
    "    os.makedirs(os.path.join(root_path, \"data_validation\", \"test_incorrect_samples\"), exist_ok=True)\n",
    "    validation_sample.to_excel(os.path.join(root_path, \"data_validation\", \"test_incorrect_samples\", f\"{dataset}.xlsx\"))"
   ],
   "metadata": {
    "collapsed": false
   }
  },
  {
   "cell_type": "code",
   "execution_count": null,
   "outputs": [],
   "source": [],
   "metadata": {
    "collapsed": false
   }
  }
 ],
 "metadata": {
  "kernelspec": {
   "display_name": "Python 3",
   "language": "python",
   "name": "python3"
  },
  "language_info": {
   "codemirror_mode": {
    "name": "ipython",
    "version": 2
   },
   "file_extension": ".py",
   "mimetype": "text/x-python",
   "name": "python",
   "nbconvert_exporter": "python",
   "pygments_lexer": "ipython2",
   "version": "2.7.6"
  }
 },
 "nbformat": 4,
 "nbformat_minor": 0
}
