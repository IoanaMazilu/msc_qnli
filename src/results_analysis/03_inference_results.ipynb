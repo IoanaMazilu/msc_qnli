{
 "cells": [
  {
   "cell_type": "code",
   "execution_count": 158,
   "metadata": {
    "collapsed": true
   },
   "outputs": [],
   "source": [
    "import os\n",
    "import numpy as np\n",
    "import pandas as pd\n",
    "import re\n",
    "from rouge_score import rouge_scorer\n",
    "from typing import Optional\n",
    "from sklearn.metrics import classification_report, accuracy_score"
   ]
  },
  {
   "cell_type": "code",
   "execution_count": 159,
   "outputs": [],
   "source": [
    "results_overview = dict()"
   ],
   "metadata": {
    "collapsed": false
   }
  },
  {
   "cell_type": "code",
   "execution_count": 160,
   "outputs": [],
   "source": [
    "root_path = os.path.dirname(os.path.dirname(os.getcwd()))"
   ],
   "metadata": {
    "collapsed": false
   }
  },
  {
   "cell_type": "code",
   "execution_count": 161,
   "outputs": [],
   "source": [
    "## INFERENCE LLAMA2 - 7B\n",
    "# model_name = \"llama-2-chat\"\n",
    "# model_size = \"7B\"\n",
    "# model_display_name = \"Llama-2 7B\"\n",
    "## base model\n",
    "# job_id = \"5817639\"\n",
    "## finetuned\n",
    "# job_id = \"5820349_finetuned\"\n",
    "## fintuned with balanced dataset\n",
    "# job_id = \"5836402_finetuned\"\n",
    "## inputs only\n",
    "# job_id = \"6090550_finetuned\" ## (duplicate of 6153680)\n",
    "# job_id = \"6156654_finetuned\" ## different hyperparams\n",
    "# job_id = \"6220572_finetuned\"  ## (new, prompt with instructions)\n",
    "\n",
    "## INFERENCE LLAMA2 - 13B\n",
    "# model_name = \"llama-2-chat\"\n",
    "# model_size = \"13B\"\n",
    "# model_display_name = \"Llama-2 13B\"\n",
    "## base model\n",
    "# job_id = \"5822467\"\n",
    "## finetuned\n",
    "# job_id = \"5830782_finetuned\"\n",
    "\n",
    "## INFERENCE CODELLAMA - PYTHON 7B\n",
    "# model_name = \"codellama-python\"\n",
    "# model_size = \"7B\"\n",
    "# model_display_name = \"CodeLlama-Python 7B\"\n",
    "## base model\n",
    "# job_id = \"5852469\"\n",
    "## finetuned\n",
    "# job_id = \"5897597_finetuned\"\n",
    "\n",
    "## INFERENCE CODELLAMA - PYTHON 13B\n",
    "# model_name = \"codellama-python\"\n",
    "# model_size = \"13B\"\n",
    "# model_display_name = \"CodeLlama-Python 13B\"\n",
    "## base model\n",
    "# job_id = \"5919626\"\n",
    "## finetuned\n",
    "# job_id = \"6127255_finetuned\"\n",
    "## finetuned with diff LR and batch size\n",
    "# job_id = \"6138639_finetuned\"\n",
    "\n",
    "## INFERENCE CODELLAMA - INSTRUCT 7B\n",
    "# model_name = \"codellama-instruct\"\n",
    "# model_size = \"7B\"\n",
    "# model_display_name = \"CodeLlama-Instruct 7B\"\n",
    "# # base model\n",
    "# job_id = \"5858736\"\n",
    "## finetuned\n",
    "# job_id = \"5892669_finetuned\"\n",
    "## inputs only\n",
    "# job_id = \"6153680_finetuned\"  # incorrect prompt\n",
    "# job_id = \"6217554_finetuned\"\n",
    "# job_id = \"\"\n",
    "\n",
    "## INFERENCE CODELLAMA - INSTRUCT 13B\n",
    "# model_name = \"codellama-instruct\"\n",
    "# model_size = \"13B\"\n",
    "# model_display_name = \"CodeLlama-Instruct 13B\"\n",
    "# # base model\n",
    "# job_id = \"5875184\"\n",
    "# finetuned\n",
    "# job_id = \"6001211_finetuned\"\n",
    "\n",
    "## INFERENCE LLAMA-3 8B\n",
    "# model_name = \"llama3\"\n",
    "# model_size = \"8B\"\n",
    "# # base model\n",
    "# job_id = \"6013398\"\n",
    "\n",
    "results_path = os.path.join(root_path, \"results_inference\", model_name, model_size, job_id)"
   ],
   "metadata": {
    "collapsed": false
   }
  },
  {
   "cell_type": "code",
   "execution_count": 162,
   "outputs": [
    {
     "name": "stdout",
     "output_type": "stream",
     "text": [
      "1736\n",
      "Index(['sample_index', 'completion', 'prompt', 'source', 'input_prompt',\n",
      "       'inferred_completion'],\n",
      "      dtype='object')\n"
     ]
    }
   ],
   "source": [
    "os.makedirs(os.path.join(results_path, \"evaluation_new\"), exist_ok=True)\n",
    "try:\n",
    "    test_set = pd.read_csv(os.path.join(results_path, \"test.csv\"))\n",
    "except FileNotFoundError:\n",
    "    test_set = pd.DataFrame()\n",
    "    for i in [1, 2, 3, 4]:\n",
    "        try:\n",
    "            test_split = pd.read_csv(os.path.join(results_path, f\"test_{i}.csv\"))\n",
    "            test_set = pd.concat([test_set, test_split], ignore_index=True)\n",
    "        except FileNotFoundError:\n",
    "            pass\n",
    "    test_set.rename(columns={\"inferred_script\": \"inferred_completion\"}, inplace=True)\n",
    "print(test_set.shape[0])\n",
    "print(test_set.columns)"
   ],
   "metadata": {
    "collapsed": false
   }
  },
  {
   "cell_type": "code",
   "execution_count": 163,
   "outputs": [],
   "source": [
    "test_set.rename(columns={\"inferred_script\": \"inferred_completion\"}, inplace=True)"
   ],
   "metadata": {
    "collapsed": false
   }
  },
  {
   "cell_type": "code",
   "execution_count": 164,
   "outputs": [
    {
     "data": {
      "text/plain": "0"
     },
     "execution_count": 164,
     "metadata": {},
     "output_type": "execute_result"
    }
   ],
   "source": [
    "test_set[test_set.duplicated(subset=[\"sample_index\", \"source\"])].shape[0]"
   ],
   "metadata": {
    "collapsed": false
   }
  },
  {
   "cell_type": "code",
   "execution_count": 165,
   "outputs": [
    {
     "data": {
      "text/plain": "   sample_index                                         completion  \\\n0           386  ```python\\npicked_pears_keith = 47.0\\npicked_p...   \n1           140  ```python\\ninitial_students_premise = 10.0\\nst...   \n2           199  ```python\\nrows_premise = 27.0\\nchairs_per_row...   \n3           321  ```python\\nchildren_premise = 4.0\\npencils_per...   \n4           633  ```python\\ncandy_premise = 3409.0\\neggs_premis...   \n\n                                              prompt  source  \\\n0  ### Instruction:\\n\\nYou must write Python code...  awpnli   \n1  ### Instruction:\\n\\nYou must write Python code...  awpnli   \n2  ### Instruction:\\n\\nYou must write Python code...  awpnli   \n3  ### Instruction:\\n\\nYou must write Python code...  awpnli   \n4  ### Instruction:\\n\\nYou must write Python code...  awpnli   \n\n                                        input_prompt  \\\n0  <s>[INST]\\n<<SYS>>\\nGive a response suitable t...   \n1  <s>[INST]\\n<<SYS>>\\nGive a response suitable t...   \n2  <s>[INST]\\n<<SYS>>\\nGive a response suitable t...   \n3  <s>[INST]\\n<<SYS>>\\nGive a response suitable t...   \n4  <s>[INST]\\n<<SYS>>\\nGive a response suitable t...   \n\n                                 inferred_completion  \n0  ```python\\npears_keith_picked_premise = 47.0\\n...  \n1  \\n```python\\nnum_students_premise = 10.0\\nnum_...  \n2  ```python\\nrows_premise = 27.0\\nchairs_per_row...  \n3  \\n```python\\nnum_children_premise = 4.0\\nnum_p...  \n4  ```python\\npieces_candy_premise = 3409.0\\nsecr...  ",
      "text/html": "<div>\n<style scoped>\n    .dataframe tbody tr th:only-of-type {\n        vertical-align: middle;\n    }\n\n    .dataframe tbody tr th {\n        vertical-align: top;\n    }\n\n    .dataframe thead th {\n        text-align: right;\n    }\n</style>\n<table border=\"1\" class=\"dataframe\">\n  <thead>\n    <tr style=\"text-align: right;\">\n      <th></th>\n      <th>sample_index</th>\n      <th>completion</th>\n      <th>prompt</th>\n      <th>source</th>\n      <th>input_prompt</th>\n      <th>inferred_completion</th>\n    </tr>\n  </thead>\n  <tbody>\n    <tr>\n      <th>0</th>\n      <td>386</td>\n      <td>```python\\npicked_pears_keith = 47.0\\npicked_p...</td>\n      <td>### Instruction:\\n\\nYou must write Python code...</td>\n      <td>awpnli</td>\n      <td>&lt;s&gt;[INST]\\n&lt;&lt;SYS&gt;&gt;\\nGive a response suitable t...</td>\n      <td>```python\\npears_keith_picked_premise = 47.0\\n...</td>\n    </tr>\n    <tr>\n      <th>1</th>\n      <td>140</td>\n      <td>```python\\ninitial_students_premise = 10.0\\nst...</td>\n      <td>### Instruction:\\n\\nYou must write Python code...</td>\n      <td>awpnli</td>\n      <td>&lt;s&gt;[INST]\\n&lt;&lt;SYS&gt;&gt;\\nGive a response suitable t...</td>\n      <td>\\n```python\\nnum_students_premise = 10.0\\nnum_...</td>\n    </tr>\n    <tr>\n      <th>2</th>\n      <td>199</td>\n      <td>```python\\nrows_premise = 27.0\\nchairs_per_row...</td>\n      <td>### Instruction:\\n\\nYou must write Python code...</td>\n      <td>awpnli</td>\n      <td>&lt;s&gt;[INST]\\n&lt;&lt;SYS&gt;&gt;\\nGive a response suitable t...</td>\n      <td>```python\\nrows_premise = 27.0\\nchairs_per_row...</td>\n    </tr>\n    <tr>\n      <th>3</th>\n      <td>321</td>\n      <td>```python\\nchildren_premise = 4.0\\npencils_per...</td>\n      <td>### Instruction:\\n\\nYou must write Python code...</td>\n      <td>awpnli</td>\n      <td>&lt;s&gt;[INST]\\n&lt;&lt;SYS&gt;&gt;\\nGive a response suitable t...</td>\n      <td>\\n```python\\nnum_children_premise = 4.0\\nnum_p...</td>\n    </tr>\n    <tr>\n      <th>4</th>\n      <td>633</td>\n      <td>```python\\ncandy_premise = 3409.0\\neggs_premis...</td>\n      <td>### Instruction:\\n\\nYou must write Python code...</td>\n      <td>awpnli</td>\n      <td>&lt;s&gt;[INST]\\n&lt;&lt;SYS&gt;&gt;\\nGive a response suitable t...</td>\n      <td>```python\\npieces_candy_premise = 3409.0\\nsecr...</td>\n    </tr>\n  </tbody>\n</table>\n</div>"
     },
     "execution_count": 165,
     "metadata": {},
     "output_type": "execute_result"
    }
   ],
   "source": [
    "test_set.head()"
   ],
   "metadata": {
    "collapsed": false
   }
  },
  {
   "cell_type": "code",
   "execution_count": 166,
   "outputs": [],
   "source": [
    "def has_python_script(text: str) -> bool:\n",
    "    \"\"\"There is a complete or incomplete script in the LLM completion\"\"\"\n",
    "    return (not pd.isna(text)) and (\"```python\" in text or \"```\" in text or \"START_CODE\" in text) and (\"### Instruction\" not in text and \"### Output\" not in text)\n",
    "\n",
    "def has_non_python_script(completion: str):\n",
    "    \"\"\"CodeLlama gives Golang scripts, detect those by some common keywords\"\"\"\n",
    "    return (not pd.isna(completion)) and (\"package main\" in completion or \"Println\" in completion or \":=\" in completion)\n",
    "\n",
    "def extract_script(text: str) -> Optional[str | None]:\n",
    "    \"\"\"Extract Python scripts from the completion\"\"\"\n",
    "    if pd.isna(text):\n",
    "        return np.nan\n",
    "    if \"START_CODE\" in text:\n",
    "        return extract_script_between_indicators(text, \"START_CODE\", \"# END_CODE\")\n",
    "    elif \"START_SECTION\" in text and \"```\" not in text:\n",
    "        return extract_script_between_indicators(text, \"START_SECTION\", \"#END_SECTION\")\n",
    "    elif \"write your code here\" in text:\n",
    "        return extract_script_with_write_code_here_indicator(text)\n",
    "    elif \"```python\" in text:\n",
    "        return extract_script_between_indicators(text, \"```python\\n```python\", \"\\n```\")\n",
    "    else:\n",
    "        script = extract_script_between_indicators(text, \"```\", \"```\")\n",
    "        if script == np.nan:\n",
    "            # sometimes the '''python part is missing\n",
    "            script = text.rsplit(\"```\", maxsplit=1)[0] + \"\\n\"\n",
    "            if script == \"\":\n",
    "                script = text.split(\"```\", maxsplit=1)[1].replace(\"python\", \"\")\n",
    "            if script.strip().strip(\"\\n\") == \"\":\n",
    "                return np.nan\n",
    "        return script\n",
    "        # code_extraction_regex, code_extraction_regex_backup = r\"```python([^`]+)```\", r\"```([^`]+)```\"\n",
    "        # scripts = re.findall(code_extraction_regex, text)\n",
    "        # if not scripts:\n",
    "        #     # rare case: max_tokens reached before \"```\" indicator is completely returned by LLM\n",
    "        #     scripts = re.findall(code_extraction_regex_backup, text)\n",
    "        #     if not scripts:\n",
    "        #         script = None\n",
    "        #         # sometimes the '''python part is missing\n",
    "        #         if \"```\" in text:\n",
    "        #             script = text.rsplit(\"```\", maxsplit=1)[0]\n",
    "        #             if script == \"\":\n",
    "        #                 script = text.split(\"```\", maxsplit=1)[1].replace(\"python\", \"\")\n",
    "        #         if script is None or script.strip().strip(\"\\n\") == \"\":\n",
    "        #             return np.nan\n",
    "        #         scripts = [script]\n",
    "\n",
    "        # return scripts[0].replace(\"`\", \"\").replace(\"python\", \"\").lstrip(\"\\n\")\n",
    "\n",
    "\n",
    "# def extract_script_with_start_code_indicators(text: str):\n",
    "#     code_extraction_regex = r\"START_CODE([^`]+)# END_CODE\"\n",
    "#     scripts = re.findall(code_extraction_regex, text)\n",
    "#     if not scripts:\n",
    "#         return np.nan\n",
    "#     return scripts[0].replace(\"START_CODE\", \"\").replace(\"# END_CODE\", \"\").lstrip(\"\\n\")\n",
    "\n",
    "def extract_script_with_write_code_here_indicator(text: str):\n",
    "    return text.split(\"write your code here\")[1].lstrip(\"\\n\")\n",
    "\n",
    "# def extract_script_with_start_section_indicators(text: str):\n",
    "#     code_extraction_regex = r\"START_SECTION([^`]+)#END_SECTION\"\n",
    "#     scripts = re.findall(code_extraction_regex, text)\n",
    "#     if not scripts:\n",
    "#         return np.nan\n",
    "#     script = scripts[0].replace(\"START_SECTION\", \"\").replace(\"#END_SECTION\", \"\").lstrip(\"\\n\")\n",
    "#     if not script.endswith(\"\\n\"):\n",
    "#         script += \"\\n\"\n",
    "#     return script\n",
    "\n",
    "def extract_script_between_indicators(text: str, start_indicator: str, end_indicator: str):\n",
    "    code_extraction_regex = fr\"{start_indicator}([^`]+){end_indicator}\"\n",
    "    scripts = re.findall(code_extraction_regex, text)\n",
    "    if not scripts:\n",
    "        return np.nan\n",
    "    script = scripts[0].replace(start_indicator, \"\").replace(end_indicator, \"\").lstrip(\"\\n\")\n",
    "    if not script.endswith(\"\\n\"):\n",
    "        script += \"\\n\"\n",
    "    return script"
   ],
   "metadata": {
    "collapsed": false
   }
  },
  {
   "cell_type": "code",
   "execution_count": 167,
   "outputs": [],
   "source": [
    "# script = \"\"\"START_CODE\n",
    "# some\n",
    "# script here\n",
    "# pam pam\n",
    "# # END_CODE\n",
    "# \"\"\"\n",
    "\n",
    "# extract_script_between_indicators(script, \"```python\", \"```\")\n",
    "# extract_script_between_indicators(script, \"```\", \"```\")\n",
    "# extract_script_between_indicators(script, \"START_SECTION\", \"#END_SECTION\")\n",
    "# extract_script_between_indicators(script, \"START_CODE\", \"# END_CODE\")"
   ],
   "metadata": {
    "collapsed": false
   }
  },
  {
   "cell_type": "markdown",
   "source": [
    "### Any empty completions?"
   ],
   "metadata": {
    "collapsed": false
   }
  },
  {
   "cell_type": "code",
   "execution_count": 168,
   "outputs": [
    {
     "data": {
      "text/plain": "0"
     },
     "execution_count": 168,
     "metadata": {},
     "output_type": "execute_result"
    }
   ],
   "source": [
    "empty_completions = test_set[(test_set[\"inferred_completion\"].isna()) | (test_set[\"inferred_completion\"].isin([\"\", \" \"]))].shape[0]\n",
    "results_overview[\"empty_completions\"] = empty_completions\n",
    "empty_completions"
   ],
   "metadata": {
    "collapsed": false
   }
  },
  {
   "cell_type": "markdown",
   "source": [
    "### How many completions with Python scripts?"
   ],
   "metadata": {
    "collapsed": false
   }
  },
  {
   "cell_type": "code",
   "execution_count": 169,
   "outputs": [
    {
     "data": {
      "text/plain": "1736"
     },
     "execution_count": 169,
     "metadata": {},
     "output_type": "execute_result"
    }
   ],
   "source": [
    "test_set[\"has_script\"] = test_set[\"inferred_completion\"].apply(lambda completion: has_python_script(completion))\n",
    "\n",
    "python_scripts = test_set[test_set[\"has_script\"] == True].shape[0]\n",
    "results_overview[\"python_scripts\"] = python_scripts\n",
    "python_scripts"
   ],
   "metadata": {
    "collapsed": false
   }
  },
  {
   "cell_type": "markdown",
   "source": [
    "### How many completions with Golang scripts?"
   ],
   "metadata": {
    "collapsed": false
   }
  },
  {
   "cell_type": "code",
   "execution_count": 170,
   "outputs": [
    {
     "data": {
      "text/plain": "0"
     },
     "execution_count": 170,
     "metadata": {},
     "output_type": "execute_result"
    }
   ],
   "source": [
    "test_set[\"has_non_python_script\"] = test_set[\"inferred_completion\"].apply(lambda completion: has_non_python_script(completion))\n",
    "\n",
    "non_python_scripts = test_set[test_set[\"has_non_python_script\"] == True].shape[0]\n",
    "results_overview[\"non_python_scripts\"] = non_python_scripts\n",
    "non_python_scripts"
   ],
   "metadata": {
    "collapsed": false
   }
  },
  {
   "cell_type": "markdown",
   "source": [
    "### Check there cannot be both Python and non-Python scripts in one completion"
   ],
   "metadata": {
    "collapsed": false
   }
  },
  {
   "cell_type": "code",
   "execution_count": 171,
   "outputs": [
    {
     "data": {
      "text/plain": "0"
     },
     "execution_count": 171,
     "metadata": {},
     "output_type": "execute_result"
    }
   ],
   "source": [
    "test_set[(test_set[\"has_script\"]==True) & (test_set[\"has_non_python_script\"]==True)].shape[0]"
   ],
   "metadata": {
    "collapsed": false
   }
  },
  {
   "cell_type": "markdown",
   "source": [
    "#### Per dataset, what is the split between generated (complete or not) scripts and missing scripts?"
   ],
   "metadata": {
    "collapsed": false
   }
  },
  {
   "cell_type": "code",
   "execution_count": 172,
   "outputs": [
    {
     "data": {
      "text/plain": "source      has_script\nawpnli      True           179\nnewsnli     True           239\nredditnli   True            61\nrtequant    True            40\nstresstest  True          1217\nName: sample_index, dtype: int64"
     },
     "execution_count": 172,
     "metadata": {},
     "output_type": "execute_result"
    }
   ],
   "source": [
    "test_set.groupby([\"source\", \"has_script\"]).count()[\"sample_index\"]"
   ],
   "metadata": {
    "collapsed": false
   }
  },
  {
   "cell_type": "markdown",
   "source": [
    "#### Inspect some of the identified Python scripts"
   ],
   "metadata": {
    "collapsed": false
   }
  },
  {
   "cell_type": "code",
   "execution_count": 173,
   "outputs": [],
   "source": [
    "test_set[\"inferred_script\"] = test_set[\"inferred_completion\"].apply(lambda completion: extract_script(completion))"
   ],
   "metadata": {
    "collapsed": false
   }
  },
  {
   "cell_type": "code",
   "execution_count": 174,
   "outputs": [
    {
     "data": {
      "text/plain": "'pears_keith_picked_premise = 47.0\\npears_mike_picked_premise = 12.0\\npears_keith_gave_away_premise = 46.0\\npears_mike_left_hypothesis = 13.0\\n\\n# the hypothesis refers to the number of pears left by Mike, which are also mentioned in the premise\\n# compute the total number of pears picked by both Keith and Mike\\ntotal_pears_picked_premise = pears_keith_picked_premise + pears_mike_picked_premise\\n# compute the total number of pears given away by Keith\\ntotal_pears_given_away_premise = pears_keith_gave_away_premise\\n# compute the total number of pears left by Mike\\ntotal_pears_left_premise = total_pears_picked_premise - total_pears_given_away_premise\\nif total_pears_left_premise!= pears_mike_left_hypothesis:\\n    # check if the number of pears left by Mike in the hypothesis contradicts the number of pears left from the premise\\n    label = \"contradiction\"\\nelse:\\n    # if the hypothesis values and estimates do not contradict the premise values, we can infer entailment\\n    label = \"entailment\"\\n\\nprint(label)\\n'"
     },
     "execution_count": 174,
     "metadata": {},
     "output_type": "execute_result"
    }
   ],
   "source": [
    "test_set[\"inferred_script\"].iloc[0]"
   ],
   "metadata": {
    "collapsed": false
   }
  },
  {
   "cell_type": "markdown",
   "source": [
    "### We notice that some scripts only return a boolean value, but there is no reasoning/math logic to infer it, so these scripts should be skipped during the evaluation"
   ],
   "metadata": {
    "collapsed": false
   }
  },
  {
   "cell_type": "code",
   "execution_count": 175,
   "outputs": [],
   "source": [
    "def returns_only_label(script: str):\n",
    "    \"\"\"Detect Python scripts that return directly a label, with no reasoning\"\"\"\n",
    "    if pd.isna(script):\n",
    "        return False\n",
    "    script = script.replace(\"\\n\", \"\").strip()\n",
    "    return script == \"True\" or script == \"False\""
   ],
   "metadata": {
    "collapsed": false
   }
  },
  {
   "cell_type": "code",
   "execution_count": 176,
   "outputs": [
    {
     "data": {
      "text/plain": "0"
     },
     "execution_count": 176,
     "metadata": {},
     "output_type": "execute_result"
    }
   ],
   "source": [
    "test_set[\"only_label\"] = test_set[\"inferred_script\"].apply(lambda script: returns_only_label(script))\n",
    "label_only = test_set[test_set[\"only_label\"] == True].shape[0]\n",
    "results_overview[\"label_only\"] = label_only\n",
    "label_only"
   ],
   "metadata": {
    "collapsed": false
   }
  },
  {
   "cell_type": "markdown",
   "source": [
    "#### For how many samples the `max_new_tokens` limit was exceeded before the full script could not be outputted?"
   ],
   "metadata": {
    "collapsed": false
   }
  },
  {
   "cell_type": "code",
   "execution_count": 177,
   "outputs": [
    {
     "data": {
      "text/plain": "2"
     },
     "execution_count": 177,
     "metadata": {},
     "output_type": "execute_result"
    }
   ],
   "source": [
    "def incomplete_script(has_script: bool, script: Optional[str | None]) -> bool:\n",
    "    return has_script and pd.isna(script)\n",
    "\n",
    "test_set[\"tokens_exceeded\"] = test_set.apply(lambda row: incomplete_script(row[\"has_script\"], row[\"inferred_script\"]), axis=1)\n",
    "tokens_exceeded = test_set[test_set[\"tokens_exceeded\"]==True].shape[0]\n",
    "results_overview[\"tokens_exceeded\"] = tokens_exceeded\n",
    "tokens_exceeded"
   ],
   "metadata": {
    "collapsed": false
   }
  },
  {
   "cell_type": "code",
   "execution_count": 178,
   "outputs": [],
   "source": [
    "test_set[\"expected_script\"] = test_set[\"completion\"].str.replace(\"```\", \"\")\n",
    "test_set[\"expected_script\"] = test_set[\"expected_script\"].str.replace(\"python\", \"\").str.lstrip(\"\\n\")"
   ],
   "metadata": {
    "collapsed": false
   }
  },
  {
   "cell_type": "markdown",
   "source": [
    "### COMPUTE SIMILARITY BETWEEN TARGET AND INFERRED COMPLETION"
   ],
   "metadata": {
    "collapsed": false
   }
  },
  {
   "cell_type": "code",
   "execution_count": 179,
   "outputs": [],
   "source": [
    "# Your generated text and the reference text\n",
    "generated_text = \"The weather outside is so good today!\"\n",
    "reference_text = \"Today we have such good weather outside!\""
   ],
   "metadata": {
    "collapsed": false
   }
  },
  {
   "cell_type": "markdown",
   "source": [
    "#### ROUGE metric"
   ],
   "metadata": {
    "collapsed": false
   }
  },
  {
   "cell_type": "code",
   "execution_count": 180,
   "outputs": [],
   "source": [
    "# Create a scorer object\n",
    "scorer_1 = rouge_scorer.RougeScorer(['rouge1'], use_stemmer=True)\n",
    "scorer_2 = rouge_scorer.RougeScorer(['rouge2'], use_stemmer=True)\n",
    "scorer_L = rouge_scorer.RougeScorer(['rougeL'], use_stemmer=True)\n",
    "\n",
    "def rouge1_score(reference_text: str, generated_text: str, compute_score: bool):\n",
    "    if not (pd.isna(reference_text) or pd.isna(generated_text)) and compute_score:\n",
    "        return round(scorer_1.score(reference_text, generated_text)['rouge1'].fmeasure, 4)\n",
    "    return np.nan\n",
    "\n",
    "def rouge2_score(reference_text: str, generated_text: str, compute_score: bool):\n",
    "    if not (pd.isna(reference_text) or pd.isna(generated_text)) and compute_score:\n",
    "        return round(scorer_2.score(reference_text, generated_text)['rouge2'].fmeasure, 4)\n",
    "    return np.nan\n",
    "\n",
    "def rougeL_score(reference_text: str, generated_text: str, compute_score: bool):\n",
    "    if not (pd.isna(reference_text) or pd.isna(generated_text)) and compute_score:\n",
    "        return round(scorer_L.score(reference_text, generated_text)['rougeL'].fmeasure, 4)\n",
    "    return np.nan"
   ],
   "metadata": {
    "collapsed": false
   }
  },
  {
   "cell_type": "code",
   "execution_count": 181,
   "outputs": [
    {
     "name": "stdout",
     "output_type": "stream",
     "text": [
      "0.5714\n",
      "0.1667\n",
      "0.2857\n"
     ]
    }
   ],
   "source": [
    "print(rouge1_score(reference_text, generated_text, True))\n",
    "print(rouge2_score(reference_text, generated_text, True))\n",
    "print(rougeL_score(reference_text, generated_text, True))"
   ],
   "metadata": {
    "collapsed": false
   }
  },
  {
   "cell_type": "markdown",
   "source": [
    "#### METEOR metric"
   ],
   "metadata": {
    "collapsed": false
   }
  },
  {
   "cell_type": "code",
   "execution_count": 182,
   "outputs": [
    {
     "name": "stdout",
     "output_type": "stream",
     "text": [
      "0.1429\n"
     ]
    },
    {
     "name": "stderr",
     "output_type": "stream",
     "text": [
      "[nltk_data] Downloading package wordnet to\n",
      "[nltk_data]     /Users/ioanamazilu/nltk_data...\n",
      "[nltk_data]   Package wordnet is already up-to-date!\n",
      "[nltk_data] Downloading package omw-1.4 to\n",
      "[nltk_data]     /Users/ioanamazilu/nltk_data...\n",
      "[nltk_data]   Package omw-1.4 is already up-to-date!\n"
     ]
    }
   ],
   "source": [
    "import nltk\n",
    "from nltk.translate.meteor_score import single_meteor_score\n",
    "\n",
    "# Ensure that NLTK's tokenizers and taggers are downloaded\n",
    "nltk.download('wordnet')\n",
    "nltk.download('omw-1.4')\n",
    "\n",
    "def meteor_score(reference_text: str, generated_text: str, compute_score: bool):\n",
    "    if not (pd.isna(reference_text) or pd.isna(generated_text)) and compute_score:\n",
    "        return round(single_meteor_score(reference_text.split(\" \"), generated_text.split(\" \")), 4)\n",
    "    return np.nan\n",
    "\n",
    "print(meteor_score(reference_text, generated_text, True))"
   ],
   "metadata": {
    "collapsed": false
   }
  },
  {
   "cell_type": "code",
   "execution_count": 183,
   "outputs": [],
   "source": [
    "# import nltk\n",
    "# from nltk.translate.bleu_score import SmoothingFunction, corpus_bleu\n",
    "# from tree_sitter import Language, Parser\n",
    "#\n",
    "# # Load your programming language grammar, assuming Python here\n",
    "# # Language.build_library(\n",
    "# #   'build/my-languages.so',\n",
    "# #   ['python']\n",
    "# # )\n",
    "# PY_LANGUAGE = Language('parser/my-languages.so', 'python')\n",
    "# parser = Parser()\n",
    "# parser.set_language(PY_LANGUAGE)\n",
    "#\n",
    "# def get_tokens(code):\n",
    "#     \"\"\"Extract tokens from source code using tree-sitter.\"\"\"\n",
    "#     tree = parser.parse(bytes(code, \"utf8\"))\n",
    "#     root_node = tree.root_node\n",
    "#     tokens = [node.text.decode('utf8') for node in root_node.walk() if node.type == 'identifier']\n",
    "#     return tokens\n",
    "#\n",
    "# # Example codes\n",
    "# generated_code = \"def add(a, b):\\n    return a + b\"\n",
    "# reference_code = [\"def add(num1, num2):\\n    return num1 + num2\"]\n",
    "#\n",
    "# # Tokenize codes\n",
    "# tokenized_generated_code = get_tokens(generated_code)\n",
    "# tokenized_reference_code = [get_tokens(ref) for ref in reference_code]\n",
    "#\n",
    "# # Compute BLEU score\n",
    "# chencherry = SmoothingFunction()\n",
    "# bleu_score = corpus_bleu(tokenized_reference_code, [tokenized_generated_code], smoothing_function=chencherry.method1)\n",
    "#\n",
    "# print(f\"CodeBLEU (simplified, BLEU part only) score: {bleu_score}\")"
   ],
   "metadata": {
    "collapsed": false
   }
  },
  {
   "cell_type": "markdown",
   "source": [
    "#### CHRF score"
   ],
   "metadata": {
    "collapsed": false
   }
  },
  {
   "cell_type": "code",
   "execution_count": 184,
   "outputs": [
    {
     "name": "stdout",
     "output_type": "stream",
     "text": [
      "CHRF score: 0.4935\n"
     ]
    },
    {
     "name": "stderr",
     "output_type": "stream",
     "text": [
      "[nltk_data] Downloading package punkt to\n",
      "[nltk_data]     /Users/ioanamazilu/nltk_data...\n",
      "[nltk_data]   Package punkt is already up-to-date!\n"
     ]
    }
   ],
   "source": [
    "import nltk\n",
    "from nltk.translate.chrf_score import sentence_chrf\n",
    "\n",
    "# Ensure that NLTK's tokenizers and data are available\n",
    "nltk.download('punkt')\n",
    "\n",
    "def chrf_score(reference_text: str, generated_text: str, compute_score: bool):\n",
    "    if not (pd.isna(reference_text) or pd.isna(generated_text)) and compute_score:\n",
    "        return round(sentence_chrf(reference_text, generated_text), 4)\n",
    "    return np.nan\n",
    "\n",
    "print(f\"CHRF score: {chrf_score(reference_text, generated_text, True)}\")"
   ],
   "metadata": {
    "collapsed": false
   }
  },
  {
   "cell_type": "markdown",
   "source": [
    "### Compare inferred and expected scripts only for valid Python scripts"
   ],
   "metadata": {
    "collapsed": false
   }
  },
  {
   "cell_type": "code",
   "execution_count": 185,
   "outputs": [
    {
     "data": {
      "text/plain": "1734"
     },
     "execution_count": 185,
     "metadata": {},
     "output_type": "execute_result"
    }
   ],
   "source": [
    "def evaluate_script(row):\n",
    "    \"\"\"Evaluate a script only if it is a complete Python script that does not return a label directly \"\"\"\n",
    "    return not row[\"tokens_exceeded\"] and not row[\"only_label\"] and row[\"has_script\"]\n",
    "\n",
    "test_set[\"evaluate_script\"] = test_set.apply(lambda row: evaluate_script(row), axis=1)\n",
    "evaluated_scripts = test_set[test_set[\"evaluate_script\"]==True].shape[0]\n",
    "results_overview[\"evaluated_scripts\"] = evaluated_scripts\n",
    "evaluated_scripts"
   ],
   "metadata": {
    "collapsed": false
   }
  },
  {
   "cell_type": "code",
   "execution_count": 186,
   "outputs": [],
   "source": [
    "test_set[\"rouge1_score\"] = test_set.apply(lambda row: rouge1_score(row[\"expected_script\"], row[\"inferred_script\"], row[\"evaluate_script\"]), axis=1)\n",
    "test_set[\"rouge2_score\"] = test_set.apply(lambda row: rouge2_score(row[\"expected_script\"], row[\"inferred_script\"], row[\"evaluate_script\"]), axis=1)\n",
    "test_set[\"rougeL_score\"] = test_set.apply(lambda row: rougeL_score(row[\"expected_script\"], row[\"inferred_script\"], row[\"evaluate_script\"]), axis=1)\n",
    "test_set[\"meteor_score\"] = test_set.apply(lambda row: meteor_score(row[\"expected_script\"], row[\"inferred_script\"], row[\"evaluate_script\"]), axis=1)\n",
    "test_set[\"chrf_score\"] = test_set.apply(lambda row: chrf_score(row[\"expected_script\"], row[\"inferred_script\"], row[\"evaluate_script\"]), axis=1)"
   ],
   "metadata": {
    "collapsed": false
   }
  },
  {
   "cell_type": "code",
   "execution_count": 187,
   "outputs": [
    {
     "data": {
      "text/plain": "                  mean       std\nrouge1_score  0.700233  0.162396\nrouge2_score  0.512777  0.201682\nrougeL_score  0.633561  0.179538\nmeteor_score  0.600381  0.208247\nchrf_score    0.658754  0.167556",
      "text/html": "<div>\n<style scoped>\n    .dataframe tbody tr th:only-of-type {\n        vertical-align: middle;\n    }\n\n    .dataframe tbody tr th {\n        vertical-align: top;\n    }\n\n    .dataframe thead th {\n        text-align: right;\n    }\n</style>\n<table border=\"1\" class=\"dataframe\">\n  <thead>\n    <tr style=\"text-align: right;\">\n      <th></th>\n      <th>mean</th>\n      <th>std</th>\n    </tr>\n  </thead>\n  <tbody>\n    <tr>\n      <th>rouge1_score</th>\n      <td>0.700233</td>\n      <td>0.162396</td>\n    </tr>\n    <tr>\n      <th>rouge2_score</th>\n      <td>0.512777</td>\n      <td>0.201682</td>\n    </tr>\n    <tr>\n      <th>rougeL_score</th>\n      <td>0.633561</td>\n      <td>0.179538</td>\n    </tr>\n    <tr>\n      <th>meteor_score</th>\n      <td>0.600381</td>\n      <td>0.208247</td>\n    </tr>\n    <tr>\n      <th>chrf_score</th>\n      <td>0.658754</td>\n      <td>0.167556</td>\n    </tr>\n  </tbody>\n</table>\n</div>"
     },
     "execution_count": 187,
     "metadata": {},
     "output_type": "execute_result"
    }
   ],
   "source": [
    "score_columns = [col for col in test_set.columns if \"_score\" in col]\n",
    "code_similarity_scores = test_set[score_columns].aggregate([\"mean\", \"std\"])\n",
    "\n",
    "code_similarity_scores.T"
   ],
   "metadata": {
    "collapsed": false
   }
  },
  {
   "cell_type": "markdown",
   "source": [
    "## Write the inferred scripts to python files for QNLI classification evaluation & code quality evaluation"
   ],
   "metadata": {
    "collapsed": false
   }
  },
  {
   "cell_type": "code",
   "execution_count": 188,
   "outputs": [
    {
     "data": {
      "text/plain": "evaluate_script\nTrue     1734\nFalse       2\nName: count, dtype: int64"
     },
     "execution_count": 188,
     "metadata": {},
     "output_type": "execute_result"
    }
   ],
   "source": [
    "test_set[\"evaluate_script\"].value_counts()"
   ],
   "metadata": {
    "collapsed": false
   }
  },
  {
   "cell_type": "code",
   "execution_count": 189,
   "outputs": [],
   "source": [
    "dataset_name_mapping = {\n",
    "    \"stresstest\": \"StressTest\",\n",
    "    \"rtequant\": \"RTE_Quant\",\n",
    "    \"awpnli\": \"AWPNLI\",\n",
    "    \"newsnli\": \"NewsNLI\",\n",
    "    \"redditnli\": \"RedditNLI\"\n",
    "}\n",
    "\n",
    "for _, dataset in dataset_name_mapping.items():\n",
    "    os.makedirs(os.path.join(results_path, \"scripts\", dataset), exist_ok=True)\n",
    "\n",
    "def write_script_to_file(sample_index: str, source_dataset: str, script: Optional[str | None], evaluate_script: bool):\n",
    "    if not evaluate_script:\n",
    "        return False\n",
    "    try:\n",
    "        with open(os.path.join(results_path, \"scripts\", dataset_name_mapping[source_dataset], f\"sample_{sample_index}.py\"), 'x') as f:\n",
    "            f.write(script)\n",
    "        return True\n",
    "    except FileExistsError:\n",
    "        with open(os.path.join(results_path, \"scripts\", dataset_name_mapping[source_dataset], f\"sample_{sample_index}.py\"), 'w') as f:\n",
    "            f.write(script)\n",
    "        return True"
   ],
   "metadata": {
    "collapsed": false
   }
  },
  {
   "cell_type": "code",
   "execution_count": 190,
   "outputs": [],
   "source": [
    "test_set[\"script_to_file\"] = test_set.apply(lambda row: write_script_to_file(row[\"sample_index\"], row[\"source\"], row[\"inferred_script\"], row[\"evaluate_script\"]), axis=1)"
   ],
   "metadata": {
    "collapsed": false
   }
  },
  {
   "cell_type": "code",
   "execution_count": 191,
   "outputs": [
    {
     "data": {
      "text/plain": "1734"
     },
     "execution_count": 191,
     "metadata": {},
     "output_type": "execute_result"
    }
   ],
   "source": [
    "test_set[test_set[\"script_to_file\"] == True].shape[0]"
   ],
   "metadata": {
    "collapsed": false
   }
  },
  {
   "cell_type": "code",
   "execution_count": 192,
   "outputs": [
    {
     "name": "stdout",
     "output_type": "stream",
     "text": [
      "0\n",
      "1\n",
      "2\n",
      "3\n",
      "4\n",
      "5\n",
      "6\n",
      "7\n",
      "8\n",
      "9\n",
      "10\n",
      "11\n",
      "12\n",
      "13\n",
      "14\n",
      "15\n",
      "16\n",
      "17\n",
      "18\n",
      "19\n",
      "20\n",
      "21\n",
      "22\n",
      "23\n",
      "24\n",
      "25\n",
      "26\n",
      "27\n",
      "28\n",
      "29\n",
      "30\n",
      "31\n",
      "32\n",
      "33\n",
      "34\n",
      "35\n",
      "36\n",
      "37\n",
      "38\n",
      "39\n",
      "40\n",
      "41\n",
      "42\n",
      "43\n",
      "44\n",
      "45\n",
      "46\n",
      "47\n",
      "48\n",
      "49\n",
      "50\n",
      "51\n",
      "52\n",
      "53\n",
      "54\n",
      "55\n",
      "56\n",
      "57\n",
      "58\n",
      "59\n",
      "60\n",
      "61\n",
      "62\n",
      "63\n",
      "64\n",
      "65\n",
      "66\n",
      "67\n",
      "68\n",
      "69\n",
      "70\n",
      "71\n",
      "72\n",
      "73\n",
      "74\n",
      "75\n",
      "76\n",
      "77\n",
      "78\n",
      "79\n",
      "80\n",
      "81\n",
      "82\n",
      "83\n",
      "84\n",
      "85\n",
      "86\n",
      "87\n",
      "88\n",
      "89\n",
      "90\n",
      "91\n",
      "92\n",
      "93\n",
      "94\n",
      "95\n",
      "96\n",
      "97\n",
      "98\n",
      "99\n",
      "100\n",
      "101\n",
      "102\n",
      "103\n",
      "104\n",
      "105\n",
      "106\n",
      "107\n",
      "108\n",
      "109\n",
      "110\n",
      "111\n",
      "112\n",
      "113\n",
      "114\n",
      "115\n",
      "116\n",
      "117\n",
      "118\n",
      "119\n",
      "120\n",
      "121\n",
      "122\n",
      "123\n",
      "124\n",
      "125\n",
      "126\n",
      "127\n",
      "128\n",
      "129\n",
      "130\n",
      "131\n",
      "132\n",
      "133\n",
      "134\n",
      "135\n",
      "136\n",
      "137\n",
      "138\n",
      "139\n",
      "140\n",
      "141\n",
      "142\n",
      "143\n",
      "144\n",
      "145\n",
      "146\n",
      "147\n",
      "148\n",
      "149\n",
      "150\n",
      "151\n",
      "152\n",
      "153\n",
      "154\n",
      "155\n",
      "156\n",
      "157\n",
      "158\n",
      "159\n",
      "160\n",
      "161\n",
      "162\n",
      "163\n",
      "164\n",
      "165\n",
      "166\n",
      "167\n",
      "168\n",
      "169\n",
      "170\n",
      "171\n",
      "172\n",
      "173\n",
      "174\n",
      "175\n",
      "176\n",
      "177\n",
      "178\n",
      "179\n",
      "180\n",
      "181\n",
      "182\n",
      "183\n",
      "184\n",
      "185\n",
      "186\n",
      "187\n",
      "188\n",
      "189\n",
      "190\n",
      "191\n",
      "192\n",
      "193\n",
      "194\n",
      "195\n",
      "196\n",
      "197\n",
      "198\n",
      "199\n",
      "200\n",
      "201\n",
      "202\n",
      "203\n",
      "204\n",
      "205\n",
      "206\n",
      "207\n",
      "208\n",
      "209\n",
      "210\n",
      "211\n",
      "212\n",
      "213\n",
      "214\n",
      "215\n",
      "216\n",
      "217\n",
      "218\n",
      "219\n",
      "220\n",
      "221\n",
      "222\n",
      "223\n",
      "224\n",
      "225\n",
      "226\n",
      "227\n",
      "228\n",
      "229\n",
      "230\n",
      "231\n",
      "232\n",
      "233\n",
      "234\n",
      "235\n",
      "236\n",
      "237\n",
      "238\n",
      "239\n",
      "240\n",
      "241\n",
      "242\n",
      "243\n",
      "244\n",
      "245\n",
      "246\n",
      "247\n",
      "248\n",
      "249\n",
      "250\n",
      "251\n",
      "252\n",
      "253\n",
      "254\n",
      "255\n",
      "256\n",
      "257\n",
      "258\n",
      "259\n",
      "260\n",
      "261\n",
      "262\n",
      "263\n",
      "264\n",
      "265\n",
      "266\n",
      "267\n",
      "268\n",
      "269\n",
      "270\n",
      "271\n",
      "272\n",
      "273\n",
      "274\n",
      "275\n",
      "276\n",
      "277\n",
      "278\n",
      "279\n",
      "280\n",
      "281\n",
      "282\n",
      "283\n",
      "284\n",
      "285\n",
      "286\n",
      "287\n",
      "288\n",
      "289\n",
      "290\n",
      "291\n",
      "292\n",
      "293\n",
      "294\n",
      "295\n",
      "296\n",
      "297\n",
      "298\n",
      "299\n",
      "300\n",
      "301\n",
      "302\n",
      "303\n",
      "304\n",
      "305\n",
      "306\n",
      "307\n",
      "308\n",
      "309\n",
      "310\n",
      "311\n",
      "312\n",
      "313\n",
      "314\n",
      "315\n",
      "316\n",
      "317\n",
      "318\n",
      "319\n",
      "320\n",
      "321\n",
      "322\n",
      "323\n",
      "324\n",
      "325\n",
      "326\n",
      "327\n",
      "328\n",
      "329\n",
      "330\n",
      "331\n",
      "332\n",
      "333\n",
      "334\n",
      "335\n",
      "336\n",
      "337\n",
      "338\n",
      "339\n",
      "340\n",
      "341\n",
      "342\n",
      "343\n",
      "344\n",
      "345\n",
      "346\n",
      "347\n",
      "348\n",
      "349\n",
      "350\n",
      "351\n",
      "352\n",
      "353\n",
      "354\n",
      "355\n",
      "356\n",
      "357\n",
      "358\n",
      "359\n",
      "360\n",
      "361\n",
      "362\n",
      "363\n",
      "364\n",
      "365\n",
      "366\n",
      "367\n",
      "368\n",
      "369\n",
      "370\n",
      "371\n",
      "372\n",
      "373\n",
      "374\n",
      "375\n",
      "376\n",
      "377\n",
      "378\n",
      "379\n",
      "380\n",
      "381\n",
      "382\n",
      "383\n",
      "384\n",
      "385\n",
      "386\n",
      "387\n",
      "388\n",
      "389\n",
      "390\n",
      "391\n",
      "392\n",
      "393\n",
      "394\n",
      "395\n",
      "396\n",
      "397\n",
      "398\n",
      "399\n",
      "400\n",
      "401\n",
      "402\n",
      "403\n",
      "404\n",
      "405\n",
      "406\n",
      "407\n",
      "408\n",
      "409\n",
      "410\n",
      "411\n",
      "412\n",
      "413\n",
      "414\n",
      "415\n",
      "416\n",
      "417\n",
      "418\n",
      "419\n",
      "420\n",
      "421\n",
      "422\n",
      "423\n",
      "424\n",
      "425\n",
      "426\n",
      "427\n",
      "428\n",
      "429\n",
      "430\n",
      "431\n",
      "432\n",
      "433\n",
      "434\n",
      "435\n",
      "436\n",
      "437\n",
      "438\n",
      "439\n",
      "440\n",
      "441\n",
      "442\n",
      "443\n",
      "444\n",
      "445\n",
      "446\n",
      "447\n",
      "448\n",
      "449\n",
      "450\n",
      "451\n",
      "452\n",
      "453\n",
      "454\n",
      "455\n",
      "456\n",
      "457\n",
      "458\n",
      "459\n",
      "460\n",
      "461\n",
      "462\n",
      "463\n",
      "464\n",
      "465\n",
      "466\n",
      "467\n",
      "468\n",
      "469\n",
      "470\n",
      "471\n",
      "472\n",
      "473\n",
      "474\n",
      "475\n",
      "476\n",
      "477\n",
      "478\n",
      "479\n",
      "480\n",
      "481\n",
      "482\n",
      "483\n",
      "484\n",
      "485\n",
      "486\n",
      "487\n",
      "488\n",
      "489\n",
      "490\n",
      "491\n",
      "492\n",
      "493\n",
      "494\n",
      "495\n",
      "496\n",
      "497\n",
      "498\n",
      "499\n",
      "500\n",
      "501\n",
      "502\n",
      "503\n",
      "504\n",
      "505\n",
      "506\n",
      "507\n",
      "508\n",
      "509\n",
      "510\n",
      "511\n",
      "512\n",
      "513\n",
      "514\n",
      "515\n",
      "516\n",
      "517\n",
      "518\n",
      "519\n",
      "520\n",
      "521\n",
      "522\n",
      "523\n",
      "524\n",
      "525\n",
      "526\n",
      "527\n",
      "528\n",
      "529\n",
      "530\n",
      "531\n",
      "532\n",
      "533\n",
      "534\n",
      "535\n",
      "536\n",
      "537\n",
      "538\n",
      "539\n",
      "540\n",
      "541\n",
      "542\n",
      "543\n",
      "544\n",
      "545\n",
      "546\n",
      "547\n",
      "548\n",
      "549\n",
      "550\n",
      "551\n",
      "552\n",
      "553\n",
      "554\n",
      "555\n",
      "556\n",
      "557\n",
      "558\n",
      "559\n",
      "560\n",
      "561\n",
      "562\n",
      "563\n",
      "564\n",
      "565\n",
      "566\n",
      "567\n",
      "568\n",
      "569\n",
      "570\n",
      "571\n",
      "572\n",
      "573\n",
      "574\n",
      "575\n",
      "576\n",
      "577\n",
      "578\n",
      "579\n",
      "580\n",
      "581\n",
      "582\n",
      "583\n",
      "584\n",
      "585\n",
      "586\n",
      "587\n",
      "588\n",
      "589\n",
      "590\n",
      "591\n",
      "592\n",
      "593\n",
      "594\n",
      "595\n",
      "596\n",
      "597\n",
      "598\n",
      "599\n",
      "600\n",
      "601\n",
      "602\n",
      "603\n",
      "604\n",
      "605\n",
      "606\n",
      "607\n",
      "608\n",
      "609\n",
      "610\n",
      "611\n",
      "612\n",
      "613\n",
      "614\n",
      "615\n",
      "616\n",
      "617\n",
      "618\n",
      "619\n",
      "620\n",
      "621\n",
      "622\n",
      "623\n",
      "624\n",
      "625\n",
      "626\n",
      "627\n",
      "628\n",
      "629\n",
      "630\n",
      "631\n",
      "632\n",
      "633\n",
      "634\n",
      "635\n",
      "636\n",
      "637\n",
      "638\n",
      "639\n",
      "640\n",
      "641\n",
      "642\n",
      "643\n",
      "644\n",
      "645\n",
      "646\n",
      "647\n",
      "648\n",
      "649\n",
      "650\n",
      "651\n",
      "652\n",
      "653\n",
      "654\n",
      "655\n",
      "656\n",
      "657\n",
      "658\n",
      "659\n",
      "660\n",
      "661\n",
      "662\n",
      "663\n",
      "664\n",
      "665\n",
      "666\n",
      "667\n",
      "668\n",
      "669\n",
      "670\n",
      "671\n",
      "672\n",
      "673\n",
      "674\n",
      "675\n",
      "676\n",
      "677\n",
      "678\n",
      "679\n",
      "680\n",
      "681\n",
      "682\n",
      "683\n",
      "684\n",
      "685\n",
      "686\n",
      "687\n",
      "688\n",
      "689\n",
      "690\n",
      "691\n",
      "692\n",
      "693\n",
      "694\n",
      "695\n",
      "696\n",
      "697\n",
      "698\n",
      "699\n",
      "700\n",
      "701\n",
      "702\n",
      "703\n",
      "704\n",
      "705\n",
      "706\n",
      "707\n",
      "708\n",
      "709\n",
      "710\n",
      "711\n",
      "712\n",
      "713\n",
      "714\n",
      "715\n",
      "716\n",
      "717\n",
      "718\n",
      "719\n",
      "720\n",
      "721\n",
      "722\n",
      "723\n",
      "724\n",
      "725\n",
      "726\n",
      "727\n",
      "728\n",
      "729\n",
      "730\n",
      "731\n",
      "732\n",
      "733\n",
      "734\n",
      "735\n",
      "736\n",
      "737\n",
      "738\n",
      "739\n",
      "740\n",
      "741\n",
      "742\n",
      "743\n",
      "744\n",
      "745\n",
      "746\n",
      "747\n",
      "748\n",
      "749\n",
      "750\n",
      "751\n",
      "752\n",
      "753\n",
      "754\n",
      "755\n",
      "756\n",
      "757\n",
      "758\n",
      "759\n",
      "760\n",
      "761\n",
      "762\n",
      "763\n",
      "764\n",
      "765\n",
      "766\n",
      "767\n",
      "768\n",
      "769\n",
      "770\n",
      "771\n",
      "772\n",
      "773\n",
      "774\n",
      "775\n",
      "776\n",
      "777\n",
      "778\n",
      "779\n",
      "780\n",
      "781\n",
      "782\n",
      "783\n",
      "784\n",
      "785\n",
      "786\n",
      "787\n",
      "788\n",
      "789\n",
      "790\n",
      "791\n",
      "792\n",
      "793\n",
      "794\n",
      "795\n",
      "796\n",
      "797\n",
      "798\n",
      "799\n",
      "800\n",
      "801\n",
      "802\n",
      "803\n",
      "804\n",
      "805\n",
      "806\n",
      "807\n",
      "808\n",
      "809\n",
      "810\n",
      "811\n",
      "812\n",
      "813\n",
      "814\n",
      "815\n",
      "816\n",
      "817\n",
      "818\n",
      "819\n",
      "820\n",
      "821\n",
      "822\n",
      "823\n",
      "824\n",
      "825\n",
      "826\n",
      "827\n",
      "828\n",
      "829\n",
      "830\n",
      "831\n",
      "832\n",
      "833\n",
      "834\n",
      "835\n",
      "836\n",
      "837\n",
      "838\n",
      "839\n",
      "840\n",
      "841\n",
      "842\n",
      "843\n",
      "844\n",
      "845\n",
      "846\n",
      "847\n",
      "848\n",
      "849\n",
      "850\n",
      "851\n",
      "852\n",
      "853\n",
      "854\n",
      "855\n",
      "856\n",
      "857\n",
      "858\n",
      "859\n",
      "860\n",
      "861\n",
      "862\n",
      "863\n",
      "864\n",
      "865\n",
      "866\n",
      "867\n",
      "868\n",
      "869\n",
      "870\n",
      "871\n",
      "872\n",
      "873\n",
      "874\n",
      "875\n",
      "876\n",
      "877\n",
      "878\n",
      "879\n",
      "880\n",
      "881\n",
      "882\n",
      "883\n",
      "884\n",
      "885\n",
      "886\n",
      "887\n",
      "888\n",
      "889\n",
      "890\n",
      "891\n",
      "892\n",
      "893\n",
      "894\n",
      "895\n",
      "896\n",
      "897\n",
      "898\n",
      "899\n",
      "900\n",
      "901\n",
      "902\n",
      "903\n",
      "904\n",
      "905\n",
      "906\n",
      "907\n",
      "908\n",
      "909\n",
      "910\n",
      "911\n",
      "912\n",
      "913\n",
      "914\n",
      "915\n",
      "916\n",
      "917\n",
      "918\n",
      "919\n",
      "920\n",
      "921\n",
      "922\n",
      "923\n",
      "924\n",
      "925\n",
      "926\n",
      "927\n",
      "928\n",
      "929\n",
      "930\n",
      "931\n",
      "932\n",
      "933\n",
      "934\n",
      "935\n",
      "936\n",
      "937\n",
      "938\n",
      "939\n",
      "940\n",
      "941\n",
      "942\n",
      "943\n",
      "944\n",
      "945\n",
      "946\n",
      "947\n",
      "948\n",
      "949\n",
      "950\n",
      "951\n",
      "952\n",
      "953\n",
      "954\n",
      "955\n",
      "956\n",
      "957\n",
      "958\n",
      "959\n",
      "960\n",
      "961\n",
      "962\n",
      "963\n",
      "964\n",
      "965\n",
      "966\n",
      "967\n",
      "968\n",
      "969\n",
      "970\n",
      "971\n",
      "972\n",
      "973\n",
      "974\n",
      "975\n",
      "976\n",
      "977\n",
      "978\n",
      "979\n",
      "980\n",
      "981\n",
      "982\n",
      "983\n",
      "984\n",
      "985\n",
      "986\n",
      "987\n",
      "988\n",
      "989\n",
      "990\n",
      "991\n",
      "992\n",
      "993\n",
      "994\n",
      "995\n",
      "996\n",
      "997\n",
      "998\n",
      "999\n",
      "1000\n",
      "1001\n",
      "1002\n",
      "1003\n",
      "1004\n",
      "1005\n",
      "1006\n",
      "1007\n",
      "1008\n",
      "1009\n",
      "1010\n",
      "1011\n",
      "1012\n",
      "1013\n",
      "1014\n",
      "1015\n",
      "1016\n",
      "1017\n",
      "1018\n",
      "1019\n",
      "1020\n",
      "1021\n",
      "1022\n",
      "1023\n",
      "1024\n",
      "1025\n",
      "1026\n",
      "1027\n",
      "1028\n",
      "1029\n",
      "1030\n",
      "1031\n",
      "1032\n",
      "1033\n",
      "1034\n",
      "1035\n",
      "1036\n",
      "1037\n",
      "1038\n",
      "1039\n",
      "1040\n",
      "1041\n",
      "1042\n",
      "1043\n",
      "1044\n",
      "1045\n",
      "1046\n",
      "1047\n",
      "1048\n",
      "1049\n",
      "1050\n",
      "1051\n",
      "1052\n",
      "1053\n",
      "1054\n",
      "1055\n",
      "1056\n",
      "1057\n",
      "1058\n",
      "1059\n",
      "1060\n",
      "1061\n",
      "1062\n",
      "1063\n",
      "1064\n",
      "1065\n",
      "1066\n",
      "1067\n",
      "1068\n",
      "1069\n",
      "1070\n",
      "1071\n",
      "1072\n",
      "1073\n",
      "1074\n",
      "1075\n",
      "1076\n",
      "1077\n",
      "1078\n",
      "1079\n",
      "1080\n",
      "1081\n",
      "1082\n",
      "1083\n",
      "1084\n",
      "1085\n",
      "1086\n",
      "1087\n",
      "1088\n",
      "1089\n",
      "1090\n",
      "1091\n",
      "1092\n",
      "1093\n",
      "1094\n",
      "1095\n",
      "1096\n",
      "1097\n",
      "1098\n",
      "1099\n",
      "1100\n",
      "1101\n",
      "1102\n",
      "1103\n",
      "1104\n",
      "1105\n",
      "1106\n",
      "1107\n",
      "1108\n",
      "1109\n",
      "1110\n",
      "1111\n",
      "1112\n",
      "1113\n",
      "1114\n",
      "1115\n",
      "1116\n",
      "1117\n",
      "1118\n",
      "1119\n",
      "1120\n",
      "1121\n",
      "1122\n",
      "1123\n",
      "1124\n",
      "1125\n",
      "1126\n",
      "1127\n",
      "1128\n",
      "1129\n",
      "1130\n",
      "1131\n",
      "1132\n",
      "1133\n",
      "1134\n",
      "1135\n",
      "1136\n",
      "1137\n",
      "1138\n",
      "1139\n",
      "1140\n",
      "1141\n",
      "1142\n",
      "1143\n",
      "1144\n",
      "1145\n",
      "1146\n",
      "1147\n",
      "1148\n",
      "1149\n",
      "1150\n",
      "1151\n",
      "1152\n",
      "1153\n",
      "1154\n",
      "1155\n",
      "1156\n",
      "1157\n",
      "1158\n",
      "1159\n",
      "1160\n",
      "1161\n",
      "1162\n",
      "1163\n",
      "1164\n",
      "1165\n",
      "1166\n",
      "1167\n",
      "1168\n",
      "1169\n",
      "1170\n",
      "1171\n",
      "1172\n",
      "1173\n",
      "1174\n",
      "1175\n",
      "1176\n",
      "1177\n",
      "1178\n",
      "1179\n",
      "1180\n",
      "1181\n",
      "1182\n",
      "1183\n",
      "1184\n",
      "1185\n",
      "1186\n",
      "1187\n",
      "1188\n",
      "1189\n",
      "1190\n",
      "1191\n",
      "1192\n",
      "1193\n",
      "1194\n",
      "1195\n",
      "1196\n",
      "1197\n",
      "1198\n",
      "1199\n",
      "1200\n",
      "1201\n",
      "1202\n",
      "1203\n",
      "1204\n",
      "1205\n",
      "1206\n",
      "1207\n",
      "1208\n",
      "1209\n",
      "1210\n",
      "1211\n",
      "1212\n",
      "1213\n",
      "1214\n",
      "1215\n",
      "1216\n",
      "1217\n",
      "1218\n",
      "1219\n",
      "1220\n",
      "1221\n",
      "1222\n",
      "1223\n",
      "1224\n",
      "1225\n",
      "1226\n",
      "1227\n",
      "1228\n",
      "1229\n",
      "1230\n",
      "1231\n",
      "1232\n",
      "1233\n",
      "1234\n",
      "1235\n",
      "1236\n",
      "1237\n",
      "1238\n",
      "1239\n",
      "1240\n",
      "1241\n",
      "1242\n",
      "1243\n",
      "1244\n",
      "1245\n",
      "1246\n",
      "1247\n",
      "1248\n",
      "1249\n",
      "1250\n",
      "1251\n",
      "1252\n",
      "1253\n",
      "1254\n",
      "1255\n",
      "1256\n",
      "1257\n",
      "1258\n",
      "1259\n",
      "1260\n",
      "1261\n",
      "1262\n",
      "1263\n",
      "1264\n",
      "1265\n",
      "1266\n",
      "1267\n",
      "1268\n",
      "1269\n",
      "1270\n",
      "1271\n",
      "1272\n",
      "1273\n",
      "1274\n",
      "1275\n",
      "1276\n",
      "1277\n",
      "1278\n",
      "1279\n",
      "1280\n",
      "1281\n",
      "1282\n",
      "1283\n",
      "1284\n",
      "1285\n",
      "1286\n",
      "1287\n",
      "1288\n",
      "1289\n",
      "1290\n",
      "1291\n",
      "1292\n",
      "1293\n",
      "1294\n",
      "1295\n",
      "1296\n",
      "1297\n",
      "1298\n",
      "1299\n",
      "1300\n",
      "1301\n",
      "1302\n",
      "1303\n",
      "1304\n",
      "1305\n",
      "1306\n",
      "1307\n",
      "1308\n",
      "1309\n",
      "1310\n",
      "1311\n",
      "1312\n",
      "1313\n",
      "1314\n",
      "1315\n",
      "1316\n",
      "1317\n",
      "1318\n",
      "1319\n",
      "1320\n",
      "1321\n",
      "1322\n",
      "1323\n",
      "1324\n",
      "1325\n",
      "1326\n",
      "1327\n",
      "1328\n",
      "1329\n",
      "1330\n",
      "1331\n",
      "1332\n",
      "1333\n",
      "1334\n",
      "1335\n",
      "1336\n",
      "1337\n",
      "1338\n",
      "1339\n",
      "1340\n",
      "1341\n",
      "1342\n",
      "1343\n",
      "1344\n",
      "1345\n",
      "1346\n",
      "1347\n",
      "1348\n",
      "1349\n",
      "1350\n",
      "1351\n",
      "1352\n",
      "1353\n",
      "1354\n",
      "1355\n",
      "1356\n",
      "1357\n",
      "1358\n",
      "1359\n",
      "1360\n",
      "1361\n",
      "1362\n",
      "1363\n",
      "1364\n",
      "1365\n",
      "1366\n",
      "1367\n",
      "1368\n",
      "1369\n",
      "1370\n",
      "1371\n",
      "1372\n",
      "1373\n",
      "1374\n",
      "1375\n",
      "1376\n",
      "1377\n",
      "1378\n",
      "1379\n",
      "1380\n",
      "1381\n",
      "1382\n",
      "1383\n",
      "1384\n",
      "1385\n",
      "1386\n",
      "1387\n",
      "1388\n",
      "1389\n",
      "1390\n",
      "1391\n",
      "1392\n",
      "1393\n",
      "1394\n",
      "1395\n",
      "1396\n",
      "1397\n",
      "1398\n",
      "1399\n",
      "1400\n",
      "1401\n",
      "1402\n",
      "1403\n",
      "1404\n",
      "1405\n",
      "1406\n",
      "1407\n",
      "1408\n",
      "1409\n",
      "1410\n",
      "1411\n",
      "1412\n",
      "1413\n",
      "1414\n",
      "1415\n",
      "1416\n",
      "1417\n",
      "1418\n",
      "1419\n",
      "1420\n",
      "1421\n",
      "1422\n",
      "1423\n",
      "1424\n",
      "1425\n",
      "1426\n",
      "1427\n",
      "1428\n",
      "1429\n",
      "1430\n",
      "1431\n",
      "1432\n",
      "1433\n",
      "1434\n",
      "1435\n",
      "1436\n",
      "1437\n",
      "1438\n",
      "1439\n",
      "1440\n",
      "1441\n",
      "1442\n",
      "1443\n",
      "1444\n",
      "1445\n",
      "1446\n",
      "1447\n",
      "1448\n",
      "1449\n",
      "1450\n",
      "1451\n",
      "1452\n",
      "1453\n",
      "1454\n",
      "1455\n",
      "1456\n",
      "1457\n",
      "1458\n",
      "1459\n",
      "1460\n",
      "1461\n",
      "1462\n",
      "1463\n",
      "1464\n",
      "1465\n",
      "1466\n",
      "1467\n",
      "1468\n",
      "1469\n",
      "1470\n",
      "1471\n",
      "1472\n",
      "1473\n",
      "1474\n",
      "1475\n",
      "1476\n",
      "1477\n",
      "1478\n",
      "1479\n",
      "1480\n",
      "1481\n",
      "1482\n",
      "1483\n",
      "1484\n",
      "1485\n",
      "1486\n",
      "1487\n",
      "1488\n",
      "1489\n",
      "1490\n",
      "1491\n",
      "1492\n",
      "1493\n",
      "1494\n",
      "1495\n",
      "1496\n",
      "1497\n",
      "1498\n",
      "1499\n",
      "1500\n",
      "1501\n",
      "1502\n",
      "1503\n",
      "1504\n",
      "1505\n",
      "1506\n",
      "1507\n",
      "1508\n",
      "1509\n",
      "1510\n",
      "1511\n",
      "1512\n",
      "1513\n",
      "1514\n",
      "1515\n",
      "1516\n",
      "1517\n",
      "1518\n",
      "1519\n",
      "1520\n",
      "1521\n",
      "1522\n",
      "1523\n",
      "1524\n",
      "1525\n",
      "1526\n",
      "1527\n",
      "1528\n",
      "1529\n",
      "1530\n",
      "1531\n",
      "1532\n",
      "1533\n",
      "1534\n",
      "1535\n",
      "1536\n",
      "1537\n",
      "1538\n",
      "1539\n",
      "1540\n",
      "1541\n",
      "1542\n",
      "1543\n",
      "1544\n",
      "1545\n",
      "1546\n",
      "1547\n",
      "1548\n",
      "1549\n",
      "1550\n",
      "1551\n",
      "1552\n",
      "1553\n",
      "1554\n",
      "1555\n",
      "1556\n",
      "1557\n",
      "1558\n",
      "1559\n",
      "1560\n",
      "1561\n",
      "1562\n",
      "1563\n",
      "1564\n",
      "1565\n",
      "1566\n",
      "1567\n",
      "1568\n",
      "1569\n",
      "1570\n",
      "1571\n",
      "1572\n",
      "1573\n",
      "1574\n",
      "1575\n",
      "1576\n",
      "1577\n",
      "1578\n",
      "1579\n",
      "1580\n",
      "1581\n",
      "1582\n",
      "1583\n",
      "1584\n",
      "1585\n",
      "1586\n",
      "1587\n",
      "1588\n",
      "1589\n",
      "1590\n",
      "1591\n",
      "1592\n",
      "1593\n",
      "1594\n",
      "1595\n",
      "1596\n",
      "1597\n",
      "1598\n",
      "1599\n",
      "1600\n",
      "1601\n",
      "1602\n",
      "1603\n",
      "1604\n",
      "1605\n",
      "1606\n",
      "1607\n",
      "1608\n",
      "1609\n",
      "1610\n",
      "1611\n",
      "1612\n",
      "1613\n",
      "1614\n",
      "1615\n",
      "1616\n",
      "1617\n",
      "1618\n",
      "1619\n",
      "1620\n",
      "1621\n",
      "1622\n",
      "1623\n",
      "1624\n",
      "1625\n",
      "1626\n",
      "1627\n",
      "1628\n",
      "1629\n",
      "1630\n",
      "1631\n",
      "1632\n",
      "1633\n",
      "1634\n",
      "1635\n",
      "1636\n",
      "1637\n",
      "1638\n",
      "1639\n",
      "1640\n",
      "1641\n",
      "1642\n",
      "1643\n",
      "1644\n",
      "1645\n",
      "1646\n",
      "1647\n",
      "1648\n",
      "1649\n",
      "1650\n",
      "1651\n",
      "1652\n",
      "1653\n",
      "1654\n",
      "1655\n",
      "1656\n",
      "1657\n",
      "1658\n",
      "1659\n",
      "1660\n",
      "1661\n",
      "1662\n",
      "1663\n",
      "1664\n",
      "1665\n",
      "1666\n",
      "1667\n",
      "1668\n",
      "1669\n",
      "1670\n",
      "1671\n",
      "1672\n",
      "1673\n",
      "1674\n",
      "1675\n",
      "1676\n",
      "1677\n",
      "1678\n",
      "1679\n",
      "1680\n",
      "1681\n",
      "1682\n",
      "1683\n",
      "1684\n",
      "1685\n",
      "1686\n",
      "1687\n",
      "1688\n",
      "1689\n",
      "1690\n",
      "1691\n",
      "1692\n",
      "1693\n",
      "1694\n",
      "1695\n",
      "1696\n",
      "1697\n",
      "1698\n",
      "1699\n",
      "1700\n",
      "1701\n",
      "1702\n",
      "1703\n",
      "1704\n",
      "1705\n",
      "1706\n",
      "1707\n",
      "1708\n",
      "1709\n",
      "1710\n",
      "1711\n",
      "1712\n",
      "1713\n",
      "1714\n",
      "1715\n",
      "1716\n",
      "1717\n",
      "1718\n",
      "1719\n",
      "1720\n",
      "1721\n",
      "1722\n",
      "1723\n",
      "1724\n",
      "1725\n",
      "1726\n",
      "1727\n",
      "1728\n",
      "1729\n",
      "1730\n",
      "1731\n",
      "1732\n",
      "1733\n",
      "1734\n",
      "1735\n",
      "Evaluated 1734 scripts.\n"
     ]
    }
   ],
   "source": [
    "from src.utils import run_script\n",
    "from src.code_quality_utils import validate_code_quality\n",
    "\n",
    "count = 0\n",
    "for idx, row in test_set.iterrows():\n",
    "    print(idx)\n",
    "    qualified_for_classification = getattr(row, \"evaluate_script\")\n",
    "    if qualified_for_classification:\n",
    "        count += 1\n",
    "        sample_index, dataset_key = getattr(row, \"sample_index\"), getattr(row, \"source\")\n",
    "        dataset = dataset_name_mapping[dataset_key]\n",
    "        script_path = os.path.join(results_path, \"scripts\", dataset, f\"sample_{sample_index}.py\")\n",
    "        label, error_message = run_script(script_path)\n",
    "        test_set.loc[idx, \"inferred_label\"] = label\n",
    "        test_set.loc[idx, \"error_message\"] = error_message\n",
    "\n",
    "        code_quality_scores, code_quality_resolutions = validate_code_quality(script_path)\n",
    "        for score_key, score in code_quality_scores.items():\n",
    "            test_set.loc[idx, score_key] = score\n",
    "        test_set.loc[idx, \"cc_resolutions\"] = \"; \".join(code_quality_resolutions)\n",
    "\n",
    "print(f\"Evaluated {count} scripts.\")"
   ],
   "metadata": {
    "collapsed": false
   }
  },
  {
   "cell_type": "code",
   "execution_count": 193,
   "outputs": [
    {
     "data": {
      "text/plain": "1667"
     },
     "execution_count": 193,
     "metadata": {},
     "output_type": "execute_result"
    }
   ],
   "source": [
    "labels_obtained = test_set[test_set[\"inferred_label\"].isin([\"entailment\", \"contradiction\", \"neutral\"])].shape[0]\n",
    "results_overview[\"labels_obtained\"] = labels_obtained\n",
    "labels_obtained"
   ],
   "metadata": {
    "collapsed": false
   }
  },
  {
   "cell_type": "code",
   "execution_count": 194,
   "outputs": [
    {
     "data": {
      "text/plain": "                        mean        std\nreadability        98.884769   8.868615\ndocument_size      58.703576  16.441079\nredundancy_check   90.188576   3.368564\nfunction_size     100.000000   0.000000",
      "text/html": "<div>\n<style scoped>\n    .dataframe tbody tr th:only-of-type {\n        vertical-align: middle;\n    }\n\n    .dataframe tbody tr th {\n        vertical-align: top;\n    }\n\n    .dataframe thead th {\n        text-align: right;\n    }\n</style>\n<table border=\"1\" class=\"dataframe\">\n  <thead>\n    <tr style=\"text-align: right;\">\n      <th></th>\n      <th>mean</th>\n      <th>std</th>\n    </tr>\n  </thead>\n  <tbody>\n    <tr>\n      <th>readability</th>\n      <td>98.884769</td>\n      <td>8.868615</td>\n    </tr>\n    <tr>\n      <th>document_size</th>\n      <td>58.703576</td>\n      <td>16.441079</td>\n    </tr>\n    <tr>\n      <th>redundancy_check</th>\n      <td>90.188576</td>\n      <td>3.368564</td>\n    </tr>\n    <tr>\n      <th>function_size</th>\n      <td>100.000000</td>\n      <td>0.000000</td>\n    </tr>\n  </tbody>\n</table>\n</div>"
     },
     "execution_count": 194,
     "metadata": {},
     "output_type": "execute_result"
    }
   ],
   "source": [
    "code_quality_scores = ['readability', 'document_size', 'redundancy_check', 'function_size']\n",
    "\n",
    "code_quality_scores = test_set[code_quality_scores].aggregate([\"mean\", \"std\"])\n",
    "code_quality_scores.T"
   ],
   "metadata": {
    "collapsed": false
   }
  },
  {
   "cell_type": "code",
   "execution_count": 195,
   "outputs": [
    {
     "data": {
      "text/plain": "                        mean        std\nreadability        98.884769   8.868615\ndocument_size      58.703576  16.441079\nredundancy_check   90.188576   3.368564\nfunction_size     100.000000   0.000000\nrouge1_score        0.700233   0.162396\nrouge2_score        0.512777   0.201682\nrougeL_score        0.633561   0.179538\nmeteor_score        0.600381   0.208247\nchrf_score          0.658754   0.167556",
      "text/html": "<div>\n<style scoped>\n    .dataframe tbody tr th:only-of-type {\n        vertical-align: middle;\n    }\n\n    .dataframe tbody tr th {\n        vertical-align: top;\n    }\n\n    .dataframe thead th {\n        text-align: right;\n    }\n</style>\n<table border=\"1\" class=\"dataframe\">\n  <thead>\n    <tr style=\"text-align: right;\">\n      <th></th>\n      <th>mean</th>\n      <th>std</th>\n    </tr>\n  </thead>\n  <tbody>\n    <tr>\n      <th>readability</th>\n      <td>98.884769</td>\n      <td>8.868615</td>\n    </tr>\n    <tr>\n      <th>document_size</th>\n      <td>58.703576</td>\n      <td>16.441079</td>\n    </tr>\n    <tr>\n      <th>redundancy_check</th>\n      <td>90.188576</td>\n      <td>3.368564</td>\n    </tr>\n    <tr>\n      <th>function_size</th>\n      <td>100.000000</td>\n      <td>0.000000</td>\n    </tr>\n    <tr>\n      <th>rouge1_score</th>\n      <td>0.700233</td>\n      <td>0.162396</td>\n    </tr>\n    <tr>\n      <th>rouge2_score</th>\n      <td>0.512777</td>\n      <td>0.201682</td>\n    </tr>\n    <tr>\n      <th>rougeL_score</th>\n      <td>0.633561</td>\n      <td>0.179538</td>\n    </tr>\n    <tr>\n      <th>meteor_score</th>\n      <td>0.600381</td>\n      <td>0.208247</td>\n    </tr>\n    <tr>\n      <th>chrf_score</th>\n      <td>0.658754</td>\n      <td>0.167556</td>\n    </tr>\n  </tbody>\n</table>\n</div>"
     },
     "execution_count": 195,
     "metadata": {},
     "output_type": "execute_result"
    }
   ],
   "source": [
    "code_quality_df = pd.concat([code_quality_scores.T, code_similarity_scores.T])\n",
    "code_quality_df.to_excel(os.path.join(results_path, \"evaluation_new\", \"code_quality.xlsx\"))\n",
    "code_quality_df"
   ],
   "metadata": {
    "collapsed": false
   }
  },
  {
   "cell_type": "code",
   "execution_count": 196,
   "outputs": [
    {
     "data": {
      "text/plain": "1734"
     },
     "execution_count": 196,
     "metadata": {},
     "output_type": "execute_result"
    }
   ],
   "source": [
    "test_set[~test_set[\"readability\"].isna()].shape[0]"
   ],
   "metadata": {
    "collapsed": false
   }
  },
  {
   "cell_type": "markdown",
   "source": [
    "## View results overview"
   ],
   "metadata": {
    "collapsed": false
   }
  },
  {
   "cell_type": "code",
   "execution_count": 197,
   "outputs": [
    {
     "data": {
      "text/plain": "{'empty_completions': 0,\n 'python_scripts': 1736,\n 'non_python_scripts': 0,\n 'label_only': 0,\n 'tokens_exceeded': 2,\n 'evaluated_scripts': 1734,\n 'labels_obtained': 1667}"
     },
     "execution_count": 197,
     "metadata": {},
     "output_type": "execute_result"
    }
   ],
   "source": [
    "results_overview"
   ],
   "metadata": {
    "collapsed": false
   }
  },
  {
   "cell_type": "markdown",
   "source": [
    "## QNLI results evaluation"
   ],
   "metadata": {
    "collapsed": false
   }
  },
  {
   "cell_type": "code",
   "execution_count": 198,
   "outputs": [],
   "source": [
    "# dataset_name_mapping = {\n",
    "#     \"stresstest\": \"StressTest\",\n",
    "#     \"rtequant\": \"RTE_Quant\",\n",
    "#     \"awpnli\": \"AWPNLI\",\n",
    "#     \"newsnli\": \"NewsNLI\",\n",
    "#     \"redditnli\": \"RedditNLI\"\n",
    "# }\n",
    "#\n",
    "# merged = pd.DataFrame()\n",
    "# for dataset_key, dataset in dataset_name_mapping.items():\n",
    "#     print(dataset)\n",
    "#     df = pd.read_csv(os.path.join(root_path, \"data\", \"equate_labelled\", \"processed\", f\"{dataset}.csv\"))\n",
    "#     print(f\"All samples: {df.shape[0]}\")\n",
    "#     df[\"source\"] = dataset_key\n",
    "#     test_indices = test_set[test_set[\"source\"]==dataset_key][\"sample_index\"].unique()\n",
    "#     print(f\"Test samples: {len(test_indices)}\")\n",
    "#     test_subset = df[df[\"sample_index\"].isin(test_indices)]\n",
    "#     if merged.shape[0] == 0:\n",
    "#         merged = test_subset\n",
    "#     else:\n",
    "#         merged = pd.concat([merged, test_subset], ignore_index=True)\n",
    "#\n",
    "# merged.shape"
   ],
   "metadata": {
    "collapsed": false
   }
  },
  {
   "cell_type": "code",
   "execution_count": 199,
   "outputs": [],
   "source": [
    "# merged.columns"
   ],
   "metadata": {
    "collapsed": false
   }
  },
  {
   "cell_type": "code",
   "execution_count": 200,
   "outputs": [],
   "source": [
    "# merged.to_csv(os.path.join(root_path, \"data\", \"finetuning\", \"test_all_with_labels.csv\"), index=False)"
   ],
   "metadata": {
    "collapsed": false
   }
  },
  {
   "cell_type": "code",
   "execution_count": 201,
   "outputs": [
    {
     "data": {
      "text/plain": "(1736, 6)"
     },
     "execution_count": 201,
     "metadata": {},
     "output_type": "execute_result"
    }
   ],
   "source": [
    "gt_data = pd.read_csv(os.path.join(root_path, \"data\", \"finetuning\", \"test_all_with_labels.csv\"))\n",
    "gt_data.shape"
   ],
   "metadata": {
    "collapsed": false
   }
  },
  {
   "cell_type": "code",
   "execution_count": 202,
   "outputs": [
    {
     "data": {
      "text/plain": "source\nstresstest    1217\nnewsnli        239\nawpnli         179\nredditnli       61\nrtequant        40\nName: count, dtype: int64"
     },
     "execution_count": 202,
     "metadata": {},
     "output_type": "execute_result"
    }
   ],
   "source": [
    "gt_data[\"source\"].value_counts()"
   ],
   "metadata": {
    "collapsed": false
   }
  },
  {
   "cell_type": "code",
   "execution_count": 203,
   "outputs": [
    {
     "data": {
      "text/plain": "golden_label\nentailment       0.370392\ncontradiction    0.323157\nneutral          0.306452\nName: proportion, dtype: float64"
     },
     "execution_count": 203,
     "metadata": {},
     "output_type": "execute_result"
    }
   ],
   "source": [
    "gt_data[\"golden_label\"].value_counts(normalize=True)"
   ],
   "metadata": {
    "collapsed": false
   }
  },
  {
   "cell_type": "code",
   "execution_count": 204,
   "outputs": [
    {
     "data": {
      "text/plain": "        source   golden_label  proportion\n0       awpnli  contradiction    0.502793\n1       awpnli     entailment    0.497207\n2      newsnli     entailment    0.502092\n3      newsnli        neutral    0.497908\n6    redditnli  contradiction    0.081967\n4    redditnli     entailment    0.573770\n5    redditnli        neutral    0.344262\n8     rtequant     entailment    0.425000\n7     rtequant        neutral    0.575000\n9   stresstest  contradiction    0.382909\n10  stresstest     entailment    0.313887\n11  stresstest        neutral    0.303205",
      "text/html": "<div>\n<style scoped>\n    .dataframe tbody tr th:only-of-type {\n        vertical-align: middle;\n    }\n\n    .dataframe tbody tr th {\n        vertical-align: top;\n    }\n\n    .dataframe thead th {\n        text-align: right;\n    }\n</style>\n<table border=\"1\" class=\"dataframe\">\n  <thead>\n    <tr style=\"text-align: right;\">\n      <th></th>\n      <th>source</th>\n      <th>golden_label</th>\n      <th>proportion</th>\n    </tr>\n  </thead>\n  <tbody>\n    <tr>\n      <th>0</th>\n      <td>awpnli</td>\n      <td>contradiction</td>\n      <td>0.502793</td>\n    </tr>\n    <tr>\n      <th>1</th>\n      <td>awpnli</td>\n      <td>entailment</td>\n      <td>0.497207</td>\n    </tr>\n    <tr>\n      <th>2</th>\n      <td>newsnli</td>\n      <td>entailment</td>\n      <td>0.502092</td>\n    </tr>\n    <tr>\n      <th>3</th>\n      <td>newsnli</td>\n      <td>neutral</td>\n      <td>0.497908</td>\n    </tr>\n    <tr>\n      <th>6</th>\n      <td>redditnli</td>\n      <td>contradiction</td>\n      <td>0.081967</td>\n    </tr>\n    <tr>\n      <th>4</th>\n      <td>redditnli</td>\n      <td>entailment</td>\n      <td>0.573770</td>\n    </tr>\n    <tr>\n      <th>5</th>\n      <td>redditnli</td>\n      <td>neutral</td>\n      <td>0.344262</td>\n    </tr>\n    <tr>\n      <th>8</th>\n      <td>rtequant</td>\n      <td>entailment</td>\n      <td>0.425000</td>\n    </tr>\n    <tr>\n      <th>7</th>\n      <td>rtequant</td>\n      <td>neutral</td>\n      <td>0.575000</td>\n    </tr>\n    <tr>\n      <th>9</th>\n      <td>stresstest</td>\n      <td>contradiction</td>\n      <td>0.382909</td>\n    </tr>\n    <tr>\n      <th>10</th>\n      <td>stresstest</td>\n      <td>entailment</td>\n      <td>0.313887</td>\n    </tr>\n    <tr>\n      <th>11</th>\n      <td>stresstest</td>\n      <td>neutral</td>\n      <td>0.303205</td>\n    </tr>\n  </tbody>\n</table>\n</div>"
     },
     "execution_count": 204,
     "metadata": {},
     "output_type": "execute_result"
    }
   ],
   "source": [
    "gt_data.groupby('source')[\"golden_label\"].value_counts(normalize=True).reset_index().sort_values(by=[\"source\", \"golden_label\"])"
   ],
   "metadata": {
    "collapsed": false
   }
  },
  {
   "cell_type": "code",
   "execution_count": 205,
   "outputs": [
    {
     "data": {
      "text/plain": "0.335533508617"
     },
     "execution_count": 205,
     "metadata": {},
     "output_type": "execute_result"
    }
   ],
   "source": [
    "0.370392**2+0.323157**2+0.306452**2"
   ],
   "metadata": {
    "collapsed": false
   }
  },
  {
   "cell_type": "code",
   "execution_count": 206,
   "outputs": [
    {
     "data": {
      "text/plain": "1736"
     },
     "execution_count": 206,
     "metadata": {},
     "output_type": "execute_result"
    }
   ],
   "source": [
    "qnli_results_df = pd.merge(test_set, gt_data, on=[\"sample_index\", \"source\"], how=\"inner\")\n",
    "qnli_results_df.shape[0]"
   ],
   "metadata": {
    "collapsed": false
   }
  },
  {
   "cell_type": "code",
   "execution_count": 207,
   "outputs": [
    {
     "data": {
      "text/plain": "Index(['sample_index', 'completion', 'prompt', 'source', 'input_prompt',\n       'inferred_completion', 'has_script', 'has_non_python_script',\n       'inferred_script', 'only_label', 'tokens_exceeded', 'expected_script',\n       'evaluate_script', 'rouge1_score', 'rouge2_score', 'rougeL_score',\n       'meteor_score', 'chrf_score', 'script_to_file', 'inferred_label',\n       'error_message', 'readability', 'document_size', 'redundancy_check',\n       'function_size', 'cc_resolutions', 'premise', 'hypothesis',\n       'golden_label', 'reference_label'],\n      dtype='object')"
     },
     "execution_count": 207,
     "metadata": {},
     "output_type": "execute_result"
    }
   ],
   "source": [
    "qnli_results_df.columns"
   ],
   "metadata": {
    "collapsed": false
   }
  },
  {
   "cell_type": "code",
   "execution_count": 208,
   "outputs": [],
   "source": [
    "qnli_results_df.drop(\"cc_resolutions\", axis=\"columns\", inplace=True)\n",
    "# qnli_results_df.to_excel(os.path.join(results_path, \"evaluation\", \"qnli_classification_results.xlsx\"), index=False)"
   ],
   "metadata": {
    "collapsed": false
   }
  },
  {
   "cell_type": "code",
   "execution_count": 209,
   "outputs": [
    {
     "data": {
      "text/plain": "inferred_label\ncontradiction    794\nneutral          496\nentailment       377\nerror             67\nnan                2\nName: count, dtype: int64"
     },
     "execution_count": 209,
     "metadata": {},
     "output_type": "execute_result"
    }
   ],
   "source": [
    "qnli_results_df[\"inferred_label\"].value_counts()"
   ],
   "metadata": {
    "collapsed": false
   }
  },
  {
   "cell_type": "code",
   "execution_count": 210,
   "outputs": [],
   "source": [
    "dataset_name_mapping = {\n",
    "    \"stresstest\": \"StressTest\",\n",
    "    \"rtequant\": \"RTE_Quant\",\n",
    "    \"awpnli\": \"AWPNLI\",\n",
    "    \"newsnli\": \"NewsNLI\",\n",
    "    \"redditnli\": \"RedditNLI\",\n",
    "    \"equate\": \"EQUATE\"\n",
    "}"
   ],
   "metadata": {
    "collapsed": false
   }
  },
  {
   "cell_type": "code",
   "execution_count": 211,
   "outputs": [],
   "source": [
    "def print_accuracies(results_df):\n",
    "    \"\"\"Get the accuracy of the model (base or fine-tuned) and GPT4 on each dataset and on EQUATE.\"\"\"\n",
    "\n",
    "    dataset_names, accuracies = [], []\n",
    "    for dataset_key, dataset in dataset_name_mapping.items():\n",
    "        # print(f\"#################{dataset}#################\")\n",
    "\n",
    "        dataset_names.append(dataset)\n",
    "\n",
    "        if dataset != \"EQUATE\":\n",
    "            filtered_df = results_df[results_df[\"source\"] == dataset_key]\n",
    "        else:\n",
    "            filtered_df = results_df\n",
    "\n",
    "        acc = accuracy_score(filtered_df['golden_label'], filtered_df['inferred_label'])\n",
    "        # print(f\"Accuracy (model): {acc}\")\n",
    "        accuracies.append(acc)\n",
    "\n",
    "        # print(f\"Accuracy (GPT4): {accuracy_score(filtered_df['golden_label'], filtered_df['reference_label'])}\")\n",
    "\n",
    "    return pd.DataFrame({\"dataset\": dataset_names, \"accuracy\": accuracies})"
   ],
   "metadata": {
    "collapsed": false
   }
  },
  {
   "cell_type": "code",
   "execution_count": 212,
   "outputs": [],
   "source": [
    "def classification_report_to_dataframe(clsf_report, dataset):\n",
    "    f1_score = pd.DataFrame(clsf_report)\n",
    "    f1_score = f1_score.loc[\"f1-score\"]\n",
    "\n",
    "    for label in [\"entailment\", \"contradiction\", \"neutral\"]:\n",
    "        if label not in f1_score.index:\n",
    "            f1_score.loc[label] = 0\n",
    "\n",
    "    f1_score = f1_score.loc[[\"entailment\", \"contradiction\", \"neutral\", \"weighted avg\"]]\n",
    "    f1_score_df = pd.DataFrame(dict(zip([\"F1-E\", \"F1-C\", \"F1-N\", \"weighted_F1\"], f1_score.values)), index=[1])\n",
    "    f1_score_df[\"dataset\"] = dataset\n",
    "\n",
    "    return f1_score_df\n",
    "\n",
    "\n",
    "def print_classification_reports(results_df):\n",
    "    \"\"\"Get the accuracy of the model (base or fine-tuned) and GPT4 on each dataset and on EQUATE.\"\"\"\n",
    "\n",
    "    clsf_report_dataset = pd.DataFrame()\n",
    "    gpt4_report = pd.DataFrame()\n",
    "    for dataset_key, dataset in dataset_name_mapping.items():\n",
    "        # print(f\"#################{dataset}#################\")\n",
    "\n",
    "        if dataset != \"EQUATE\":\n",
    "            filtered_df = results_df[results_df[\"source\"] == dataset_key]\n",
    "        else:\n",
    "            filtered_df = results_df\n",
    "\n",
    "        # print(\"######Base / Fine-tuned model######\")\n",
    "        clsf_report_dict = classification_report(filtered_df['golden_label'], filtered_df['inferred_label'], output_dict=True)\n",
    "        clsf_report_df = classification_report_to_dataframe(clsf_report_dict, dataset)\n",
    "        clsf_report_dataset = pd.concat([clsf_report_dataset, clsf_report_df], ignore_index=True)\n",
    "        # print(classification_report(filtered_df['golden_label'], filtered_df['inferred_label']))\n",
    "\n",
    "        # print(\"######GPT4######\")\n",
    "        clsf_report_dict = classification_report(filtered_df['golden_label'], filtered_df['reference_label'], output_dict=True)\n",
    "        clsf_report_df = classification_report_to_dataframe(clsf_report_dict, dataset)\n",
    "        gpt4_report = pd.concat([gpt4_report, clsf_report_df], ignore_index=True)\n",
    "        # print(classification_report(filtered_df['golden_label'], filtered_df['reference_label']))\n",
    "\n",
    "    return clsf_report_dataset, gpt4_report"
   ],
   "metadata": {
    "collapsed": false
   }
  },
  {
   "cell_type": "markdown",
   "source": [
    "### For RTE_Quant and NewsNLI, convert \"contradiction\" to \"neutral\"."
   ],
   "metadata": {
    "collapsed": false
   }
  },
  {
   "cell_type": "code",
   "execution_count": 213,
   "outputs": [
    {
     "data": {
      "text/plain": "25"
     },
     "execution_count": 213,
     "metadata": {},
     "output_type": "execute_result"
    }
   ],
   "source": [
    "qnli_results_df[(qnli_results_df[\"inferred_label\"] == \"contradiction\") & (qnli_results_df[\"source\"].isin([\"rtequant\", \"newsnli\"]))].shape[0]"
   ],
   "metadata": {
    "collapsed": false
   }
  },
  {
   "cell_type": "code",
   "execution_count": 214,
   "outputs": [],
   "source": [
    "# Creating masks based on conditions\n",
    "convert_contradiction_to_neutral_mask = qnli_results_df[\"inferred_label\"] == \"contradiction\"\n",
    "filter_dataset_mask = qnli_results_df[\"source\"].isin([\"rtequant\", \"newsnli\"])\n",
    "\n",
    "# Combining both masks\n",
    "combined_mask = convert_contradiction_to_neutral_mask & filter_dataset_mask\n",
    "\n",
    "# Correctly assigning a new value using the combined mask with .loc\n",
    "qnli_results_df.loc[combined_mask, \"inferred_label\"] = \"neutral\""
   ],
   "metadata": {
    "collapsed": false
   }
  },
  {
   "cell_type": "markdown",
   "source": [
    "Check that the conversion worked"
   ],
   "metadata": {
    "collapsed": false
   }
  },
  {
   "cell_type": "code",
   "execution_count": 215,
   "outputs": [
    {
     "data": {
      "text/plain": "0"
     },
     "execution_count": 215,
     "metadata": {},
     "output_type": "execute_result"
    }
   ],
   "source": [
    "qnli_results_df[(qnli_results_df[\"inferred_label\"] == \"contradiction\") & (qnli_results_df[\"source\"].isin([\"rtequant\", \"newsnli\"]))].shape[0]"
   ],
   "metadata": {
    "collapsed": false
   }
  },
  {
   "cell_type": "code",
   "execution_count": 216,
   "outputs": [],
   "source": [
    "qnli_results_df.to_excel(os.path.join(results_path, \"evaluation_new\", \"qnli_classification_results.xlsx\"), index=False)"
   ],
   "metadata": {
    "collapsed": false
   }
  },
  {
   "cell_type": "markdown",
   "source": [
    "### EVALUATION 1:  Impute majority label for each dataset where label is NaN or error."
   ],
   "metadata": {
    "collapsed": false
   }
  },
  {
   "cell_type": "markdown",
   "source": [
    "#### First check how many labels we got for each dataset and for equate as a whole"
   ],
   "metadata": {
    "collapsed": false
   }
  },
  {
   "cell_type": "code",
   "execution_count": 217,
   "outputs": [],
   "source": [
    "test_samples_per_dataset = qnli_results_df[\"source\"].value_counts().reset_index().sort_values(by=\"source\").rename(columns={\"count\": \"total\"})"
   ],
   "metadata": {
    "collapsed": false
   }
  },
  {
   "cell_type": "code",
   "execution_count": 218,
   "outputs": [
    {
     "data": {
      "text/plain": "       source  total\n2      awpnli    179\n1     newsnli    239\n3   redditnli     61\n4    rtequant     40\n0  stresstest   1217",
      "text/html": "<div>\n<style scoped>\n    .dataframe tbody tr th:only-of-type {\n        vertical-align: middle;\n    }\n\n    .dataframe tbody tr th {\n        vertical-align: top;\n    }\n\n    .dataframe thead th {\n        text-align: right;\n    }\n</style>\n<table border=\"1\" class=\"dataframe\">\n  <thead>\n    <tr style=\"text-align: right;\">\n      <th></th>\n      <th>source</th>\n      <th>total</th>\n    </tr>\n  </thead>\n  <tbody>\n    <tr>\n      <th>2</th>\n      <td>awpnli</td>\n      <td>179</td>\n    </tr>\n    <tr>\n      <th>1</th>\n      <td>newsnli</td>\n      <td>239</td>\n    </tr>\n    <tr>\n      <th>3</th>\n      <td>redditnli</td>\n      <td>61</td>\n    </tr>\n    <tr>\n      <th>4</th>\n      <td>rtequant</td>\n      <td>40</td>\n    </tr>\n    <tr>\n      <th>0</th>\n      <td>stresstest</td>\n      <td>1217</td>\n    </tr>\n  </tbody>\n</table>\n</div>"
     },
     "execution_count": 218,
     "metadata": {},
     "output_type": "execute_result"
    }
   ],
   "source": [
    "test_samples_per_dataset"
   ],
   "metadata": {
    "collapsed": false
   }
  },
  {
   "cell_type": "code",
   "execution_count": 219,
   "outputs": [
    {
     "name": "stdout",
     "output_type": "stream",
     "text": [
      "1667\n"
     ]
    },
    {
     "data": {
      "text/plain": "       source  count\n2      awpnli    153\n1     newsnli    236\n3   redditnli     61\n4    rtequant     37\n0  stresstest   1180",
      "text/html": "<div>\n<style scoped>\n    .dataframe tbody tr th:only-of-type {\n        vertical-align: middle;\n    }\n\n    .dataframe tbody tr th {\n        vertical-align: top;\n    }\n\n    .dataframe thead th {\n        text-align: right;\n    }\n</style>\n<table border=\"1\" class=\"dataframe\">\n  <thead>\n    <tr style=\"text-align: right;\">\n      <th></th>\n      <th>source</th>\n      <th>count</th>\n    </tr>\n  </thead>\n  <tbody>\n    <tr>\n      <th>2</th>\n      <td>awpnli</td>\n      <td>153</td>\n    </tr>\n    <tr>\n      <th>1</th>\n      <td>newsnli</td>\n      <td>236</td>\n    </tr>\n    <tr>\n      <th>3</th>\n      <td>redditnli</td>\n      <td>61</td>\n    </tr>\n    <tr>\n      <th>4</th>\n      <td>rtequant</td>\n      <td>37</td>\n    </tr>\n    <tr>\n      <th>0</th>\n      <td>stresstest</td>\n      <td>1180</td>\n    </tr>\n  </tbody>\n</table>\n</div>"
     },
     "execution_count": 219,
     "metadata": {},
     "output_type": "execute_result"
    }
   ],
   "source": [
    "labels_obtained_df = qnli_results_df[qnli_results_df[\"inferred_label\"].isin([\"entailment\", \"neutral\", \"contradiction\"])]\n",
    "print(labels_obtained_df.shape[0])\n",
    "obtained_labels_counts = labels_obtained_df[\"source\"].value_counts().reset_index().sort_values(by=\"source\")\n",
    "obtained_labels_counts"
   ],
   "metadata": {
    "collapsed": false
   }
  },
  {
   "cell_type": "code",
   "execution_count": 220,
   "outputs": [
    {
     "data": {
      "text/plain": "       source  total  count\n0      awpnli    179    153\n1     newsnli    239    236\n2   redditnli     61     61\n3    rtequant     40     37\n4  stresstest   1217   1180",
      "text/html": "<div>\n<style scoped>\n    .dataframe tbody tr th:only-of-type {\n        vertical-align: middle;\n    }\n\n    .dataframe tbody tr th {\n        vertical-align: top;\n    }\n\n    .dataframe thead th {\n        text-align: right;\n    }\n</style>\n<table border=\"1\" class=\"dataframe\">\n  <thead>\n    <tr style=\"text-align: right;\">\n      <th></th>\n      <th>source</th>\n      <th>total</th>\n      <th>count</th>\n    </tr>\n  </thead>\n  <tbody>\n    <tr>\n      <th>0</th>\n      <td>awpnli</td>\n      <td>179</td>\n      <td>153</td>\n    </tr>\n    <tr>\n      <th>1</th>\n      <td>newsnli</td>\n      <td>239</td>\n      <td>236</td>\n    </tr>\n    <tr>\n      <th>2</th>\n      <td>redditnli</td>\n      <td>61</td>\n      <td>61</td>\n    </tr>\n    <tr>\n      <th>3</th>\n      <td>rtequant</td>\n      <td>40</td>\n      <td>37</td>\n    </tr>\n    <tr>\n      <th>4</th>\n      <td>stresstest</td>\n      <td>1217</td>\n      <td>1180</td>\n    </tr>\n  </tbody>\n</table>\n</div>"
     },
     "execution_count": 220,
     "metadata": {},
     "output_type": "execute_result"
    }
   ],
   "source": [
    "obtained_labels = pd.merge(test_samples_per_dataset, obtained_labels_counts, on=\"source\")\n",
    "obtained_labels"
   ],
   "metadata": {
    "collapsed": false
   }
  },
  {
   "cell_type": "code",
   "execution_count": 221,
   "outputs": [
    {
     "data": {
      "text/plain": "       source  total  count   ratio\n0      awpnli    179    153  0.8547\n1     newsnli    239    236  0.9874\n2   redditnli     61     61  1.0000\n3    rtequant     40     37  0.9250\n4  stresstest   1217   1180  0.9696",
      "text/html": "<div>\n<style scoped>\n    .dataframe tbody tr th:only-of-type {\n        vertical-align: middle;\n    }\n\n    .dataframe tbody tr th {\n        vertical-align: top;\n    }\n\n    .dataframe thead th {\n        text-align: right;\n    }\n</style>\n<table border=\"1\" class=\"dataframe\">\n  <thead>\n    <tr style=\"text-align: right;\">\n      <th></th>\n      <th>source</th>\n      <th>total</th>\n      <th>count</th>\n      <th>ratio</th>\n    </tr>\n  </thead>\n  <tbody>\n    <tr>\n      <th>0</th>\n      <td>awpnli</td>\n      <td>179</td>\n      <td>153</td>\n      <td>0.8547</td>\n    </tr>\n    <tr>\n      <th>1</th>\n      <td>newsnli</td>\n      <td>239</td>\n      <td>236</td>\n      <td>0.9874</td>\n    </tr>\n    <tr>\n      <th>2</th>\n      <td>redditnli</td>\n      <td>61</td>\n      <td>61</td>\n      <td>1.0000</td>\n    </tr>\n    <tr>\n      <th>3</th>\n      <td>rtequant</td>\n      <td>40</td>\n      <td>37</td>\n      <td>0.9250</td>\n    </tr>\n    <tr>\n      <th>4</th>\n      <td>stresstest</td>\n      <td>1217</td>\n      <td>1180</td>\n      <td>0.9696</td>\n    </tr>\n  </tbody>\n</table>\n</div>"
     },
     "execution_count": 221,
     "metadata": {},
     "output_type": "execute_result"
    }
   ],
   "source": [
    "obtained_labels[\"ratio\"] = round(obtained_labels[\"count\"] / obtained_labels[\"total\"], 4)\n",
    "obtained_labels"
   ],
   "metadata": {
    "collapsed": false
   }
  },
  {
   "cell_type": "code",
   "execution_count": 222,
   "outputs": [],
   "source": [
    "obtained_labels[[\"source\", \"count\", \"ratio\"]].to_excel(os.path.join(results_path, \"evaluation_new\", \"counts_and_ratios_obtained_labels.xlsx\"), index=False)"
   ],
   "metadata": {
    "collapsed": false
   }
  },
  {
   "cell_type": "code",
   "execution_count": 223,
   "outputs": [],
   "source": [
    "# for dataset, majority_label in zip([\"rtequant\", \"redditnli\", \"newsnli\", \"awpnli\", \"stresstest\"], [\"neutral\", \"entailment\", \"entailment\", \"contradiction\", \"contradiction\"]):\n",
    "#     mask_label = ~qnli_results_df[\"inferred_label\"].isin([\"entailment\", \"neutral\", \"contradiction\"])\n",
    "#     mask_source = qnli_results_df[\"source\"] == dataset\n",
    "#     qnli_results_df.loc[mask_label & mask_source, \"inferred_label\"] = majority_label\n",
    "# qnli_results_df[\"inferred_label\"].value_counts()"
   ],
   "metadata": {
    "collapsed": false
   }
  },
  {
   "cell_type": "code",
   "execution_count": 224,
   "outputs": [],
   "source": [
    "# accuracy_df = print_accuracies(qnli_results_df)"
   ],
   "metadata": {
    "collapsed": false
   }
  },
  {
   "cell_type": "code",
   "execution_count": 225,
   "outputs": [],
   "source": [
    "# f1_df, gpt_f1 = print_classification_reports(qnli_results_df)"
   ],
   "metadata": {
    "collapsed": false
   }
  },
  {
   "cell_type": "code",
   "execution_count": 226,
   "outputs": [],
   "source": [
    "# evaluation_df = pd.merge(accuracy_df, f1_df, on=\"dataset\", how=\"inner\")\n",
    "# evaluation_df"
   ],
   "metadata": {
    "collapsed": false
   }
  },
  {
   "cell_type": "code",
   "execution_count": 227,
   "outputs": [],
   "source": [
    "# # gpt_f1.to_excel(\"gpt4_f1_evaluation.xlsx\", index=False)"
   ],
   "metadata": {
    "collapsed": false
   }
  },
  {
   "cell_type": "code",
   "execution_count": 228,
   "outputs": [],
   "source": [
    "# evaluation_df.to_excel(os.path.join(results_path, \"evaluation\", \"imputed_mb_label.xlsx\"), index=False)"
   ],
   "metadata": {
    "collapsed": false
   }
  },
  {
   "cell_type": "markdown",
   "source": [
    "### EVALUATION 2:  Drop samples with NaN script or \"error\""
   ],
   "metadata": {
    "collapsed": false
   }
  },
  {
   "cell_type": "code",
   "execution_count": 229,
   "outputs": [],
   "source": [
    "# qnli_results_df = pd.merge(test_set, gt_data, on=[\"sample_index\", \"source\"], how=\"inner\")\n",
    "# qnli_results_df.shape[0]"
   ],
   "metadata": {
    "collapsed": false
   }
  },
  {
   "cell_type": "code",
   "execution_count": 230,
   "outputs": [],
   "source": [
    "# # Creating masks based on conditions\n",
    "# convert_contradiction_to_neutral_mask = qnli_results_df[\"inferred_label\"] == \"contradiction\"\n",
    "# filter_dataset_mask = qnli_results_df[\"source\"].isin([\"rtequant\", \"newsnli\"])\n",
    "#\n",
    "# # Combining both masks\n",
    "# combined_mask = convert_contradiction_to_neutral_mask & filter_dataset_mask\n",
    "#\n",
    "# # Correctly assigning a new value using the combined mask with .loc\n",
    "# qnli_results_df.loc[combined_mask, \"inferred_label\"] = \"neutral\""
   ],
   "metadata": {
    "collapsed": false
   }
  },
  {
   "cell_type": "code",
   "execution_count": 231,
   "outputs": [],
   "source": [
    "# mask_discard = ~qnli_results_df[\"inferred_label\"].isin([\"entailment\", \"contradiction\", \"neutral\"])\n",
    "# qnli_results_df = qnli_results_df.drop(qnli_results_df[mask_discard].index, axis=\"rows\")\n",
    "# qnli_results_df[\"inferred_label\"].value_counts()"
   ],
   "metadata": {
    "collapsed": false
   }
  },
  {
   "cell_type": "code",
   "execution_count": 232,
   "outputs": [],
   "source": [
    "# accuracy_df = print_accuracies(qnli_results_df)"
   ],
   "metadata": {
    "collapsed": false
   }
  },
  {
   "cell_type": "code",
   "execution_count": 233,
   "outputs": [],
   "source": [
    "# f1_df, gpt_f1 = print_classification_reports(qnli_results_df)"
   ],
   "metadata": {
    "collapsed": false
   }
  },
  {
   "cell_type": "code",
   "execution_count": 234,
   "outputs": [],
   "source": [
    "# evaluation_df = pd.merge(accuracy_df, f1_df, on=\"dataset\", how=\"inner\")\n",
    "# evaluation_df"
   ],
   "metadata": {
    "collapsed": false
   }
  },
  {
   "cell_type": "code",
   "execution_count": 235,
   "outputs": [],
   "source": [
    "# evaluation_df.to_excel(os.path.join(results_path, \"evaluation\", \"discard_erroneous_samples.xlsx\"), index=False)"
   ],
   "metadata": {
    "collapsed": false
   }
  },
  {
   "cell_type": "markdown",
   "source": [
    "### EVALUATION 3: Impute the missing labels with a stratified random strategy"
   ],
   "metadata": {
    "collapsed": false
   }
  },
  {
   "cell_type": "code",
   "execution_count": 236,
   "outputs": [],
   "source": [
    "## INFERENCE LLAMA2 - 7B\n",
    "# model_name = \"llama-2-chat\"\n",
    "# model_size = \"7B\"\n",
    "## base model\n",
    "# job_id = \"5817639\"\n",
    "## finetuned\n",
    "# job_id = \"5820349_finetuned\"\n",
    "## fintuned with balanced dataset\n",
    "# job_id = \"5836402_finetuned\"\n",
    "\n",
    "## INFERENCE LLAMA2 - 13B\n",
    "# model_name = \"llama-2-chat\"\n",
    "# model_size = \"13B\"\n",
    "## base model\n",
    "# job_id = \"5822467\"\n",
    "## finetuned\n",
    "# job_id = \"5830782_finetuned\"\n",
    "\n",
    "## INFERENCE CODELLAMA - PYTHON 7B\n",
    "# model_name = \"codellama-python\"\n",
    "# model_size = \"7B\"\n",
    "## base model\n",
    "# job_id = \"5852469\"\n",
    "## finetuned\n",
    "# job_id = \"5897597_finetuned\"\n",
    "\n",
    "\n",
    "##### REDO MATRI FOR AWPNLI ABOVE THIS\n",
    "\n",
    "## INFERENCE CODELLAMA - PYTHON 13B\n",
    "# model_name = \"codellama-python\"\n",
    "# model_size = \"13B\"\n",
    "## base model\n",
    "# job_id = \"5919626\"\n",
    "## finetuned\n",
    "# job_id = \"\"\n",
    "\n",
    "## INFERENCE CODELLAMA - INSTRUCT 7B\n",
    "# model_name = \"codellama-instruct\"\n",
    "# model_size = \"7B\"\n",
    "# # base model\n",
    "# job_id = \"5858736\"\n",
    "## finetuned\n",
    "# job_id = \"5892669_finetuned\"\n",
    "\n",
    "## INFERENCE CODELLAMA - INSTRUCT 13B\n",
    "# model_name = \"codellama-instruct\"\n",
    "# model_size = \"13B\"\n",
    "# # base model\n",
    "# job_id = \"5875184\"\n",
    "# finetuned\n",
    "# job_id = \"6001211_finetuned\"\n",
    "\n",
    "## INFERENCE LLAMA-3 8B\n",
    "# model_name = \"llama3\"\n",
    "# model_size = \"8B\"\n",
    "# # base model\n",
    "# job_id = \"6013398\"\n",
    "\n",
    "# results_path = os.path.join(root_path, \"results_inference\", model_name, model_size, job_id)"
   ],
   "metadata": {
    "collapsed": false
   }
  },
  {
   "cell_type": "code",
   "execution_count": 237,
   "outputs": [],
   "source": [
    "# ## CONFUSION MATRICES FOR GPT4\n",
    "#\n",
    "# qnli_results_df = pd.read_excel(os.path.join(results_path, \"evaluation\", \"qnli_classification_results.xlsx\"))\n",
    "#\n",
    "# # for dataset in [\"rtequant\", \"newsnli\", \"awpnli\", \"stresstest\", \"redditnli\"]:  #\n",
    "# #     filtered_df = qnli_results_df[qnli_results_df[\"source\"] == dataset]\n",
    "# #     if dataset in [\"rtequant\", \"newsnli\"]:\n",
    "# #         labels = [\"entailment\", \"neutral\"]\n",
    "# #     elif dataset == \"awpnli\":\n",
    "# #         labels = [\"contradiction\", \"entailment\"]\n",
    "# #     else:\n",
    "# #         labels = [\"contradiction\", \"entailment\", \"neutral\"]\n",
    "# #     cf = confusion_matrix(filtered_df[\"golden_label\"], filtered_df[\"reference_label\"], labels=labels, normalize=\"true\")\n",
    "# #     display = ConfusionMatrixDisplay(cf, display_labels=labels)\n",
    "# #     display.plot(cmap=custom_cmap)\n",
    "# #     plt.title(f\"GPT4 - {dataset_name_mapping[dataset]}\")\n",
    "# #     # Increase font size of the numbers within the squares\n",
    "# #     for text in display.text_.ravel():\n",
    "# #         text.set_fontsize(24)  # Adjust font size as needed\n",
    "# #     plt.savefig(os.path.join(root_path, \"results_inference\", \"gpt4\", f\"{dataset}_confusion_matrix.pdf\"))\n",
    "#\n",
    "# cf = confusion_matrix(qnli_results_df[\"golden_label\"], qnli_results_df[\"reference_label\"], labels = [\"contradiction\", \"entailment\", \"neutral\"], normalize=\"true\")\n",
    "# display = ConfusionMatrixDisplay(cf, display_labels=[\"C\", \"E\", \"N\"])\n",
    "# display.plot(cmap=custom_cmap)\n",
    "# # Increase font size of the numbers within the squares\n",
    "# for text in display.text_.ravel():\n",
    "#     text.set_fontsize(24)  # Adjust font size as needed\n",
    "# # Increase label size\n",
    "# plt.gca().tick_params(axis='both', which='major', labelsize=20)\n",
    "# plt.title(\"GPT4 - EQUATE\")\n",
    "# # Increase font size of the axis labels\n",
    "# plt.xlabel('Predicted label', fontsize=16)  # X-axis label\n",
    "# plt.ylabel('True label', fontsize=16)       # Y-axis label\n",
    "# # plt.savefig(os.path.join(root_path, \"results_inference\", \"gpt4\", f\"EQUATE_confusion_matrix_test.pdf\"))"
   ],
   "metadata": {
    "collapsed": false
   }
  },
  {
   "cell_type": "code",
   "execution_count": 238,
   "outputs": [],
   "source": [
    "# qnli_results_df = pd.merge(test_set, gt_data, on=[\"sample_index\", \"source\"], how=\"inner\")\n",
    "# qnli_results_df.shape[0]"
   ],
   "metadata": {
    "collapsed": false
   }
  },
  {
   "cell_type": "code",
   "execution_count": 239,
   "outputs": [],
   "source": [
    "# from sklearn.metrics import confusion_matrix, ConfusionMatrixDisplay\n",
    "# import matplotlib.pyplot as plt\n",
    "# from matplotlib.colors import LinearSegmentedColormap\n",
    "#\n",
    "# # Define custom colormap from white to black\n",
    "# cmap_colors = [(0, 0, 0), (1, 1, 1)]  # White to Black\n",
    "# custom_cmap = LinearSegmentedColormap.from_list(\"custom_cmap\", cmap_colors)\n",
    "#\n",
    "# qnli_results_df = pd.read_excel(os.path.join(results_path, \"evaluation\", \"qnli_classification_results.xlsx\"))\n",
    "# filtered_results = qnli_results_df[qnli_results_df[\"inferred_label\"].isin([\"entailment\", \"contradiction\", \"neutral\"])]\n",
    "#\n",
    "# for dataset in [\"awpnli\", \"stresstest\", \"redditnli\", \"rtequant\", \"newsnli\",]:\n",
    "#     filtered_df = filtered_results[filtered_results[\"source\"] == dataset]\n",
    "#     if dataset in [\"rtequant\", \"newsnli\"]:\n",
    "#         labels = [\"entailment\", \"neutral\"]\n",
    "#     elif dataset == \"awpnli\":\n",
    "#         labels = [\"contradiction\", \"entailment\"]\n",
    "#     else:\n",
    "#         labels = [\"contradiction\", \"entailment\", \"neutral\"]\n",
    "#     cf = confusion_matrix(filtered_df[\"golden_label\"], filtered_df[\"inferred_label\"], labels=labels, normalize=\"true\")\n",
    "#     display = ConfusionMatrixDisplay(cf, display_labels=labels)\n",
    "#     # Increase label size within the squares\n",
    "#     display.plot(cmap=custom_cmap)\n",
    "#     # Increase font size of the numbers within the squares\n",
    "#     for text in display.text_.ravel():\n",
    "#         text.set_fontsize(24)  # Adjust font size as needed\n",
    "#     plt.title(f\"CodeLlama-Instruct 13B - {dataset_name_mapping[dataset]}\")\n",
    "#     plt.savefig(os.path.join(results_path, f\"{dataset}_confusion_matrix.pdf\"))\n",
    "#\n",
    "# cf = confusion_matrix(filtered_results[\"golden_label\"], filtered_results[\"inferred_label\"], labels = [\"contradiction\", \"entailment\", \"neutral\"], normalize=\"true\")\n",
    "# display = ConfusionMatrixDisplay(cf, display_labels=[\"contradiction\", \"entailment\", \"neutral\"])\n",
    "# display.plot(cmap=custom_cmap)\n",
    "# # Increase font size of the numbers within the squares\n",
    "# for text in display.text_.ravel():\n",
    "#     text.set_fontsize(24)  # Adjust font size as needed\n",
    "# plt.title(\"CodeLlama-Instruct 13B - EQUATE\")\n",
    "# plt.savefig(os.path.join(results_path, f\"EQUATE_confusion_matrix.pdf\"))"
   ],
   "metadata": {
    "collapsed": false
   }
  },
  {
   "cell_type": "code",
   "execution_count": 240,
   "outputs": [],
   "source": [
    "# def impute_rsb(df):\n",
    "#     for dataset in [\"rtequant\", \"redditnli\", \"newsnli\", \"awpnli\", \"stresstest\"]:\n",
    "#         mask_label = ~df[\"inferred_label\"].isin([\"entailment\", \"neutral\", \"contradiction\"])\n",
    "#         mask_source = df[\"source\"] == dataset\n",
    "#         nan_indices_len = df.loc[mask_label & mask_source].shape[0]\n",
    "#         label_counts = df[df[\"source\"]==dataset][\"golden_label\"].value_counts(normalize=True)\n",
    "#         imputed_labels = np.random.choice(label_counts.index, size=nan_indices_len, p=label_counts.values)\n",
    "#         df.loc[mask_label & mask_source, \"inferred_label\"] = imputed_labels\n",
    "#     return df"
   ],
   "metadata": {
    "collapsed": false
   }
  },
  {
   "cell_type": "code",
   "execution_count": 241,
   "outputs": [],
   "source": [
    "# accuracies, f1_scores = pd.DataFrame(), pd.DataFrame()\n",
    "# for rep in range(100):\n",
    "#     qnli_results_df = pd.read_excel(os.path.join(results_path, \"evaluation\", \"qnli_classification_results.xlsx\"))\n",
    "#     imputed_df = impute_rsb(qnli_results_df)\n",
    "#     accuracies = pd.concat([accuracies, print_accuracies(imputed_df)], ignore_index=True)\n",
    "#     f1_scores_df, _ = print_classification_reports(imputed_df)\n",
    "#     f1_scores = pd.concat([f1_scores, f1_scores_df], ignore_index=True)\n",
    "#\n",
    "# avg_accuracy_df = accuracies.groupby(\"dataset\")[\"accuracy\"].aggregate([\"mean\", \"std\"]).reset_index().rename(columns={\"mean\": \"acc_mean\", \"std\": \"acc_std\"})\n",
    "# avg_f1_df = f1_scores.groupby(\"dataset\").aggregate([\"mean\", \"std\"])\n",
    "# avg_f1_df.columns = [' '.join(col).strip() for col in avg_f1_df.columns.values]\n",
    "# avg_f1_df.reset_index(inplace=True)\n",
    "# evaluation_df = pd.merge(avg_accuracy_df, avg_f1_df, on=\"dataset\", how=\"inner\")"
   ],
   "metadata": {
    "collapsed": false
   }
  },
  {
   "cell_type": "code",
   "execution_count": 242,
   "outputs": [],
   "source": [
    "# evaluation_df"
   ],
   "metadata": {
    "collapsed": false
   }
  },
  {
   "cell_type": "code",
   "execution_count": 243,
   "outputs": [],
   "source": [
    "# accuracy_df = print_accuracies(qnli_results_df)"
   ],
   "metadata": {
    "collapsed": false
   }
  },
  {
   "cell_type": "code",
   "execution_count": 244,
   "outputs": [],
   "source": [
    "# f1_df, gpt_f1 = print_classification_reports(qnli_results_df)"
   ],
   "metadata": {
    "collapsed": false
   }
  },
  {
   "cell_type": "code",
   "execution_count": 245,
   "outputs": [],
   "source": [
    "# evaluation_df = pd.merge(accuracy_df, f1_df, on=\"dataset\", how=\"inner\")\n",
    "# evaluation_df"
   ],
   "metadata": {
    "collapsed": false
   }
  },
  {
   "cell_type": "code",
   "execution_count": 246,
   "outputs": [],
   "source": [
    "# evaluation_df.to_excel(os.path.join(results_path, \"evaluation\", \"srb_imputed.xlsx\"), index=False)"
   ],
   "metadata": {
    "collapsed": false
   }
  },
  {
   "cell_type": "code",
   "execution_count": 247,
   "outputs": [],
   "source": [
    "# gpt_f1"
   ],
   "metadata": {
    "collapsed": false
   }
  },
  {
   "cell_type": "code",
   "execution_count": 248,
   "outputs": [],
   "source": [
    "# list(map(lambda f1: round(f1*100, 2), gpt_f1[\"micro_F1\"].values))"
   ],
   "metadata": {
    "collapsed": false
   }
  },
  {
   "cell_type": "markdown",
   "source": [
    "### Perform some automatic quality tests on the scripts"
   ],
   "metadata": {
    "collapsed": false
   }
  },
  {
   "cell_type": "code",
   "execution_count": 249,
   "outputs": [],
   "source": [
    "# dataset_function_name_map = {\n",
    "#     \"stresstest\": \"entailment_or_contradiction_or_neutral(\",\n",
    "#     \"redditnli\": \"entailment_or_contradiction_or_neutral(\",\n",
    "#     \"awpnli\": \"entailment_or_contradiction(\",\n",
    "#     \"newsnli\": \"entailment_or_neutral(\",\n",
    "#     \"rtequant\": \"entailment_or_neutral(\"\n",
    "# }\n",
    "#\n",
    "# def correct_function_name(script: str, dataset: str):\n",
    "#     return (not pd.isna(script)) and dataset_function_name_map[dataset] in script\n",
    "#\n",
    "# test_set[\"correct_function_name\"] = test_set.apply(lambda row: correct_function_name(row[\"inferred_script\"], row[\"source\"]), axis=1)\n",
    "#\n",
    "# scripts_with_correct_function_name = test_set[test_set[\"correct_function_name\"]==True].shape[0]\n",
    "# results_overview[\"correct_function_name\"] = scripts_with_correct_function_name\n",
    "# scripts_with_correct_function_name"
   ],
   "metadata": {
    "collapsed": false
   }
  },
  {
   "cell_type": "code",
   "execution_count": 250,
   "outputs": [],
   "source": [
    "# def script_length_in_lines(script: str):\n",
    "#     if pd.isna(script):\n",
    "#         return 0\n",
    "#     return len(script.split(\"\\n\"))\n",
    "#\n",
    "# test_set[\"expected_script_length\"] = test_set[\"expected_script\"].apply(lambda script: script_length_in_lines(script))\n",
    "# test_set[\"inferred_script_length\"] = test_set[\"inferred_script\"].apply(lambda script: script_length_in_lines(script))\n",
    "#\n",
    "# test_set[test_set[\"expected_script_length\"] == test_set[\"inferred_script_length\"]].shape[0]"
   ],
   "metadata": {
    "collapsed": false
   }
  },
  {
   "cell_type": "code",
   "execution_count": 251,
   "outputs": [],
   "source": [
    "# test_set[test_set[\"expected_script_length\"] != test_set[\"inferred_script_length\"]].head(5)"
   ],
   "metadata": {
    "collapsed": false
   }
  },
  {
   "cell_type": "code",
   "execution_count": 252,
   "outputs": [],
   "source": [
    "# results = dict()"
   ],
   "metadata": {
    "collapsed": false
   }
  },
  {
   "cell_type": "code",
   "execution_count": 253,
   "outputs": [],
   "source": [
    "# qnli_results_df = pd.read_excel(os.path.join(results_path, \"evaluation\", \"qnli_classification_results.xlsx\"))"
   ],
   "metadata": {
    "collapsed": false
   }
  },
  {
   "cell_type": "code",
   "execution_count": 254,
   "outputs": [],
   "source": [
    "# results[\"tokens_exceeded\"] = qnli_results_df[qnli_results_df[\"tokens_exceeded\"]].shape[0]\n",
    "# results[\"missing_script\"] = qnli_results_df[qnli_results_df[\"has_script\"]==False].shape[0]\n",
    "# # results[\"invalid_script\"] = qnli_results_df[qnli_results_df[\"\"]==True].shape[0]\n",
    "# results[\"evaluated_scripts\"] = qnli_results_df[qnli_results_df[\"evaluate_script\"]==True].shape[0]\n",
    "# results[\"labels_obtained\"] = qnli_results_df[qnli_results_df[\"inferred_label\"].isin([\"entailment\", \"neutral\", \"contradiction\"])].shape[0]"
   ],
   "metadata": {
    "collapsed": false
   }
  },
  {
   "cell_type": "code",
   "execution_count": 255,
   "outputs": [],
   "source": [
    "# results"
   ],
   "metadata": {
    "collapsed": false
   }
  },
  {
   "cell_type": "code",
   "execution_count": 256,
   "outputs": [],
   "source": [
    "# qnli_results_df.columns"
   ],
   "metadata": {
    "collapsed": false
   }
  },
  {
   "cell_type": "code",
   "execution_count": 257,
   "outputs": [],
   "source": [
    "# qnli_results_df[qnli_results_df[\"has_script\"]==False][\"inferred_completion\"].head(5)"
   ],
   "metadata": {
    "collapsed": false
   }
  },
  {
   "cell_type": "markdown",
   "source": [
    "### Compute the baseline micro-F1 score for each sub-dataset and for EQUATE"
   ],
   "metadata": {
    "collapsed": false
   }
  },
  {
   "cell_type": "code",
   "execution_count": 258,
   "outputs": [],
   "source": [
    "# print(qnli_results_df[qnli_results_df[\"source\"]==\"awpnli\"][\"golden_label\"].value_counts())\n",
    "# print(qnli_results_df[qnli_results_df[\"source\"]==\"redditnli\"][\"golden_label\"].value_counts())\n",
    "# print(qnli_results_df[qnli_results_df[\"source\"]==\"newsnli\"][\"golden_label\"].value_counts())\n",
    "# print(qnli_results_df[qnli_results_df[\"source\"]==\"stresstest\"][\"golden_label\"].value_counts())\n",
    "# print(qnli_results_df[qnli_results_df[\"source\"]==\"rtequant\"][\"golden_label\"].value_counts())\n",
    "# print(qnli_results_df[\"golden_label\"].value_counts())"
   ],
   "metadata": {
    "collapsed": false
   }
  },
  {
   "cell_type": "code",
   "execution_count": 259,
   "outputs": [],
   "source": [
    "# def weighted_avg_f1(f1_scores, num_samples_per_class):\n",
    "#     total_samples = sum(num_samples_per_class)\n",
    "#     weighted_sum = 0.0\n",
    "#     total_weight = 0.0\n",
    "#\n",
    "#     for f1, num_samples in zip(f1_scores, num_samples_per_class):\n",
    "#         weight = num_samples / total_samples\n",
    "#         weighted_sum += f1 * weight\n",
    "#         total_weight += weight\n",
    "#\n",
    "#     return round(weighted_sum * 100 / total_weight, 2)\n",
    "#\n",
    "# # E, C, N\n",
    "# # awpnli\n",
    "# print(weighted_avg_f1([0.4972, 0.5028], [89, 80]))\n",
    "# # redditnli\n",
    "# print(weighted_avg_f1([0.5738, 0.0819, 0.3443], [35, 5, 21]))\n",
    "# # newsnli\n",
    "# print(weighted_avg_f1([0.5021, 0.4979], [120, 119]))\n",
    "# # stresstest\n",
    "# print(weighted_avg_f1([0.3139, 0.3829, 0.3032], [382, 466, 369]))\n",
    "# # rtequant\n",
    "# print(weighted_avg_f1([0.4250, 0.5750], [17, 23]))\n",
    "# # equate\n",
    "# print(weighted_avg_f1([0.3704, 0.3232, 0.3064], [643, 561, 532]))"
   ],
   "metadata": {
    "collapsed": false
   }
  },
  {
   "cell_type": "markdown",
   "source": [
    "## EVALUATION 4 - consider missing labels as the wrong label"
   ],
   "metadata": {
    "collapsed": false
   }
  },
  {
   "cell_type": "code",
   "execution_count": 260,
   "outputs": [],
   "source": [
    "## INFERENCE LLAMA2 - 7B\n",
    "# model_name = \"llama-2-chat\"\n",
    "# model_display_name = \"Llama-2 7B\"\n",
    "# model_size = \"7B\"\n",
    "## base model\n",
    "# job_id = \"5817639\"\n",
    "## finetuned\n",
    "# job_id = \"5820349_finetuned\"\n",
    "## fintuned with balanced dataset\n",
    "# job_id = \"5836402_finetuned\"\n",
    "\n",
    "## INFERENCE LLAMA2 - 13B\n",
    "# model_name = \"llama-2-chat\"\n",
    "# model_display_name = \"Llama-2 13B\"\n",
    "# model_size = \"13B\"\n",
    "## base model\n",
    "# job_id = \"5822467\"\n",
    "## finetuned\n",
    "# job_id = \"5830782_finetuned\"\n",
    "\n",
    "## INFERENCE CODELLAMA - PYTHON 7B\n",
    "# model_name = \"codellama-python\"\n",
    "# model_display_name = \"CodeLlama-Python 7B\"\n",
    "# model_size = \"7B\"\n",
    "## base model\n",
    "# job_id = \"5852469\"\n",
    "## finetuned\n",
    "# job_id = \"5897597_finetuned\"\n",
    "\n",
    "\n",
    "##### REDO MATRI FOR AWPNLI ABOVE THIS\n",
    "\n",
    "## INFERENCE CODELLAMA - PYTHON 13B\n",
    "# model_name = \"codellama-python\"\n",
    "# model_display_name = \"CodeLlama-Python 13B\"\n",
    "# model_size = \"13B\"\n",
    "## base model\n",
    "# job_id = \"5919626\"\n",
    "## finetuned\n",
    "# job_id = \"\"\n",
    "\n",
    "## INFERENCE CODELLAMA - INSTRUCT 7B\n",
    "# model_name = \"codellama-instruct\"\n",
    "# model_display_name = \"CodeLlama-Instruct 7B\"\n",
    "# model_size = \"7B\"\n",
    "# # base model\n",
    "# job_id = \"5858736\"\n",
    "## finetuned\n",
    "# job_id = \"5892669_finetuned\"\n",
    "\n",
    "## INFERENCE CODELLAMA - INSTRUCT 13B\n",
    "# model_name = \"codellama-instruct\"\n",
    "# model_display_name = \"CodeLlama-Instruct 13B\"\n",
    "# model_size = \"13B\"\n",
    "# # base model\n",
    "# job_id = \"5875184\"\n",
    "# finetuned\n",
    "# job_id = \"6001211_finetuned\"\n",
    "\n",
    "## INFERENCE LLAMA-3 8B\n",
    "# model_name = \"llama3\"\n",
    "# model_size = \"8B\"\n",
    "# # base model\n",
    "# job_id = \"6013398\"\n",
    "\n",
    "results_path = os.path.join(root_path, \"results_inference\", model_name, model_size, job_id)"
   ],
   "metadata": {
    "collapsed": false
   }
  },
  {
   "cell_type": "code",
   "execution_count": 261,
   "outputs": [],
   "source": [
    "qnli_results_df = pd.read_excel(os.path.join(results_path, \"evaluation_new\", \"qnli_classification_results.xlsx\"))"
   ],
   "metadata": {
    "collapsed": false
   }
  },
  {
   "cell_type": "code",
   "execution_count": 262,
   "outputs": [],
   "source": [
    "missing_label_mask = ~qnli_results_df[\"inferred_label\"].isin([\"contradiction\", \"entailment\", \"neutral\"])\n",
    "qnli_results_df.loc[missing_label_mask, \"inferred_label\"] = \"unknown\""
   ],
   "metadata": {
    "collapsed": false
   }
  },
  {
   "cell_type": "code",
   "execution_count": 263,
   "outputs": [
    {
     "data": {
      "text/plain": "golden_label\nentailment       643\ncontradiction    561\nneutral          532\nName: count, dtype: int64"
     },
     "execution_count": 263,
     "metadata": {},
     "output_type": "execute_result"
    }
   ],
   "source": [
    "qnli_results_df[\"golden_label\"].value_counts()"
   ],
   "metadata": {
    "collapsed": false
   }
  },
  {
   "cell_type": "code",
   "execution_count": 264,
   "outputs": [
    {
     "data": {
      "text/plain": "golden_label\nentailment       0.370392\ncontradiction    0.323157\nneutral          0.306452\nName: proportion, dtype: float64"
     },
     "execution_count": 264,
     "metadata": {},
     "output_type": "execute_result"
    }
   ],
   "source": [
    "qnli_results_df[\"golden_label\"].value_counts(normalize=True)"
   ],
   "metadata": {
    "collapsed": false
   }
  },
  {
   "cell_type": "code",
   "execution_count": 265,
   "outputs": [
    {
     "data": {
      "text/plain": "inferred_label\ncontradiction    769\nneutral          521\nentailment       377\nunknown           69\nName: count, dtype: int64"
     },
     "execution_count": 265,
     "metadata": {},
     "output_type": "execute_result"
    }
   ],
   "source": [
    "qnli_results_df[\"inferred_label\"].value_counts()"
   ],
   "metadata": {
    "collapsed": false
   }
  },
  {
   "cell_type": "code",
   "execution_count": 266,
   "outputs": [
    {
     "data": {
      "text/plain": "inferred_label\ncontradiction    0.442972\nneutral          0.300115\nentailment       0.217166\nunknown          0.039747\nName: proportion, dtype: float64"
     },
     "execution_count": 266,
     "metadata": {},
     "output_type": "execute_result"
    }
   ],
   "source": [
    "qnli_results_df[\"inferred_label\"].value_counts(normalize=True)"
   ],
   "metadata": {
    "collapsed": false
   }
  },
  {
   "cell_type": "code",
   "execution_count": 267,
   "outputs": [],
   "source": [
    "from sklearn.metrics import precision_score, recall_score, f1_score\n",
    "\n",
    "def get_micro_scores(y_true, y_pred):\n",
    "    micro_precision = precision_score(y_true, y_pred, average='micro')\n",
    "    micro_recall = recall_score(y_true, y_pred, average='micro')\n",
    "    micro_f1 = f1_score(y_true, y_pred, average='micro')\n",
    "\n",
    "    return round(micro_precision, 4), round(micro_recall, 4), round(micro_f1, 4)\n",
    "\n",
    "    # precision = precision_score(y_true, y_pred, average=\"weighted\")\n",
    "    # recall = recall_score(y_true, y_pred, average=\"weighted\")\n",
    "    # f1 = f1_score(y_true, y_pred, average=\"weighted\")\n",
    "    # return round(precision, 4), round(recall, 4), round(f1, 4)"
   ],
   "metadata": {
    "collapsed": false
   }
  },
  {
   "cell_type": "code",
   "execution_count": 268,
   "outputs": [],
   "source": [
    "accuracy_df = print_accuracies(qnli_results_df)"
   ],
   "metadata": {
    "collapsed": false
   }
  },
  {
   "cell_type": "code",
   "execution_count": 269,
   "outputs": [
    {
     "name": "stderr",
     "output_type": "stream",
     "text": [
      "/Users/ioanamazilu/PycharmProjects/quant_nli/venv/lib/python3.11/site-packages/sklearn/metrics/_classification.py:1471: UndefinedMetricWarning: Recall and F-score are ill-defined and being set to 0.0 in labels with no true samples. Use `zero_division` parameter to control this behavior.\n",
      "  _warn_prf(average, modifier, msg_start, len(result))\n",
      "/Users/ioanamazilu/PycharmProjects/quant_nli/venv/lib/python3.11/site-packages/sklearn/metrics/_classification.py:1471: UndefinedMetricWarning: Recall and F-score are ill-defined and being set to 0.0 in labels with no true samples. Use `zero_division` parameter to control this behavior.\n",
      "  _warn_prf(average, modifier, msg_start, len(result))\n",
      "/Users/ioanamazilu/PycharmProjects/quant_nli/venv/lib/python3.11/site-packages/sklearn/metrics/_classification.py:1471: UndefinedMetricWarning: Recall and F-score are ill-defined and being set to 0.0 in labels with no true samples. Use `zero_division` parameter to control this behavior.\n",
      "  _warn_prf(average, modifier, msg_start, len(result))\n",
      "/Users/ioanamazilu/PycharmProjects/quant_nli/venv/lib/python3.11/site-packages/sklearn/metrics/_classification.py:1471: UndefinedMetricWarning: Recall and F-score are ill-defined and being set to 0.0 in labels with no true samples. Use `zero_division` parameter to control this behavior.\n",
      "  _warn_prf(average, modifier, msg_start, len(result))\n",
      "/Users/ioanamazilu/PycharmProjects/quant_nli/venv/lib/python3.11/site-packages/sklearn/metrics/_classification.py:1471: UndefinedMetricWarning: Recall and F-score are ill-defined and being set to 0.0 in labels with no true samples. Use `zero_division` parameter to control this behavior.\n",
      "  _warn_prf(average, modifier, msg_start, len(result))\n",
      "/Users/ioanamazilu/PycharmProjects/quant_nli/venv/lib/python3.11/site-packages/sklearn/metrics/_classification.py:1471: UndefinedMetricWarning: Recall and F-score are ill-defined and being set to 0.0 in labels with no true samples. Use `zero_division` parameter to control this behavior.\n",
      "  _warn_prf(average, modifier, msg_start, len(result))\n",
      "/Users/ioanamazilu/PycharmProjects/quant_nli/venv/lib/python3.11/site-packages/sklearn/metrics/_classification.py:1471: UndefinedMetricWarning: Recall and F-score are ill-defined and being set to 0.0 in labels with no true samples. Use `zero_division` parameter to control this behavior.\n",
      "  _warn_prf(average, modifier, msg_start, len(result))\n",
      "/Users/ioanamazilu/PycharmProjects/quant_nli/venv/lib/python3.11/site-packages/sklearn/metrics/_classification.py:1471: UndefinedMetricWarning: Recall and F-score are ill-defined and being set to 0.0 in labels with no true samples. Use `zero_division` parameter to control this behavior.\n",
      "  _warn_prf(average, modifier, msg_start, len(result))\n",
      "/Users/ioanamazilu/PycharmProjects/quant_nli/venv/lib/python3.11/site-packages/sklearn/metrics/_classification.py:1471: UndefinedMetricWarning: Recall and F-score are ill-defined and being set to 0.0 in labels with no true samples. Use `zero_division` parameter to control this behavior.\n",
      "  _warn_prf(average, modifier, msg_start, len(result))\n",
      "/Users/ioanamazilu/PycharmProjects/quant_nli/venv/lib/python3.11/site-packages/sklearn/metrics/_classification.py:1471: UndefinedMetricWarning: Recall and F-score are ill-defined and being set to 0.0 in labels with no true samples. Use `zero_division` parameter to control this behavior.\n",
      "  _warn_prf(average, modifier, msg_start, len(result))\n",
      "/Users/ioanamazilu/PycharmProjects/quant_nli/venv/lib/python3.11/site-packages/sklearn/metrics/_classification.py:1471: UndefinedMetricWarning: Recall and F-score are ill-defined and being set to 0.0 in labels with no true samples. Use `zero_division` parameter to control this behavior.\n",
      "  _warn_prf(average, modifier, msg_start, len(result))\n",
      "/Users/ioanamazilu/PycharmProjects/quant_nli/venv/lib/python3.11/site-packages/sklearn/metrics/_classification.py:1471: UndefinedMetricWarning: Recall and F-score are ill-defined and being set to 0.0 in labels with no true samples. Use `zero_division` parameter to control this behavior.\n",
      "  _warn_prf(average, modifier, msg_start, len(result))\n",
      "/Users/ioanamazilu/PycharmProjects/quant_nli/venv/lib/python3.11/site-packages/sklearn/metrics/_classification.py:1471: UndefinedMetricWarning: Recall and F-score are ill-defined and being set to 0.0 in labels with no true samples. Use `zero_division` parameter to control this behavior.\n",
      "  _warn_prf(average, modifier, msg_start, len(result))\n",
      "/Users/ioanamazilu/PycharmProjects/quant_nli/venv/lib/python3.11/site-packages/sklearn/metrics/_classification.py:1471: UndefinedMetricWarning: Recall and F-score are ill-defined and being set to 0.0 in labels with no true samples. Use `zero_division` parameter to control this behavior.\n",
      "  _warn_prf(average, modifier, msg_start, len(result))\n",
      "/Users/ioanamazilu/PycharmProjects/quant_nli/venv/lib/python3.11/site-packages/sklearn/metrics/_classification.py:1471: UndefinedMetricWarning: Recall and F-score are ill-defined and being set to 0.0 in labels with no true samples. Use `zero_division` parameter to control this behavior.\n",
      "  _warn_prf(average, modifier, msg_start, len(result))\n"
     ]
    }
   ],
   "source": [
    "f1_df, gpt_f1 = print_classification_reports(qnli_results_df)"
   ],
   "metadata": {
    "collapsed": false
   }
  },
  {
   "cell_type": "code",
   "execution_count": 270,
   "outputs": [],
   "source": [
    "evaluation_df = pd.merge(accuracy_df, f1_df, on=\"dataset\", how=\"inner\")"
   ],
   "metadata": {
    "collapsed": false
   }
  },
  {
   "cell_type": "code",
   "execution_count": 271,
   "outputs": [
    {
     "data": {
      "text/plain": "      dataset  accuracy      F1-E      F1-C      F1-N  weighted_F1\n0  StressTest  0.384552  0.146912  0.514134  0.399399     0.364080\n1   RTE_Quant  0.625000  0.631579  0.000000  0.666667     0.651754\n2      AWPNLI  0.715084  0.729730  0.804348  0.000000     0.767247\n3     NewsNLI  0.523013  0.325301  0.000000  0.634304     0.479156\n4   RedditNLI  0.622951  0.753623  0.428571  0.461538     0.626426\n5      EQUATE  0.451613  0.319608  0.553383  0.480532     0.444469",
      "text/html": "<div>\n<style scoped>\n    .dataframe tbody tr th:only-of-type {\n        vertical-align: middle;\n    }\n\n    .dataframe tbody tr th {\n        vertical-align: top;\n    }\n\n    .dataframe thead th {\n        text-align: right;\n    }\n</style>\n<table border=\"1\" class=\"dataframe\">\n  <thead>\n    <tr style=\"text-align: right;\">\n      <th></th>\n      <th>dataset</th>\n      <th>accuracy</th>\n      <th>F1-E</th>\n      <th>F1-C</th>\n      <th>F1-N</th>\n      <th>weighted_F1</th>\n    </tr>\n  </thead>\n  <tbody>\n    <tr>\n      <th>0</th>\n      <td>StressTest</td>\n      <td>0.384552</td>\n      <td>0.146912</td>\n      <td>0.514134</td>\n      <td>0.399399</td>\n      <td>0.364080</td>\n    </tr>\n    <tr>\n      <th>1</th>\n      <td>RTE_Quant</td>\n      <td>0.625000</td>\n      <td>0.631579</td>\n      <td>0.000000</td>\n      <td>0.666667</td>\n      <td>0.651754</td>\n    </tr>\n    <tr>\n      <th>2</th>\n      <td>AWPNLI</td>\n      <td>0.715084</td>\n      <td>0.729730</td>\n      <td>0.804348</td>\n      <td>0.000000</td>\n      <td>0.767247</td>\n    </tr>\n    <tr>\n      <th>3</th>\n      <td>NewsNLI</td>\n      <td>0.523013</td>\n      <td>0.325301</td>\n      <td>0.000000</td>\n      <td>0.634304</td>\n      <td>0.479156</td>\n    </tr>\n    <tr>\n      <th>4</th>\n      <td>RedditNLI</td>\n      <td>0.622951</td>\n      <td>0.753623</td>\n      <td>0.428571</td>\n      <td>0.461538</td>\n      <td>0.626426</td>\n    </tr>\n    <tr>\n      <th>5</th>\n      <td>EQUATE</td>\n      <td>0.451613</td>\n      <td>0.319608</td>\n      <td>0.553383</td>\n      <td>0.480532</td>\n      <td>0.444469</td>\n    </tr>\n  </tbody>\n</table>\n</div>"
     },
     "execution_count": 271,
     "metadata": {},
     "output_type": "execute_result"
    }
   ],
   "source": [
    "evaluation_df"
   ],
   "metadata": {
    "collapsed": false
   }
  },
  {
   "cell_type": "code",
   "execution_count": 272,
   "outputs": [],
   "source": [
    "# rows = []\n",
    "# for dataset in list(qnli_results_df[\"source\"].unique()):\n",
    "#     filtered_df = qnli_results_df[qnli_results_df[\"source\"] == dataset]\n",
    "#     p, r, f1 = get_micro_scores(filtered_df[\"golden_label\"], filtered_df[\"inferred_label\"])\n",
    "#     rows.append([dataset_name_mapping[dataset], p, r, f1])\n",
    "#\n",
    "# p, r, f1 =  get_micro_scores(qnli_results_df[\"golden_label\"], qnli_results_df[\"inferred_label\"])\n",
    "# rows.append([\"EQUATE\", p, r, f1])\n",
    "#\n",
    "# micro_scores_df = pd.DataFrame(rows, columns = [\"dataset\", \"micro_P\", \"micro_R\", \"micro_F1\"])\n",
    "# micro_scores_df"
   ],
   "metadata": {
    "collapsed": false
   }
  },
  {
   "cell_type": "code",
   "execution_count": 273,
   "outputs": [],
   "source": [
    "# evaluation_df = pd.merge(evaluation_df, micro_scores_df, on=\"dataset\", how=\"inner\")\n",
    "# evaluation_df"
   ],
   "metadata": {
    "collapsed": false
   }
  },
  {
   "cell_type": "code",
   "execution_count": 274,
   "outputs": [],
   "source": [
    "evaluation_df.to_excel(os.path.join(results_path, \"evaluation_new\", \"evaluation.xlsx\"), index=False)"
   ],
   "metadata": {
    "collapsed": false
   }
  },
  {
   "cell_type": "code",
   "execution_count": 275,
   "outputs": [
    {
     "data": {
      "text/plain": "<Figure size 640x480 with 2 Axes>",
      "image/png": "[encoded data removed]"
     },
     "metadata": {},
     "output_type": "display_data"
    },
    {
     "data": {
      "text/plain": "<Figure size 640x480 with 2 Axes>",
      "image/png": "[encoded data removed]"
     },
     "metadata": {},
     "output_type": "display_data"
    },
    {
     "data": {
      "text/plain": "<Figure size 640x480 with 2 Axes>",
      "image/png": "[encoded data removed]"
     },
     "metadata": {},
     "output_type": "display_data"
    },
    {
     "data": {
      "text/plain": "<Figure size 640x480 with 2 Axes>",
      "image/png": "[encoded data removed]"
     },
     "metadata": {},
     "output_type": "display_data"
    },
    {
     "data": {
      "text/plain": "<Figure size 640x480 with 2 Axes>",
      "image/png": "[encoded data removed]"
     },
     "metadata": {},
     "output_type": "display_data"
    },
    {
     "data": {
      "text/plain": "<Figure size 640x480 with 2 Axes>",
      "image/png": "[encoded data removed]"
     },
     "metadata": {},
     "output_type": "display_data"
    }
   ],
   "source": [
    "from sklearn.metrics import confusion_matrix, ConfusionMatrixDisplay\n",
    "import matplotlib.pyplot as plt\n",
    "from matplotlib.colors import LinearSegmentedColormap\n",
    "\n",
    "os.makedirs(os.path.join(results_path, \"evaluation_new\", \"cf\"), exist_ok=True)\n",
    "\n",
    "# Define custom colormap from white to black\n",
    "cmap_colors = [(1, 1, 1), (0, 0, 0)]  # White to Black\n",
    "custom_cmap = LinearSegmentedColormap.from_list(\"custom_cmap\", cmap_colors)\n",
    "\n",
    "for dataset in [\"awpnli\", \"stresstest\", \"redditnli\", \"rtequant\", \"newsnli\",]:\n",
    "    filtered_df = qnli_results_df[qnli_results_df[\"source\"] == dataset]\n",
    "    if dataset in [\"rtequant\", \"newsnli\"]:\n",
    "        labels = [\"entailment\", \"neutral\"]\n",
    "    elif dataset == \"awpnli\":\n",
    "        labels = [\"contradiction\", \"entailment\"]\n",
    "    else:\n",
    "        labels = [\"contradiction\", \"entailment\", \"neutral\"]\n",
    "    if \"unknown\" in filtered_df[\"inferred_label\"].unique():\n",
    "        labels.append(\"unknown\")\n",
    "    cf = confusion_matrix(filtered_df[\"golden_label\"], filtered_df[\"inferred_label\"], labels=labels, normalize=\"true\")\n",
    "    display = ConfusionMatrixDisplay(cf, display_labels=[label[0].upper() for label in labels])\n",
    "    # Increase label size within the squares\n",
    "    display.plot(cmap=custom_cmap)\n",
    "    # Increase font size of the numbers within the squares\n",
    "    for text in display.text_.ravel():\n",
    "        text.set_fontsize(20)  # Adjust font size as needed\n",
    "    # Increase font size of the axis labels\n",
    "    plt.xlabel('Predicted Label', fontsize=14)  # X-axis label\n",
    "    plt.ylabel('True Label', fontsize=14)       # Y-axis label\n",
    "    # Increase label size within the squares\n",
    "    plt.gca().tick_params(axis='both', which='major', labelsize=16)\n",
    "    plt.title(f\"{model_display_name} - {dataset_name_mapping[dataset]}\")\n",
    "    plt.savefig(os.path.join(results_path, \"evaluation_new\", \"cf\", f\"{dataset}_confusion_matrix.pdf\"))\n",
    "\n",
    "\n",
    "labels = [\"contradiction\", \"entailment\", \"neutral\"]\n",
    "if \"unknown\" in qnli_results_df[\"inferred_label\"].unique():\n",
    "    labels.append(\"unknown\")\n",
    "cf = confusion_matrix(qnli_results_df[\"golden_label\"], qnli_results_df[\"inferred_label\"], labels=labels, normalize=\"true\")\n",
    "display = ConfusionMatrixDisplay(cf, display_labels=[label[0].upper() for label in labels])\n",
    "display.plot(cmap=custom_cmap)\n",
    "# Increase font size of the numbers within the squares\n",
    "for text in display.text_.ravel():\n",
    "    text.set_fontsize(20)  # Adjust font size as needed\n",
    "# Increase font size of the axis labels\n",
    "plt.xlabel('Predicted Label', fontsize=14)  # X-axis label\n",
    "plt.ylabel('True Label', fontsize=14)       # Y-axis label\n",
    "# Increase label size within the squares\n",
    "plt.gca().tick_params(axis='both', which='major', labelsize=16)\n",
    "plt.title(f\"{model_display_name} - EQUATE\")\n",
    "plt.savefig(os.path.join(results_path, \"evaluation_new\", \"cf\", f\"EQUATE_confusion_matrix.pdf\"))"
   ],
   "metadata": {
    "collapsed": false
   }
  },
  {
   "cell_type": "markdown",
   "source": [
    "## BASELINE SCORES"
   ],
   "metadata": {
    "collapsed": false
   }
  },
  {
   "cell_type": "code",
   "execution_count": 276,
   "outputs": [],
   "source": [
    "# import numpy as np\n",
    "# from numpy.random import Generator, BitGenerator\n",
    "# from sklearn.metrics import precision_score, recall_score, f1_score, accuracy_score, precision_recall_fscore_support\n",
    "#\n",
    "# ## Get the baseline micro metrics for the sub-datasets and for EQUATE\n",
    "#\n",
    "# scores_map = {ds_name: {\"accuracy\": [], \"F1-E\": [], \"F1-N\": [], \"F1-C\": [], \"weighted-F1\": []} for ds_name in dataset_name_mapping.keys()}\n",
    "#\n",
    "# for i in range(2):\n",
    "#     for dataset in list(qnli_results_df[\"source\"].unique()):\n",
    "#         mask_source = qnli_results_df[\"source\"] == dataset\n",
    "#         nan_indices_len = qnli_results_df.loc[mask_source].shape[0]\n",
    "#         label_counts = qnli_results_df[qnli_results_df[\"source\"]==dataset][\"golden_label\"].value_counts(normalize=True)\n",
    "#         bit_generator = np.random.PCG64(i)\n",
    "#         generator = np.random.Generator(bit_generator)\n",
    "#         imputed_labels = generator.choice(label_counts.index, size=nan_indices_len, p=label_counts.values)\n",
    "#         # Assign the sampled indices to the corresponding positions\n",
    "#         qnli_results_df.loc[mask_source, \"random_label\"] = imputed_labels\n",
    "#         filtered_df = qnli_results_df[mask_source]\n",
    "#         true_y, pred_y = filtered_df[\"golden_label\"], filtered_df[\"inferred_label\"]\n",
    "#         scores_map[dataset][\"accuracy\"].append(accuracy_score(true_y, pred_y))\n",
    "#         scores_map[dataset][\"weighted-F1\"].append(f1_score(true_y, pred_y, average=\"weighted\"))\n",
    "#         if dataset in [\"rtequant\", \"newsnli\"]:\n",
    "#             labels = [\"entailment\", \"neutral\"]\n",
    "#         elif dataset == \"awpnli\":\n",
    "#             labels = [\"contradiction\", \"entailment\"]\n",
    "#         else:\n",
    "#             labels = [\"contradiction\", \"entailment\", \"neutral\"]\n",
    "#         _, _, clsf_f1_scores, _ = precision_recall_fscore_support(true_y, pred_y)\n",
    "#         for label, f1 in zip (labels, clsf_f1_scores):\n",
    "#             scores_map[dataset][f\"F1-{label[0].upper()}\"].append(f1)\n",
    "#     true_y, pred_y = qnli_results_df[\"golden_label\"], qnli_results_df[\"inferred_label\"]\n",
    "#     scores_map[\"equate\"][\"accuracy\"].append(accuracy_score(true_y, pred_y))\n",
    "#     scores_map[\"equate\"][\"weighted-F1\"].append(f1_score(true_y, pred_y, average=\"weighted\"))\n",
    "#     labels = [\"contradiction\", \"entailment\", \"neutral\"]\n",
    "#     _, _, clsf_f1_scores, _ = precision_recall_fscore_support(true_y, pred_y)\n",
    "#     for label, f1 in zip (labels, clsf_f1_scores):\n",
    "#         scores_map[\"equate\"][f\"F1-{label[0].upper()}\"].append(f1)\n",
    "#\n",
    "# scores_map"
   ],
   "metadata": {
    "collapsed": false
   }
  },
  {
   "cell_type": "code",
   "execution_count": 277,
   "outputs": [],
   "source": [
    "# for dataset, metrics in scores_map.items():\n",
    "#     print(f\"###############{dataset}##############\")\n",
    "#     for metric, scores_list in metrics.items():\n",
    "#         print(f\"{metric}: {round(np.mean(scores_list), 4)}\")"
   ],
   "metadata": {
    "collapsed": false
   }
  },
  {
   "cell_type": "code",
   "execution_count": 278,
   "outputs": [],
   "source": [
    "# from sklearn.metrics import f1_score\n",
    "# import numpy as np\n",
    "#\n",
    "# # Example true labels and predicted labels\n",
    "# true_labels = qnli_results_df[\"golden_label\"]  # True class labels\n",
    "# predicted_labels = qnli_results_df[\"inferred_label\"]  # Predicted class labels\n",
    "#\n",
    "# # Example class frequencies (number of samples for each class)\n",
    "# print(qnli_results_df[\"golden_label\"].value_counts(normalize=True))\n",
    "# class_frequencies = qnli_results_df[\"golden_label\"].value_counts().values  # List containing the number of samples for each class\n",
    "#\n",
    "# # Compute F1 score for each class\n",
    "# f1_scores = []\n",
    "# for class_id in range(len(class_frequencies)):\n",
    "#     mask = np.array(true_labels) == class_id\n",
    "#     f1_scores.append(f1_score(np.array(true_labels)[mask], np.array(predicted_labels)[mask]))\n",
    "#\n",
    "# # Calculate weighted F1 score\n",
    "# weighted_f1_score = np.sum(np.array(f1_scores) * np.array(class_frequencies)) / np.sum(class_frequencies)\n",
    "#\n",
    "# print(\"Weighted F1 Score:\", weighted_f1_score)"
   ],
   "metadata": {
    "collapsed": false
   }
  }
 ],
 "metadata": {
  "kernelspec": {
   "display_name": "Python 3",
   "language": "python",
   "name": "python3"
  },
  "language_info": {
   "codemirror_mode": {
    "name": "ipython",
    "version": 2
   },
   "file_extension": ".py",
   "mimetype": "text/x-python",
   "name": "python",
   "nbconvert_exporter": "python",
   "pygments_lexer": "ipython2",
   "version": "2.7.6"
  }
 },
 "nbformat": 4,
 "nbformat_minor": 0
}
