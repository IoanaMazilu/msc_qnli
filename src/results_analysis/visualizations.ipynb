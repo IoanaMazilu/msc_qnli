{
 "cells": [
  {
   "cell_type": "code",
   "execution_count": 5,
   "metadata": {
    "collapsed": true
   },
   "outputs": [],
   "source": [
    "import pandas as pd\n",
    "import plotly.express as px"
   ]
  },
  {
   "cell_type": "markdown",
   "source": [
    "### Code quality bar plots"
   ],
   "metadata": {
    "collapsed": false
   }
  },
  {
   "cell_type": "code",
   "execution_count": 20,
   "outputs": [
    {
     "name": "stdout",
     "output_type": "stream",
     "text": [
      "        Model     Dataset  Compliant  Partially compliant  Non-compliant\n",
      "0  CL-I (13B)   RTE_Quant       0.46                 0.40           0.14\n",
      "1  CL-I (13B)   RedditNLI       0.72                 0.19           0.09\n",
      "2  CL-I (13B)     NewsNLI       0.52                 0.30           0.18\n",
      "3  CL-I (13B)      AWPNLI       0.92                 0.06           0.02\n",
      "4  CL-I (13B)  StressTest       0.54                 0.36           0.10\n"
     ]
    }
   ],
   "source": [
    "# Create a dictionary with the data\n",
    "data_training = {\n",
    "    \"Model\": [\"GPT4\", \"GPT4\", \"GPT4\", \"GPT4\", \"GPT4\"],\n",
    "    \"Dataset\": [\"RTE_Quant\", \"RedditNLI\", \"NewsNLI\", \"AWPNLI\", \"StressTest\"],\n",
    "    \"Compliant\": [0.60, 0.68, 0.62, 0.98, 0.60],\n",
    "    \"Partially compliant\": [0.28, 0.20, 0.18, 0.02, 0.34],\n",
    "    \"Non-compliant\": [0.12, 0.12, 0.20, 0, 0.06]\n",
    "}\n",
    "\n",
    "data_training = {\n",
    "    \"Model\": [\"GPT4\", \"GPT4\", \"GPT4\", \"GPT4\", \"GPT4\"],\n",
    "    \"Dataset\": [\"RTE_Quant\", \"RedditNLI\", \"NewsNLI\", \"AWPNLI\", \"StressTest\"],\n",
    "    \"Compliant\": [60, 68, 62, 98, 60],\n",
    "    \"Partially compliant\": [28, 20, 18, 2, 34],\n",
    "    \"Non-compliant\": [12, 12, 20, 0, 6]\n",
    "}\n",
    "\n",
    "data_finetuned_correct = {\n",
    "    \"Model\": [\"CL-I (13B)\", \"CL-I (13B)\", \"CL-I (13B)\", \"CL-I (13B)\", \"CL-I (13B)\"],\n",
    "    \"Dataset\": [\"RTE_Quant\", \"RedditNLI\", \"NewsNLI\", \"AWPNLI\", \"StressTest\"],\n",
    "    \"Compliant\": [0.46, 0.72, 0.52, 0.92, 0.52],\n",
    "    \"Partially compliant\": [0.40, 0.18, 0.28, 0.06, 0.36],\n",
    "    \"Non-compliant\": [0.14, 0.09, 0.18, 0.02, 0.10]\n",
    "}\n",
    "\n",
    "# Create DataFrame\n",
    "df = pd.DataFrame(data_training)\n",
    "\n",
    "# Display DataFrame\n",
    "print(df)"
   ],
   "metadata": {
    "collapsed": false
   }
  },
  {
   "cell_type": "code",
   "execution_count": 21,
   "outputs": [
    {
     "data": {
      "application/vnd.plotly.v1+json": {
       "data": [
        {
         "marker": {
          "color": "#90EE90"
         },
         "name": "Compliant",
         "text": [
          "46%",
          "72%",
          "52%",
          "92%",
          "54%"
         ],
         "textposition": "inside",
         "x": [
          "RTE_Quant",
          "RedditNLI",
          "NewsNLI",
          "AWPNLI",
          "StressTest"
         ],
         "y": [
          0.46,
          0.72,
          0.52,
          0.92,
          0.54
         ],
         "type": "bar"
        },
        {
         "marker": {
          "color": "#FFFFE0"
         },
         "name": "Partially compliant",
         "text": [
          "40%",
          "19%",
          "30%",
          "6%",
          "36%"
         ],
         "textposition": "inside",
         "x": [
          "RTE_Quant",
          "RedditNLI",
          "NewsNLI",
          "AWPNLI",
          "StressTest"
         ],
         "y": [
          0.4,
          0.19,
          0.3,
          0.06,
          0.36
         ],
         "type": "bar"
        },
        {
         "marker": {
          "color": "#FFCCCC"
         },
         "name": "Non-compliant",
         "text": [
          "14%",
          "9%",
          "18%",
          "2%",
          "10%"
         ],
         "textposition": "inside",
         "x": [
          "RTE_Quant",
          "RedditNLI",
          "NewsNLI",
          "AWPNLI",
          "StressTest"
         ],
         "y": [
          0.14,
          0.09,
          0.18,
          0.02,
          0.1
         ],
         "type": "bar"
        }
       ],
       "layout": {
        "template": {
         "data": {
          "histogram2dcontour": [
           {
            "type": "histogram2dcontour",
            "colorbar": {
             "outlinewidth": 0,
             "ticks": ""
            },
            "colorscale": [
             [
              0.0,
              "#0d0887"
             ],
             [
              0.1111111111111111,
              "#46039f"
             ],
             [
              0.2222222222222222,
              "#7201a8"
             ],
             [
              0.3333333333333333,
              "#9c179e"
             ],
             [
              0.4444444444444444,
              "#bd3786"
             ],
             [
              0.5555555555555556,
              "#d8576b"
             ],
             [
              0.6666666666666666,
              "#ed7953"
             ],
             [
              0.7777777777777778,
              "#fb9f3a"
             ],
             [
              0.8888888888888888,
              "#fdca26"
             ],
             [
              1.0,
              "#f0f921"
             ]
            ]
           }
          ],
          "choropleth": [
           {
            "type": "choropleth",
            "colorbar": {
             "outlinewidth": 0,
             "ticks": ""
            }
           }
          ],
          "histogram2d": [
           {
            "type": "histogram2d",
            "colorbar": {
             "outlinewidth": 0,
             "ticks": ""
            },
            "colorscale": [
             [
              0.0,
              "#0d0887"
             ],
             [
              0.1111111111111111,
              "#46039f"
             ],
             [
              0.2222222222222222,
              "#7201a8"
             ],
             [
              0.3333333333333333,
              "#9c179e"
             ],
             [
              0.4444444444444444,
              "#bd3786"
             ],
             [
              0.5555555555555556,
              "#d8576b"
             ],
             [
              0.6666666666666666,
              "#ed7953"
             ],
             [
              0.7777777777777778,
              "#fb9f3a"
             ],
             [
              0.8888888888888888,
              "#fdca26"
             ],
             [
              1.0,
              "#f0f921"
             ]
            ]
           }
          ],
          "heatmap": [
           {
            "type": "heatmap",
            "colorbar": {
             "outlinewidth": 0,
             "ticks": ""
            },
            "colorscale": [
             [
              0.0,
              "#0d0887"
             ],
             [
              0.1111111111111111,
              "#46039f"
             ],
             [
              0.2222222222222222,
              "#7201a8"
             ],
             [
              0.3333333333333333,
              "#9c179e"
             ],
             [
              0.4444444444444444,
              "#bd3786"
             ],
             [
              0.5555555555555556,
              "#d8576b"
             ],
             [
              0.6666666666666666,
              "#ed7953"
             ],
             [
              0.7777777777777778,
              "#fb9f3a"
             ],
             [
              0.8888888888888888,
              "#fdca26"
             ],
             [
              1.0,
              "#f0f921"
             ]
            ]
           }
          ],
          "heatmapgl": [
           {
            "type": "heatmapgl",
            "colorbar": {
             "outlinewidth": 0,
             "ticks": ""
            },
            "colorscale": [
             [
              0.0,
              "#0d0887"
             ],
             [
              0.1111111111111111,
              "#46039f"
             ],
             [
              0.2222222222222222,
              "#7201a8"
             ],
             [
              0.3333333333333333,
              "#9c179e"
             ],
             [
              0.4444444444444444,
              "#bd3786"
             ],
             [
              0.5555555555555556,
              "#d8576b"
             ],
             [
              0.6666666666666666,
              "#ed7953"
             ],
             [
              0.7777777777777778,
              "#fb9f3a"
             ],
             [
              0.8888888888888888,
              "#fdca26"
             ],
             [
              1.0,
              "#f0f921"
             ]
            ]
           }
          ],
          "contourcarpet": [
           {
            "type": "contourcarpet",
            "colorbar": {
             "outlinewidth": 0,
             "ticks": ""
            }
           }
          ],
          "contour": [
           {
            "type": "contour",
            "colorbar": {
             "outlinewidth": 0,
             "ticks": ""
            },
            "colorscale": [
             [
              0.0,
              "#0d0887"
             ],
             [
              0.1111111111111111,
              "#46039f"
             ],
             [
              0.2222222222222222,
              "#7201a8"
             ],
             [
              0.3333333333333333,
              "#9c179e"
             ],
             [
              0.4444444444444444,
              "#bd3786"
             ],
             [
              0.5555555555555556,
              "#d8576b"
             ],
             [
              0.6666666666666666,
              "#ed7953"
             ],
             [
              0.7777777777777778,
              "#fb9f3a"
             ],
             [
              0.8888888888888888,
              "#fdca26"
             ],
             [
              1.0,
              "#f0f921"
             ]
            ]
           }
          ],
          "surface": [
           {
            "type": "surface",
            "colorbar": {
             "outlinewidth": 0,
             "ticks": ""
            },
            "colorscale": [
             [
              0.0,
              "#0d0887"
             ],
             [
              0.1111111111111111,
              "#46039f"
             ],
             [
              0.2222222222222222,
              "#7201a8"
             ],
             [
              0.3333333333333333,
              "#9c179e"
             ],
             [
              0.4444444444444444,
              "#bd3786"
             ],
             [
              0.5555555555555556,
              "#d8576b"
             ],
             [
              0.6666666666666666,
              "#ed7953"
             ],
             [
              0.7777777777777778,
              "#fb9f3a"
             ],
             [
              0.8888888888888888,
              "#fdca26"
             ],
             [
              1.0,
              "#f0f921"
             ]
            ]
           }
          ],
          "mesh3d": [
           {
            "type": "mesh3d",
            "colorbar": {
             "outlinewidth": 0,
             "ticks": ""
            }
           }
          ],
          "scatter": [
           {
            "marker": {
             "line": {
              "color": "#283442"
             }
            },
            "type": "scatter"
           }
          ],
          "parcoords": [
           {
            "type": "parcoords",
            "line": {
             "colorbar": {
              "outlinewidth": 0,
              "ticks": ""
             }
            }
           }
          ],
          "scatterpolargl": [
           {
            "type": "scatterpolargl",
            "marker": {
             "colorbar": {
              "outlinewidth": 0,
              "ticks": ""
             }
            }
           }
          ],
          "bar": [
           {
            "error_x": {
             "color": "#f2f5fa"
            },
            "error_y": {
             "color": "#f2f5fa"
            },
            "marker": {
             "line": {
              "color": "rgb(17,17,17)",
              "width": 0.5
             },
             "pattern": {
              "fillmode": "overlay",
              "size": 10,
              "solidity": 0.2
             }
            },
            "type": "bar"
           }
          ],
          "scattergeo": [
           {
            "type": "scattergeo",
            "marker": {
             "colorbar": {
              "outlinewidth": 0,
              "ticks": ""
             }
            }
           }
          ],
          "scatterpolar": [
           {
            "type": "scatterpolar",
            "marker": {
             "colorbar": {
              "outlinewidth": 0,
              "ticks": ""
             }
            }
           }
          ],
          "histogram": [
           {
            "marker": {
             "pattern": {
              "fillmode": "overlay",
              "size": 10,
              "solidity": 0.2
             }
            },
            "type": "histogram"
           }
          ],
          "scattergl": [
           {
            "marker": {
             "line": {
              "color": "#283442"
             }
            },
            "type": "scattergl"
           }
          ],
          "scatter3d": [
           {
            "type": "scatter3d",
            "line": {
             "colorbar": {
              "outlinewidth": 0,
              "ticks": ""
             }
            },
            "marker": {
             "colorbar": {
              "outlinewidth": 0,
              "ticks": ""
             }
            }
           }
          ],
          "scattermapbox": [
           {
            "type": "scattermapbox",
            "marker": {
             "colorbar": {
              "outlinewidth": 0,
              "ticks": ""
             }
            }
           }
          ],
          "scatterternary": [
           {
            "type": "scatterternary",
            "marker": {
             "colorbar": {
              "outlinewidth": 0,
              "ticks": ""
             }
            }
           }
          ],
          "scattercarpet": [
           {
            "type": "scattercarpet",
            "marker": {
             "colorbar": {
              "outlinewidth": 0,
              "ticks": ""
             }
            }
           }
          ],
          "carpet": [
           {
            "aaxis": {
             "endlinecolor": "#A2B1C6",
             "gridcolor": "#506784",
             "linecolor": "#506784",
             "minorgridcolor": "#506784",
             "startlinecolor": "#A2B1C6"
            },
            "baxis": {
             "endlinecolor": "#A2B1C6",
             "gridcolor": "#506784",
             "linecolor": "#506784",
             "minorgridcolor": "#506784",
             "startlinecolor": "#A2B1C6"
            },
            "type": "carpet"
           }
          ],
          "table": [
           {
            "cells": {
             "fill": {
              "color": "#506784"
             },
             "line": {
              "color": "rgb(17,17,17)"
             }
            },
            "header": {
             "fill": {
              "color": "#2a3f5f"
             },
             "line": {
              "color": "rgb(17,17,17)"
             }
            },
            "type": "table"
           }
          ],
          "barpolar": [
           {
            "marker": {
             "line": {
              "color": "rgb(17,17,17)",
              "width": 0.5
             },
             "pattern": {
              "fillmode": "overlay",
              "size": 10,
              "solidity": 0.2
             }
            },
            "type": "barpolar"
           }
          ],
          "pie": [
           {
            "automargin": true,
            "type": "pie"
           }
          ]
         },
         "layout": {
          "autotypenumbers": "strict",
          "colorway": [
           "#636efa",
           "#EF553B",
           "#00cc96",
           "#ab63fa",
           "#FFA15A",
           "#19d3f3",
           "#FF6692",
           "#B6E880",
           "#FF97FF",
           "#FECB52"
          ],
          "font": {
           "color": "#f2f5fa"
          },
          "hovermode": "closest",
          "hoverlabel": {
           "align": "left"
          },
          "paper_bgcolor": "rgb(17,17,17)",
          "plot_bgcolor": "rgb(17,17,17)",
          "polar": {
           "bgcolor": "rgb(17,17,17)",
           "angularaxis": {
            "gridcolor": "#506784",
            "linecolor": "#506784",
            "ticks": ""
           },
           "radialaxis": {
            "gridcolor": "#506784",
            "linecolor": "#506784",
            "ticks": ""
           }
          },
          "ternary": {
           "bgcolor": "rgb(17,17,17)",
           "aaxis": {
            "gridcolor": "#506784",
            "linecolor": "#506784",
            "ticks": ""
           },
           "baxis": {
            "gridcolor": "#506784",
            "linecolor": "#506784",
            "ticks": ""
           },
           "caxis": {
            "gridcolor": "#506784",
            "linecolor": "#506784",
            "ticks": ""
           }
          },
          "coloraxis": {
           "colorbar": {
            "outlinewidth": 0,
            "ticks": ""
           }
          },
          "colorscale": {
           "sequential": [
            [
             0.0,
             "#0d0887"
            ],
            [
             0.1111111111111111,
             "#46039f"
            ],
            [
             0.2222222222222222,
             "#7201a8"
            ],
            [
             0.3333333333333333,
             "#9c179e"
            ],
            [
             0.4444444444444444,
             "#bd3786"
            ],
            [
             0.5555555555555556,
             "#d8576b"
            ],
            [
             0.6666666666666666,
             "#ed7953"
            ],
            [
             0.7777777777777778,
             "#fb9f3a"
            ],
            [
             0.8888888888888888,
             "#fdca26"
            ],
            [
             1.0,
             "#f0f921"
            ]
           ],
           "sequentialminus": [
            [
             0.0,
             "#0d0887"
            ],
            [
             0.1111111111111111,
             "#46039f"
            ],
            [
             0.2222222222222222,
             "#7201a8"
            ],
            [
             0.3333333333333333,
             "#9c179e"
            ],
            [
             0.4444444444444444,
             "#bd3786"
            ],
            [
             0.5555555555555556,
             "#d8576b"
            ],
            [
             0.6666666666666666,
             "#ed7953"
            ],
            [
             0.7777777777777778,
             "#fb9f3a"
            ],
            [
             0.8888888888888888,
             "#fdca26"
            ],
            [
             1.0,
             "#f0f921"
            ]
           ],
           "diverging": [
            [
             0,
             "#8e0152"
            ],
            [
             0.1,
             "#c51b7d"
            ],
            [
             0.2,
             "#de77ae"
            ],
            [
             0.3,
             "#f1b6da"
            ],
            [
             0.4,
             "#fde0ef"
            ],
            [
             0.5,
             "#f7f7f7"
            ],
            [
             0.6,
             "#e6f5d0"
            ],
            [
             0.7,
             "#b8e186"
            ],
            [
             0.8,
             "#7fbc41"
            ],
            [
             0.9,
             "#4d9221"
            ],
            [
             1,
             "#276419"
            ]
           ]
          },
          "xaxis": {
           "gridcolor": "#283442",
           "linecolor": "#506784",
           "ticks": "",
           "title": {
            "standoff": 15
           },
           "zerolinecolor": "#283442",
           "automargin": true,
           "zerolinewidth": 2
          },
          "yaxis": {
           "gridcolor": "#283442",
           "linecolor": "#506784",
           "ticks": "",
           "title": {
            "standoff": 15
           },
           "zerolinecolor": "#283442",
           "automargin": true,
           "zerolinewidth": 2
          },
          "scene": {
           "xaxis": {
            "backgroundcolor": "rgb(17,17,17)",
            "gridcolor": "#506784",
            "linecolor": "#506784",
            "showbackground": true,
            "ticks": "",
            "zerolinecolor": "#C8D4E3",
            "gridwidth": 2
           },
           "yaxis": {
            "backgroundcolor": "rgb(17,17,17)",
            "gridcolor": "#506784",
            "linecolor": "#506784",
            "showbackground": true,
            "ticks": "",
            "zerolinecolor": "#C8D4E3",
            "gridwidth": 2
           },
           "zaxis": {
            "backgroundcolor": "rgb(17,17,17)",
            "gridcolor": "#506784",
            "linecolor": "#506784",
            "showbackground": true,
            "ticks": "",
            "zerolinecolor": "#C8D4E3",
            "gridwidth": 2
           }
          },
          "shapedefaults": {
           "line": {
            "color": "#f2f5fa"
           }
          },
          "annotationdefaults": {
           "arrowcolor": "#f2f5fa",
           "arrowhead": 0,
           "arrowwidth": 1
          },
          "geo": {
           "bgcolor": "rgb(17,17,17)",
           "landcolor": "rgb(17,17,17)",
           "subunitcolor": "#506784",
           "showland": true,
           "showlakes": true,
           "lakecolor": "rgb(17,17,17)"
          },
          "title": {
           "x": 0.05
          },
          "updatemenudefaults": {
           "bgcolor": "#506784",
           "borderwidth": 0
          },
          "sliderdefaults": {
           "bgcolor": "#C8D4E3",
           "borderwidth": 1,
           "bordercolor": "rgb(17,17,17)",
           "tickwidth": 0
          },
          "mapbox": {
           "style": "dark"
          }
         }
        },
        "font": {
         "color": "black"
        },
        "barmode": "stack",
        "title": {
         "text": "Code quality for scripts obtained with CL-Instruct 13B"
        },
        "plot_bgcolor": "rgba(0,0,0,0)",
        "paper_bgcolor": "rgba(0,0,0,0)",
        "xaxis": {
         "showgrid": false,
         "zeroline": false
        },
        "yaxis": {
         "showgrid": false,
         "zeroline": false
        }
       },
       "config": {
        "plotlyServerURL": "https://plot.ly"
       }
      },
      "text/html": "<div>                            <div id=\"8f296056-af92-4d16-9e42-1492e585e14b\" class=\"plotly-graph-div\" style=\"height:525px; width:100%;\"></div>            <script type=\"text/javascript\">                require([\"plotly\"], function(Plotly) {                    window.PLOTLYENV=window.PLOTLYENV || {};                                    if (document.getElementById(\"8f296056-af92-4d16-9e42-1492e585e14b\")) {                    Plotly.newPlot(                        \"8f296056-af92-4d16-9e42-1492e585e14b\",                        [{\"marker\":{\"color\":\"#90EE90\"},\"name\":\"Compliant\",\"text\":[\"46%\",\"72%\",\"52%\",\"92%\",\"54%\"],\"textposition\":\"inside\",\"x\":[\"RTE_Quant\",\"RedditNLI\",\"NewsNLI\",\"AWPNLI\",\"StressTest\"],\"y\":[0.46,0.72,0.52,0.92,0.54],\"type\":\"bar\"},{\"marker\":{\"color\":\"#FFFFE0\"},\"name\":\"Partially compliant\",\"text\":[\"40%\",\"19%\",\"30%\",\"6%\",\"36%\"],\"textposition\":\"inside\",\"x\":[\"RTE_Quant\",\"RedditNLI\",\"NewsNLI\",\"AWPNLI\",\"StressTest\"],\"y\":[0.4,0.19,0.3,0.06,0.36],\"type\":\"bar\"},{\"marker\":{\"color\":\"#FFCCCC\"},\"name\":\"Non-compliant\",\"text\":[\"14%\",\"9%\",\"18%\",\"2%\",\"10%\"],\"textposition\":\"inside\",\"x\":[\"RTE_Quant\",\"RedditNLI\",\"NewsNLI\",\"AWPNLI\",\"StressTest\"],\"y\":[0.14,0.09,0.18,0.02,0.1],\"type\":\"bar\"}],                        {\"template\":{\"data\":{\"histogram2dcontour\":[{\"type\":\"histogram2dcontour\",\"colorbar\":{\"outlinewidth\":0,\"ticks\":\"\"},\"colorscale\":[[0.0,\"#0d0887\"],[0.1111111111111111,\"#46039f\"],[0.2222222222222222,\"#7201a8\"],[0.3333333333333333,\"#9c179e\"],[0.4444444444444444,\"#bd3786\"],[0.5555555555555556,\"#d8576b\"],[0.6666666666666666,\"#ed7953\"],[0.7777777777777778,\"#fb9f3a\"],[0.8888888888888888,\"#fdca26\"],[1.0,\"#f0f921\"]]}],\"choropleth\":[{\"type\":\"choropleth\",\"colorbar\":{\"outlinewidth\":0,\"ticks\":\"\"}}],\"histogram2d\":[{\"type\":\"histogram2d\",\"colorbar\":{\"outlinewidth\":0,\"ticks\":\"\"},\"colorscale\":[[0.0,\"#0d0887\"],[0.1111111111111111,\"#46039f\"],[0.2222222222222222,\"#7201a8\"],[0.3333333333333333,\"#9c179e\"],[0.4444444444444444,\"#bd3786\"],[0.5555555555555556,\"#d8576b\"],[0.6666666666666666,\"#ed7953\"],[0.7777777777777778,\"#fb9f3a\"],[0.8888888888888888,\"#fdca26\"],[1.0,\"#f0f921\"]]}],\"heatmap\":[{\"type\":\"heatmap\",\"colorbar\":{\"outlinewidth\":0,\"ticks\":\"\"},\"colorscale\":[[0.0,\"#0d0887\"],[0.1111111111111111,\"#46039f\"],[0.2222222222222222,\"#7201a8\"],[0.3333333333333333,\"#9c179e\"],[0.4444444444444444,\"#bd3786\"],[0.5555555555555556,\"#d8576b\"],[0.6666666666666666,\"#ed7953\"],[0.7777777777777778,\"#fb9f3a\"],[0.8888888888888888,\"#fdca26\"],[1.0,\"#f0f921\"]]}],\"heatmapgl\":[{\"type\":\"heatmapgl\",\"colorbar\":{\"outlinewidth\":0,\"ticks\":\"\"},\"colorscale\":[[0.0,\"#0d0887\"],[0.1111111111111111,\"#46039f\"],[0.2222222222222222,\"#7201a8\"],[0.3333333333333333,\"#9c179e\"],[0.4444444444444444,\"#bd3786\"],[0.5555555555555556,\"#d8576b\"],[0.6666666666666666,\"#ed7953\"],[0.7777777777777778,\"#fb9f3a\"],[0.8888888888888888,\"#fdca26\"],[1.0,\"#f0f921\"]]}],\"contourcarpet\":[{\"type\":\"contourcarpet\",\"colorbar\":{\"outlinewidth\":0,\"ticks\":\"\"}}],\"contour\":[{\"type\":\"contour\",\"colorbar\":{\"outlinewidth\":0,\"ticks\":\"\"},\"colorscale\":[[0.0,\"#0d0887\"],[0.1111111111111111,\"#46039f\"],[0.2222222222222222,\"#7201a8\"],[0.3333333333333333,\"#9c179e\"],[0.4444444444444444,\"#bd3786\"],[0.5555555555555556,\"#d8576b\"],[0.6666666666666666,\"#ed7953\"],[0.7777777777777778,\"#fb9f3a\"],[0.8888888888888888,\"#fdca26\"],[1.0,\"#f0f921\"]]}],\"surface\":[{\"type\":\"surface\",\"colorbar\":{\"outlinewidth\":0,\"ticks\":\"\"},\"colorscale\":[[0.0,\"#0d0887\"],[0.1111111111111111,\"#46039f\"],[0.2222222222222222,\"#7201a8\"],[0.3333333333333333,\"#9c179e\"],[0.4444444444444444,\"#bd3786\"],[0.5555555555555556,\"#d8576b\"],[0.6666666666666666,\"#ed7953\"],[0.7777777777777778,\"#fb9f3a\"],[0.8888888888888888,\"#fdca26\"],[1.0,\"#f0f921\"]]}],\"mesh3d\":[{\"type\":\"mesh3d\",\"colorbar\":{\"outlinewidth\":0,\"ticks\":\"\"}}],\"scatter\":[{\"marker\":{\"line\":{\"color\":\"#283442\"}},\"type\":\"scatter\"}],\"parcoords\":[{\"type\":\"parcoords\",\"line\":{\"colorbar\":{\"outlinewidth\":0,\"ticks\":\"\"}}}],\"scatterpolargl\":[{\"type\":\"scatterpolargl\",\"marker\":{\"colorbar\":{\"outlinewidth\":0,\"ticks\":\"\"}}}],\"bar\":[{\"error_x\":{\"color\":\"#f2f5fa\"},\"error_y\":{\"color\":\"#f2f5fa\"},\"marker\":{\"line\":{\"color\":\"rgb(17,17,17)\",\"width\":0.5},\"pattern\":{\"fillmode\":\"overlay\",\"size\":10,\"solidity\":0.2}},\"type\":\"bar\"}],\"scattergeo\":[{\"type\":\"scattergeo\",\"marker\":{\"colorbar\":{\"outlinewidth\":0,\"ticks\":\"\"}}}],\"scatterpolar\":[{\"type\":\"scatterpolar\",\"marker\":{\"colorbar\":{\"outlinewidth\":0,\"ticks\":\"\"}}}],\"histogram\":[{\"marker\":{\"pattern\":{\"fillmode\":\"overlay\",\"size\":10,\"solidity\":0.2}},\"type\":\"histogram\"}],\"scattergl\":[{\"marker\":{\"line\":{\"color\":\"#283442\"}},\"type\":\"scattergl\"}],\"scatter3d\":[{\"type\":\"scatter3d\",\"line\":{\"colorbar\":{\"outlinewidth\":0,\"ticks\":\"\"}},\"marker\":{\"colorbar\":{\"outlinewidth\":0,\"ticks\":\"\"}}}],\"scattermapbox\":[{\"type\":\"scattermapbox\",\"marker\":{\"colorbar\":{\"outlinewidth\":0,\"ticks\":\"\"}}}],\"scatterternary\":[{\"type\":\"scatterternary\",\"marker\":{\"colorbar\":{\"outlinewidth\":0,\"ticks\":\"\"}}}],\"scattercarpet\":[{\"type\":\"scattercarpet\",\"marker\":{\"colorbar\":{\"outlinewidth\":0,\"ticks\":\"\"}}}],\"carpet\":[{\"aaxis\":{\"endlinecolor\":\"#A2B1C6\",\"gridcolor\":\"#506784\",\"linecolor\":\"#506784\",\"minorgridcolor\":\"#506784\",\"startlinecolor\":\"#A2B1C6\"},\"baxis\":{\"endlinecolor\":\"#A2B1C6\",\"gridcolor\":\"#506784\",\"linecolor\":\"#506784\",\"minorgridcolor\":\"#506784\",\"startlinecolor\":\"#A2B1C6\"},\"type\":\"carpet\"}],\"table\":[{\"cells\":{\"fill\":{\"color\":\"#506784\"},\"line\":{\"color\":\"rgb(17,17,17)\"}},\"header\":{\"fill\":{\"color\":\"#2a3f5f\"},\"line\":{\"color\":\"rgb(17,17,17)\"}},\"type\":\"table\"}],\"barpolar\":[{\"marker\":{\"line\":{\"color\":\"rgb(17,17,17)\",\"width\":0.5},\"pattern\":{\"fillmode\":\"overlay\",\"size\":10,\"solidity\":0.2}},\"type\":\"barpolar\"}],\"pie\":[{\"automargin\":true,\"type\":\"pie\"}]},\"layout\":{\"autotypenumbers\":\"strict\",\"colorway\":[\"#636efa\",\"#EF553B\",\"#00cc96\",\"#ab63fa\",\"#FFA15A\",\"#19d3f3\",\"#FF6692\",\"#B6E880\",\"#FF97FF\",\"#FECB52\"],\"font\":{\"color\":\"#f2f5fa\"},\"hovermode\":\"closest\",\"hoverlabel\":{\"align\":\"left\"},\"paper_bgcolor\":\"rgb(17,17,17)\",\"plot_bgcolor\":\"rgb(17,17,17)\",\"polar\":{\"bgcolor\":\"rgb(17,17,17)\",\"angularaxis\":{\"gridcolor\":\"#506784\",\"linecolor\":\"#506784\",\"ticks\":\"\"},\"radialaxis\":{\"gridcolor\":\"#506784\",\"linecolor\":\"#506784\",\"ticks\":\"\"}},\"ternary\":{\"bgcolor\":\"rgb(17,17,17)\",\"aaxis\":{\"gridcolor\":\"#506784\",\"linecolor\":\"#506784\",\"ticks\":\"\"},\"baxis\":{\"gridcolor\":\"#506784\",\"linecolor\":\"#506784\",\"ticks\":\"\"},\"caxis\":{\"gridcolor\":\"#506784\",\"linecolor\":\"#506784\",\"ticks\":\"\"}},\"coloraxis\":{\"colorbar\":{\"outlinewidth\":0,\"ticks\":\"\"}},\"colorscale\":{\"sequential\":[[0.0,\"#0d0887\"],[0.1111111111111111,\"#46039f\"],[0.2222222222222222,\"#7201a8\"],[0.3333333333333333,\"#9c179e\"],[0.4444444444444444,\"#bd3786\"],[0.5555555555555556,\"#d8576b\"],[0.6666666666666666,\"#ed7953\"],[0.7777777777777778,\"#fb9f3a\"],[0.8888888888888888,\"#fdca26\"],[1.0,\"#f0f921\"]],\"sequentialminus\":[[0.0,\"#0d0887\"],[0.1111111111111111,\"#46039f\"],[0.2222222222222222,\"#7201a8\"],[0.3333333333333333,\"#9c179e\"],[0.4444444444444444,\"#bd3786\"],[0.5555555555555556,\"#d8576b\"],[0.6666666666666666,\"#ed7953\"],[0.7777777777777778,\"#fb9f3a\"],[0.8888888888888888,\"#fdca26\"],[1.0,\"#f0f921\"]],\"diverging\":[[0,\"#8e0152\"],[0.1,\"#c51b7d\"],[0.2,\"#de77ae\"],[0.3,\"#f1b6da\"],[0.4,\"#fde0ef\"],[0.5,\"#f7f7f7\"],[0.6,\"#e6f5d0\"],[0.7,\"#b8e186\"],[0.8,\"#7fbc41\"],[0.9,\"#4d9221\"],[1,\"#276419\"]]},\"xaxis\":{\"gridcolor\":\"#283442\",\"linecolor\":\"#506784\",\"ticks\":\"\",\"title\":{\"standoff\":15},\"zerolinecolor\":\"#283442\",\"automargin\":true,\"zerolinewidth\":2},\"yaxis\":{\"gridcolor\":\"#283442\",\"linecolor\":\"#506784\",\"ticks\":\"\",\"title\":{\"standoff\":15},\"zerolinecolor\":\"#283442\",\"automargin\":true,\"zerolinewidth\":2},\"scene\":{\"xaxis\":{\"backgroundcolor\":\"rgb(17,17,17)\",\"gridcolor\":\"#506784\",\"linecolor\":\"#506784\",\"showbackground\":true,\"ticks\":\"\",\"zerolinecolor\":\"#C8D4E3\",\"gridwidth\":2},\"yaxis\":{\"backgroundcolor\":\"rgb(17,17,17)\",\"gridcolor\":\"#506784\",\"linecolor\":\"#506784\",\"showbackground\":true,\"ticks\":\"\",\"zerolinecolor\":\"#C8D4E3\",\"gridwidth\":2},\"zaxis\":{\"backgroundcolor\":\"rgb(17,17,17)\",\"gridcolor\":\"#506784\",\"linecolor\":\"#506784\",\"showbackground\":true,\"ticks\":\"\",\"zerolinecolor\":\"#C8D4E3\",\"gridwidth\":2}},\"shapedefaults\":{\"line\":{\"color\":\"#f2f5fa\"}},\"annotationdefaults\":{\"arrowcolor\":\"#f2f5fa\",\"arrowhead\":0,\"arrowwidth\":1},\"geo\":{\"bgcolor\":\"rgb(17,17,17)\",\"landcolor\":\"rgb(17,17,17)\",\"subunitcolor\":\"#506784\",\"showland\":true,\"showlakes\":true,\"lakecolor\":\"rgb(17,17,17)\"},\"title\":{\"x\":0.05},\"updatemenudefaults\":{\"bgcolor\":\"#506784\",\"borderwidth\":0},\"sliderdefaults\":{\"bgcolor\":\"#C8D4E3\",\"borderwidth\":1,\"bordercolor\":\"rgb(17,17,17)\",\"tickwidth\":0},\"mapbox\":{\"style\":\"dark\"}}},\"font\":{\"color\":\"black\"},\"barmode\":\"stack\",\"title\":{\"text\":\"Code quality for scripts obtained with CL-Instruct 13B\"},\"plot_bgcolor\":\"rgba(0,0,0,0)\",\"paper_bgcolor\":\"rgba(0,0,0,0)\",\"xaxis\":{\"showgrid\":false,\"zeroline\":false},\"yaxis\":{\"showgrid\":false,\"zeroline\":false}},                        {\"responsive\": true}                    ).then(function(){\n                            \nvar gd = document.getElementById('8f296056-af92-4d16-9e42-1492e585e14b');\nvar x = new MutationObserver(function (mutations, observer) {{\n        var display = window.getComputedStyle(gd).display;\n        if (!display || display === 'none') {{\n            console.log([gd, 'removed!']);\n            Plotly.purge(gd);\n            observer.disconnect();\n        }}\n}});\n\n// Listen for the removal of the full notebook cells\nvar notebookContainer = gd.closest('#notebook-container');\nif (notebookContainer) {{\n    x.observe(notebookContainer, {childList: true});\n}}\n\n// Listen for the clearing of the current output cell\nvar outputEl = gd.closest('.output');\nif (outputEl) {{\n    x.observe(outputEl, {childList: true});\n}}\n\n                        })                };                });            </script>        </div>"
     },
     "metadata": {},
     "output_type": "display_data"
    }
   ],
   "source": [
    "# Melt the DataFrame to long format\n",
    "# df_melted = df.melt(id_vars=[\"Dataset\"], var_name=\"Evaluation\", value_name=\"Percentage\")\n",
    "\n",
    "# Rename the categories\n",
    "# df_melted[\"Evaluation\"] = df_melted[\"Evaluation\"].replace({\n",
    "#     \"Pass\": \"Meets all evaluation criteria\",\n",
    "#     \"Soft pass\": \"Meets most of evaluation criteria\",\n",
    "#     \"Fail\": \"Meets few or none of the evaluation criteria\"\n",
    "# })\n",
    "\n",
    "# Define colors for bars\n",
    "colors = {\"Compliant\": \"#90EE90\", \"Partially compliant\": \"#FFFFE0\", \"Non-compliant\": \"#FFCCCC\"}\n",
    "\n",
    "# Create stacked bar chart\n",
    "fig = px.bar(df_melted, x=\"Dataset\", y=\"Percentage\", color=\"Evaluation\", color_discrete_map=colors, barmode=\"stack\",\n",
    "             text=\"Percentage\", title=\"Code quality for script obtained with CL-Instruct 13B\",\n",
    "             labels={\"Percentage\": \"Percentage (%)\", \"Dataset\": \"Dataset\", \"Evaluation\": \"Evaluation\"})\n",
    "\n",
    "# Show percentages on bars\n",
    "fig.update_traces(textposition='inside')\n",
    "# Adjust font color to black\n",
    "fig.update_layout(font=dict(color=\"black\"))\n",
    "# Set background color to white (or fully transparent)\n",
    "fig.update_layout(plot_bgcolor='rgba(0,0,0,0)', paper_bgcolor='rgba(0,0,0,0)')\n",
    "# Make grid lines disappear\n",
    "fig.update_xaxes(showgrid=False, zeroline=False)\n",
    "fig.update_yaxes(showgrid=False, zeroline=False)\n",
    "# Show the plot\n",
    "fig.show()\n"
   ],
   "metadata": {
    "collapsed": false
   }
  },
  {
   "cell_type": "code",
   "execution_count": 22,
   "outputs": [],
   "source": [
    "fig.write_image(\"finetuned_cli13b_code_quality_correct_samples.pdf\")"
   ],
   "metadata": {
    "collapsed": false
   }
  },
  {
   "cell_type": "markdown",
   "source": [
    "### Balanced and zero-shot finetuning results"
   ],
   "metadata": {
    "collapsed": false
   }
  },
  {
   "cell_type": "code",
   "execution_count": null,
   "outputs": [],
   "source": [
    "# Create a dictionary with the data\n",
    "cli13_balanced = {\n",
    "    \"Model\": [\"CLI-13 (b)\", \"CLI-13 (b)\", \"CLI-13 (b)\", \"CLI-13 (b)\", \"CLI-13 (b)\", \"CLI-13 (b)\"],\n",
    "    \"Dataset\": [\"RTE_Quant\", \"RedditNLI\", \"NewsNLI\", \"AWPNLI\", \"StressTest\", \"EQUATE\"],\n",
    "    \"weighted F1\": [65.18, 62.24, 47.92, 76.72, 36.41, 44.45]\n",
    "}\n",
    "\n",
    "normal_vs_balanced_res = [\n",
    "    [\"CLI-13B (balanced)\", \"RTE_Quant\", 65.18],\n",
    "    [\"CLI-13B\", \"RTE_Quant\", 72.60],\n",
    "    [\"Llama2-7B (balanced)\", \"RTE_Quant\", 66.53],\n",
    "    [\"Llama2-7B\", \"RTE_Quant\", 36.95],\n",
    "    [\"CLI-13B (balanced)\", \"RedditNLI\", 62.24],\n",
    "    [\"CLI-13B\", \"RedditNLI\", 67.83],\n",
    "    [\"Llama2-7B (balanced)\", \"RedditNLI\", 58.82],\n",
    "    [\"Llama2-7B\", \"RedditNLI\", 53.64],\n",
    "    [\"CLI-13B (balanced)\", \"NewsNLI\", 47.92],\n",
    "    [\"CLI-13B\", \"NewsNLI\", 72.69],\n",
    "    [\"Llama2-7B (balanced)\", \"NewsNLI\", 40.55],\n",
    "    [\"Llama2-7B\", \"NewsNLI\", 69.33],\n",
    "    [\"CLI-13B (balanced)\", \"AWPNLI\", 76.72],\n",
    "    [\"CLI-13B\", \"AWPNLI\", 95.78],\n",
    "    [\"Llama2-7B (balanced)\", \"AWPNLI\", 86.86],\n",
    "    [\"Llama2-7B\", \"AWPNLI\", 93.26],\n",
    "    [\"CLI-13B (balanced)\", \"StressTest\", 36.41],\n",
    "    [\"CLI-13B\", \"StressTest\", 96.96],\n",
    "    [\"Llama2-7B (balanced)\", \"StressTest\", 48.81],\n",
    "    [\"Llama2-7B\", \"StressTest\", 93.23],\n",
    "    [\"CLI-13B (balanced)\", \"EQUATE\", 44.45],\n",
    "    [\"CLI-13B\", \"EQUATE\", 91.97],\n",
    "    [\"Llama2-7B (balanced)\", \"EQUATE\", 53.80],\n",
    "    [\"Llama2-7B\", \"EQUATE\", 87.68],\n",
    "]\n",
    "\n",
    "normal_vs_balanced_df = pd.DataFrame(normal_vs_balanced_res, columns=[\"Model\", \"Dataset\", \"weighted-F1\"])"
   ],
   "metadata": {
    "collapsed": false
   }
  },
  {
   "cell_type": "code",
   "execution_count": null,
   "outputs": [],
   "source": [
    "normal_vs_balanced_df.head()"
   ],
   "metadata": {
    "collapsed": false
   }
  },
  {
   "cell_type": "code",
   "execution_count": null,
   "outputs": [],
   "source": [
    "import plotly.express as px\n",
    "import pandas as pd\n",
    "\n",
    "# Create the bar chart\n",
    "fig = px.bar(\n",
    "    normal_vs_balanced_df,\n",
    "    x='Dataset',\n",
    "    y='weighted-F1',\n",
    "    color='Model',\n",
    "    barmode='group',\n",
    "    title='Finetuning results for models trained on a balanced and an unbalanced dataset'\n",
    ")\n",
    "\n",
    "# Define custom colors for each model\n",
    "custom_colors = {\n",
    "    \"CLI-13B\": \"#87CEEB\",\n",
    "    \"Llama2-7B\": \"#FFA07A\",\n",
    "    \"CLI-13B (balanced)\": \"#00008B\",\n",
    "    \"Llama2-7B (balanced)\": \"#8B0000\"\n",
    "}\n",
    "\n",
    "# Update the traces to apply custom colors\n",
    "for trace in fig.data:\n",
    "    if trace.name in custom_colors:\n",
    "        trace.marker.color = custom_colors[trace.name]\n",
    "\n",
    "# Update the layout to customize appearance\n",
    "fig.update_layout(\n",
    "    plot_bgcolor='white',\n",
    "    paper_bgcolor='white',\n",
    "    font=dict(color='black'),\n",
    "    xaxis=dict(showgrid=True, gridcolor='white'),\n",
    "    yaxis=dict(showgrid=True, gridcolor='white'),\n",
    "        title=dict(\n",
    "        text='Fine-tuning results using an imbalanced and a balanced training dataset',\n",
    "        font=dict(color='black')\n",
    "    ),\n",
    "    xaxis_title=dict(font=dict(color='black')),\n",
    "    yaxis_title=dict(font=dict(color='black')),\n",
    "    legend=dict(\n",
    "        title_font=dict(color='black'),\n",
    "        font=dict(color='black'),\n",
    "        orientation=\"h\",\n",
    "        yanchor=\"bottom\",\n",
    "        y=-0.5,  # Adjust this value to add top margin\n",
    "        xanchor=\"center\",\n",
    "        x=0.5\n",
    "    )\n",
    ")\n",
    "\n",
    "# Show the plot\n",
    "fig.show()\n",
    "\n",
    "fig.write_image(\"balanced_vs_unbalanced_barplot.pdf\")"
   ],
   "metadata": {
    "collapsed": false
   }
  },
  {
   "cell_type": "code",
   "execution_count": null,
   "outputs": [],
   "source": [
    "# Create the line chart using plotly\n",
    "fig = px.line(\n",
    "    normal_vs_balanced_df,\n",
    "    x='Dataset',\n",
    "    y='weighted-F1',\n",
    "    color='Model',\n",
    "    markers=True,\n",
    "    # symbol='Dataset',\n",
    "    title='Fine-tuned models trained on a balanced and an unbalanced dataset'\n",
    ")\n",
    "\n",
    "# Update the layout to customize appearance\n",
    "fig.update_layout(\n",
    "    plot_bgcolor='white',\n",
    "    paper_bgcolor='white',\n",
    "    font=dict(color='black'),\n",
    "    xaxis=dict(showgrid=True, gridcolor='white'),\n",
    "    yaxis=dict(showgrid=True, gridcolor='white'),\n",
    "    title=dict(font=dict(color='black')),\n",
    "    xaxis_title=dict(font=dict(color='black')),\n",
    "    yaxis_title=dict(font=dict(color='black')),\n",
    "    legend=dict(\n",
    "        title_font=dict(color='black'),\n",
    "        font=dict(color='black'),\n",
    "        orientation=\"h\",\n",
    "        yanchor=\"bottom\",\n",
    "        y=-0.3,\n",
    "        xanchor=\"center\",\n",
    "        x=0.5\n",
    "    )\n",
    ")\n",
    "\n",
    "custom_colors = {\n",
    "    \"CLI-13B (balanced)\": \"#8B0000\",  # Very dark red\n",
    "    \"CLI-13B\": \"#FFC0CB\",             # Very light red\n",
    "    \"Llama2-7B (balanced)\": \"#00008B\", # Very dark blue\n",
    "    \"Llama2-7B\": \"#ADD8E6\"             # Very light blue\n",
    "}\n",
    "\n",
    "# Update the traces to apply custom colors\n",
    "for trace in fig.data:\n",
    "    trace.line.color = custom_colors[trace.name]\n",
    "\n",
    "# Show the plot\n",
    "fig.show()"
   ],
   "metadata": {
    "collapsed": false
   }
  },
  {
   "cell_type": "code",
   "execution_count": null,
   "outputs": [],
   "source": [
    "fig.write_image(\"balanced_vs_unbalanced_finetuning_legend_below.pdf\")"
   ],
   "metadata": {
    "collapsed": false
   }
  },
  {
   "cell_type": "markdown",
   "source": [
    "### ZERO-SHOT fine-tuning"
   ],
   "metadata": {
    "collapsed": false
   }
  },
  {
   "cell_type": "code",
   "execution_count": null,
   "outputs": [],
   "source": [
    "zero_shot_vs_few_shot_res = [\n",
    "    [\"CLI-7B (base, FS)\", \"RTE_Quant\", 63.21],\n",
    "    [\"CLI-7B (fine-tuned, FS)\", \"RTE_Quant\", 70.00],\n",
    "    [\"CLI-7B (fine-tuned, ZS)\", \"RTE_Quant\", 29.32],\n",
    "    [\"CLI-7B (base, FS)\", \"RedditNLI\", 46.96],\n",
    "    [\"CLI-7B (fine-tuned, FS)\", \"RedditNLI\", 64.21],\n",
    "    [\"CLI-7B (fine-tuned, ZS)\", \"RedditNLI\", 43.60],\n",
    "    [\"CLI-7B (base, FS)\", \"NewsNLI\", 56.25],\n",
    "    [\"CLI-7B (fine-tuned, FS)\", \"NewsNLI\", 68.50],\n",
    "    [\"CLI-7B (fine-tuned, ZS)\", \"NewsNLI\", 21.54],\n",
    "    [\"CLI-7B (base, FS)\", \"AWPNLI\", 59.46],\n",
    "    [\"CLI-7B (fine-tuned, FS)\", \"AWPNLI\", 94.40],\n",
    "    [\"CLI-7B (fine-tuned, ZS)\", \"AWPNLI\", 42.55],\n",
    "    [\"CLI-7B (base, FS)\", \"StressTest\", 31.96],\n",
    "    [\"CLI-7B (fine-tuned, FS)\", \"StressTest\", 95.10],\n",
    "    [\"CLI-7B (fine-tuned, ZS)\", \"StressTest\", 32.42],\n",
    "    [\"CLI-7B (base, FS)\", \"EQUATE\", 40.25],\n",
    "    [\"CLI-7B (fine-tuned, FS)\", \"EQUATE\", 89.76],\n",
    "    [\"CLI-7B (fine-tuned, ZS)\", \"EQUATE\", 33.26],\n",
    "    [\"Random baseline\", \"RTE_Quant\", 51.10],\n",
    "    [\"Random baseline\", \"RedditNLI\", 45.45],\n",
    "    [\"Random baseline\", \"NewsNLI\", 50.00],\n",
    "    [\"Random baseline\", \"AWPNLI\", 50.00],\n",
    "    [\"Random baseline\", \"StressTest\", 33.71],\n",
    "    [\"Random baseline\", \"EQUATE\", 33.55],\n",
    "]\n",
    "\n",
    "random_baseline = [\n",
    "    [\"Random baseline\", \"RTE_Quant\", 51.10],\n",
    "    [\"Random baseline\", \"RedditNLI\", 45.45],\n",
    "    [\"Random baseline\", \"NewsNLI\", 50.00],\n",
    "    [\"Random baseline\", \"AWPNLI\", 50.00],\n",
    "    [\"Random baseline\", \"StressTest\", 33.71],\n",
    "    [\"Random baseline\", \"EQUATE\", 33.55],\n",
    "]\n",
    "\n",
    "\n",
    "random_baseline_df = pd.DataFrame(random_baseline, columns=[\"Model\", \"Dataset\", \"weighted-F1\"])\n",
    "zero_shot_vs_few_shot_df = pd.DataFrame(zero_shot_vs_few_shot_res, columns=[\"Model\", \"Dataset\", \"weighted-F1\"])"
   ],
   "metadata": {
    "collapsed": false
   }
  },
  {
   "cell_type": "code",
   "execution_count": null,
   "outputs": [],
   "source": [
    "zero_shot_vs_few_shot_df.head()"
   ],
   "metadata": {
    "collapsed": false
   }
  },
  {
   "cell_type": "code",
   "execution_count": null,
   "outputs": [],
   "source": [
    "import plotly.graph_objects as go\n",
    "import pandas as pd\n",
    "\n",
    "# Define custom colors for each model\n",
    "# Define custom colors for each model\n",
    "custom_colors = {\n",
    "    \"CLI-7B (fine-tuned, FS)\": \"#ADD8E6\",\n",
    "    \"CLI-7B (base, FS)\": \"#0000CD\",\n",
    "    \"CLI-7B (fine-tuned, ZS)\": \"#00008B\",\n",
    "    \"Random baseline\": \"gray\"\n",
    "}\n",
    "\n",
    "# Create a figure\n",
    "fig = go.Figure()\n",
    "\n",
    "# Add bar traces\n",
    "for model in zero_shot_vs_few_shot_df['Model'].unique():\n",
    "    model_data = zero_shot_vs_few_shot_df[zero_shot_vs_few_shot_df['Model'] == model]\n",
    "    fig.add_trace(\n",
    "        go.Bar(\n",
    "            x=model_data['Dataset'],\n",
    "            y=model_data['weighted-F1'],\n",
    "            name=model,\n",
    "            marker_color=custom_colors[model]\n",
    "        )\n",
    "    )\n",
    "\n",
    "# # Add line traces\n",
    "# fig.add_trace(\n",
    "#     go.Scatter(\n",
    "#         x=random_baseline_df['Dataset'],\n",
    "#         y=random_baseline_df['weighted-F1'],\n",
    "#         mode='lines+markers',\n",
    "#         name=\"Random baseline (line)\",\n",
    "#         line=dict(color=custom_colors[\"baseline\"], dash='dash'),  # Add dash style here line=dict(color=custom_colors[\"baseline\"]),\n",
    "#         marker=dict(color=custom_colors[\"baseline\"])\n",
    "#     )\n",
    "# )\n",
    "\n",
    "# Update the layout to customize appearance\n",
    "fig.update_layout(\n",
    "    plot_bgcolor='white',\n",
    "    paper_bgcolor='white',\n",
    "    font=dict(color='black'),\n",
    "    xaxis=dict(showgrid=True, gridcolor='white'),\n",
    "    yaxis=dict(showgrid=True, gridcolor='white'),\n",
    "        title=dict(\n",
    "        text='Fine-tuning results with CodeLlama-Instruct 7B,<br>in zero-shot (ZS) and few-shot (FS) contexts',\n",
    "        font=dict(color='black')\n",
    "    ),\n",
    "    xaxis_title=dict(font=dict(color='black')),\n",
    "    yaxis_title=dict(font=dict(color='black')),\n",
    "    legend=dict(\n",
    "        title_font=dict(color='black'),\n",
    "        font=dict(color='black'),\n",
    "        orientation=\"h\",\n",
    "        yanchor=\"bottom\",\n",
    "        y=-0.5,  # Adjust this value to add top margin\n",
    "        xanchor=\"center\",\n",
    "        x=0.5\n",
    "    )\n",
    ")\n",
    "\n",
    "# Show the plot\n",
    "fig.show()\n",
    "fig.write_image(\"zs_vs_fz_results_barplot_without_line.pdf\")"
   ],
   "metadata": {
    "collapsed": false
   }
  },
  {
   "cell_type": "code",
   "execution_count": null,
   "outputs": [],
   "source": [
    "import plotly.express as px\n",
    "import pandas as pd\n",
    "\n",
    "# Create the bar chart\n",
    "fig = px.bar(\n",
    "    zero_shot_vs_few_shot_df,\n",
    "    x='Dataset',\n",
    "    y='weighted-F1',\n",
    "    color='Model',\n",
    "    barmode='group',\n",
    "    title='Fine-tuning results with CodeLlama-Instruct 7B,<br>in zero-shot (ZS) and few-shot (FS) contexts'\n",
    ")\n",
    "\n",
    "# Define custom colors for each model\n",
    "custom_colors = {\n",
    "    \"CLI-7B (fine-tuned, FS)\": \"#ADD8E6\",\n",
    "    \"CLI-7B (base, FS)\": \"#0000CD\",\n",
    "    \"CLI-7B (fine-tuned, ZS)\": \"#00008B\",\n",
    "    \"Random baseline\": \"gray\"\n",
    "}\n",
    "\n",
    "# Update the traces to apply custom colors\n",
    "for trace in fig.data:\n",
    "    if trace.name in custom_colors:\n",
    "        trace.marker.color = custom_colors[trace.name]\n",
    "\n",
    "# Update the layout to customize appearance\n",
    "fig.update_layout(\n",
    "    plot_bgcolor='white',\n",
    "    paper_bgcolor='white',\n",
    "    font=dict(color='black'),\n",
    "    xaxis=dict(showgrid=True, gridcolor='white'),\n",
    "    yaxis=dict(showgrid=True, gridcolor='white'),\n",
    "    title=dict(font=dict(color='black')),\n",
    "    xaxis_title=dict(font=dict(color='black')),\n",
    "    yaxis_title=dict(font=dict(color='black')),\n",
    "    legend=dict(\n",
    "        title_font=dict(color='black'),\n",
    "        font=dict(color='black'),\n",
    "        orientation=\"h\",\n",
    "        yanchor=\"bottom\",\n",
    "        y=-0.5,  # Adjust this value to add top margin\n",
    "        xanchor=\"center\",\n",
    "        x=0.5\n",
    "    )\n",
    ")\n",
    "\n",
    "# Show the plot\n",
    "fig.show()\n",
    "\n",
    "fig.write_image(\"zs_vs_fs_barplot.pdf\")"
   ],
   "metadata": {
    "collapsed": false
   }
  },
  {
   "cell_type": "code",
   "execution_count": null,
   "outputs": [],
   "source": [
    "import plotly.express as px\n",
    "import pandas as pd\n",
    "\n",
    "# Create the bar chart\n",
    "fig = px.bar(\n",
    "    zero_shot_vs_few_shot_df,\n",
    "    x='Model',\n",
    "    y='weighted-F1',\n",
    "    color='Dataset',\n",
    "    barmode='group',\n",
    "    title='Fine-tuning results with CodeLlama-Instruct 7B,<br>in zero-shot (ZS) and few-shot (FS) contexts'\n",
    ")\n",
    "\n",
    "# Define custom colors for each model\n",
    "custom_colors = {\n",
    "    \"RTE_Quant\": \"#ADD8E6\",  #\"green\",\n",
    "    \"RedditNLI\": \"#0000CD\",  #\"blue\",\n",
    "    \"NewsNLI\": \"#00008B\",  #\"red\",\n",
    "    \"StressTest\": \"#FFA07A\",  #\"orange\",\n",
    "    \"AWPNLI\": \"#8B0000\",  #\"pink\",\n",
    "    \"EQUATE\": \"green\",\n",
    "    # \"Random baseline\": \"gray\"\n",
    "}\n",
    "\n",
    "# Update the traces to apply custom colors\n",
    "for trace in fig.data:\n",
    "    if trace.name in custom_colors:\n",
    "        trace.marker.color = custom_colors[trace.name]\n",
    "\n",
    "# Update the layout to customize appearance\n",
    "fig.update_layout(\n",
    "    plot_bgcolor='white',\n",
    "    paper_bgcolor='white',\n",
    "    font=dict(color='black'),\n",
    "    xaxis=dict(showgrid=True, gridcolor='white'),\n",
    "    yaxis=dict(showgrid=True, gridcolor='white'),\n",
    "    title=dict(font=dict(color='black')),\n",
    "    xaxis_title=dict(font=dict(color='black')),\n",
    "    yaxis_title=dict(font=dict(color='black')),\n",
    "    legend=dict(\n",
    "        title_font=dict(color='black'),\n",
    "        font=dict(color='black'),\n",
    "        orientation=\"h\",\n",
    "        yanchor=\"bottom\",\n",
    "        y=-0.5,  # Adjust this value to add top margin\n",
    "        xanchor=\"center\",\n",
    "        x=0.5\n",
    "    )\n",
    ")\n",
    "\n",
    "# Show the plot\n",
    "fig.show()"
   ],
   "metadata": {
    "collapsed": false
   }
  },
  {
   "cell_type": "code",
   "execution_count": null,
   "outputs": [],
   "source": [
    "# Create the line chart using plotly\n",
    "fig = px.line(\n",
    "    zero_shot_vs_few_shot_df,\n",
    "    x='Dataset',\n",
    "    y='weighted-F1',\n",
    "    color='Model',\n",
    "    markers=True,\n",
    "    # symbol='Dataset',\n",
    "    title='Fine-tuning results with CodeLlama-Instruct 7B,<br>in zero-shot (ZS) and few-shot (FS) contexts'\n",
    ")\n",
    "\n",
    "# Update the layout to customize appearance\n",
    "fig.update_layout(\n",
    "    plot_bgcolor='white',\n",
    "    paper_bgcolor='white',\n",
    "    font=dict(color='black'),\n",
    "    xaxis=dict(showgrid=True, gridcolor='white'),\n",
    "    yaxis=dict(showgrid=True, gridcolor='white'),\n",
    "    title=dict(font=dict(color='black')),\n",
    "    xaxis_title=dict(font=dict(color='black')),\n",
    "    yaxis_title=dict(font=dict(color='black')),\n",
    "    legend=dict(\n",
    "        title_font=dict(color='black'),\n",
    "        font=dict(color='black'),\n",
    "        orientation=\"h\",\n",
    "        yanchor=\"bottom\",\n",
    "        y=-0.5,  # Adjust this value to add top margin\n",
    "        xanchor=\"center\",\n",
    "        x=0.5\n",
    "    )\n",
    ")\n",
    "\n",
    "custom_colors = {\n",
    "    \"CLI-7B (fine-tuned, FS)\": \"green\",  # Very dark red\n",
    "    \"CLI-7B (base, FS)\": \"blue\",             # Very light red\n",
    "    \"CLI-7B (fine-tuned, ZS)\": \"red\", # Very dark blue\n",
    "    \"Random baseline\": \"gray\"             # Very light blue\n",
    "}\n",
    "\n",
    "# Update the traces to apply custom colors\n",
    "for trace in fig.data:\n",
    "    trace.line.color = custom_colors[trace.name]\n",
    "\n",
    "# Show the plot\n",
    "fig.show()"
   ],
   "metadata": {
    "collapsed": false
   }
  },
  {
   "cell_type": "code",
   "execution_count": null,
   "outputs": [],
   "source": [
    "fig.write_image(\"zero_shot_vs_few_show_results.pdf\")"
   ],
   "metadata": {
    "collapsed": false
   }
  }
 ],
 "metadata": {
  "kernelspec": {
   "display_name": "Python 3",
   "language": "python",
   "name": "python3"
  },
  "language_info": {
   "codemirror_mode": {
    "name": "ipython",
    "version": 2
   },
   "file_extension": ".py",
   "mimetype": "text/x-python",
   "name": "python",
   "nbconvert_exporter": "python",
   "pygments_lexer": "ipython2",
   "version": "2.7.6"
  }
 },
 "nbformat": 4,
 "nbformat_minor": 0
}
