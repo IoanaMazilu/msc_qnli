{
 "cells": [
  {
   "cell_type": "markdown",
   "source": [
    "\n",
    "### In the EDA we discovered that some samples may not contain numerical information. We manually inspect these samples and decide if any should be discarded."
   ],
   "metadata": {
    "collapsed": false
   }
  },
  {
   "cell_type": "code",
   "execution_count": 5,
   "outputs": [
    {
     "name": "stdout",
     "output_type": "stream",
     "text": [
      "/Users/ioanamazilu/PycharmProjects/quant_nli/data/equate/01_deduplicated\n"
     ]
    }
   ],
   "source": [
    "import pandas as pd\n",
    "import os\n",
    "\n",
    "root_path = os.path.dirname(os.path.dirname(os.getcwd()))  # go 3 back, on the same level with the \"data\" directory\n",
    "\n",
    "datasets_path = os.path.join(root_path, \"data\", \"equate\", \"01_deduplicated\")\n",
    "print(datasets_path)"
   ],
   "metadata": {
    "collapsed": false
   }
  },
  {
   "cell_type": "code",
   "execution_count": 6,
   "outputs": [
    {
     "name": "stdout",
     "output_type": "stream",
     "text": [
      "AWPNLI\n",
      "Discarding 0 samples\n",
      "Dataset size pre-discarding: 722\n",
      "Dataset size post-discarding: 722\n",
      "NewsNLI\n",
      "Discarding 5 samples\n",
      "Dataset size pre-discarding: 963\n",
      "Dataset size post-discarding: 958\n",
      "RedditNLI\n",
      "Discarding 0 samples\n",
      "Dataset size pre-discarding: 247\n",
      "Dataset size post-discarding: 247\n",
      "RTE_Quant\n",
      "Discarding 3 samples\n",
      "Dataset size pre-discarding: 165\n",
      "Dataset size post-discarding: 162\n",
      "StressTest\n",
      "Discarding 0 samples\n",
      "Dataset size pre-discarding: 6947\n",
      "Dataset size post-discarding: 6947\n"
     ]
    }
   ],
   "source": [
    "os.makedirs(os.path.join(root_path, \"data\", \"equate\", \"02_discarded\"), exist_ok=True)\n",
    "os.makedirs(os.path.join(root_path, \"data\", \"equate\", \"02_post_discarding\"), exist_ok=True)\n",
    "# samples inspected can be found in the 'src/eda' directory\n",
    "awpnli_discard = []\n",
    "newsnli_discard = [94, 178, 317, 900, 919]\n",
    "redditnli_discard = []\n",
    "rtequant_discard = [6, 46, 156]\n",
    "stresstest_discard = []\n",
    "for dataset, samples_to_discard in zip([\"AWPNLI\", \"NewsNLI\", \"RedditNLI\", \"RTE_Quant\", \"StressTest\"], [awpnli_discard, newsnli_discard, redditnli_discard, rtequant_discard, stresstest_discard]):\n",
    "    print(dataset)\n",
    "    print(f\"Discarding {len(samples_to_discard)} samples\")\n",
    "    df = pd.read_csv(os.path.join(datasets_path, f\"{dataset}.csv\"))\n",
    "    print(f\"Dataset size pre-discarding: {df.shape[0]}\")\n",
    "    discarded = df[df[\"sample_index\"].isin(samples_to_discard)]\n",
    "    discarded.to_csv(os.path.join(root_path, \"data\", \"equate\", \"02_discarded\", f\"{dataset}.csv\"), index=False)\n",
    "    df = df[~df[\"sample_index\"].isin(samples_to_discard)]\n",
    "    df.to_csv(os.path.join(root_path, \"data\", \"equate\", \"02_post_discarding\", f\"{dataset}.csv\"), index=False)\n",
    "    print(f\"Dataset size post-discarding: {df.shape[0]}\")"
   ],
   "metadata": {
    "collapsed": false
   }
  },
  {
   "cell_type": "code",
   "execution_count": null,
   "outputs": [],
   "source": [],
   "metadata": {
    "collapsed": false
   }
  }
 ],
 "metadata": {
  "kernelspec": {
   "display_name": "Python 3",
   "language": "python",
   "name": "python3"
  },
  "language_info": {
   "codemirror_mode": {
    "name": "ipython",
    "version": 2
   },
   "file_extension": ".py",
   "mimetype": "text/x-python",
   "name": "python",
   "nbconvert_exporter": "python",
   "pygments_lexer": "ipython2",
   "version": "2.7.6"
  }
 },
 "nbformat": 4,
 "nbformat_minor": 0
}
