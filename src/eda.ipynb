{
 "cells": [
  {
   "cell_type": "code",
   "execution_count": 1,
   "metadata": {
    "collapsed": true
   },
   "outputs": [],
   "source": [
    "import pandas as pd\n",
    "import plotly as pt\n",
    "import os\n",
    "import jsonlines\n",
    "import re\n",
    "import plotly.express as px\n",
    "from quantulum3 import parser"
   ]
  },
  {
   "cell_type": "code",
   "execution_count": 3,
   "outputs": [],
   "source": [
    "def read_data(filename):\n",
    "    ''' Reads a jsonl file\n",
    "    :param filename: file to be read\n",
    "    :return: list of NLI samples\n",
    "    '''\n",
    "    dev_data = []\n",
    "    with jsonlines.open(filename) as reader:\n",
    "        for obj in reader:\n",
    "            dev_data.append(obj)\n",
    "    assert len(dev_data) > 0\n",
    "    return dev_data\n",
    "\n",
    "def convert_list_to_df(sample_list):\n",
    "    return pd.DataFrame([{key: example[key] for key in ['sentence1', 'sentence2', 'gold_label']} for example in sample_list])"
   ],
   "metadata": {
    "collapsed": false
   }
  },
  {
   "cell_type": "code",
   "execution_count": 4,
   "outputs": [],
   "source": [
    "root_path = os.path.dirname(os.getcwd())\n",
    "data_path = os.path.join(root_path, \"data\", \"equate\")\n",
    "datasets = [\"AWPNLI.jsonl\", \"NewsNLI.jsonl\", \"RedditNLI.jsonl\", \"RTE_Quant.jsonl\", \"StressTest.jsonl\"]\n",
    "datasets = [os.path.join(data_path, dataset) for dataset in datasets]\n",
    "\n",
    "awp = read_data(datasets[0])\n",
    "news = read_data(datasets[1])\n",
    "reddit = read_data(datasets[2])\n",
    "rte = read_data(datasets[3])\n",
    "stress = read_data(datasets[4])"
   ],
   "metadata": {
    "collapsed": false
   }
  },
  {
   "cell_type": "code",
   "execution_count": 5,
   "outputs": [
    {
     "name": "stdout",
     "output_type": "stream",
     "text": [
      "722 968 250 166 7596\n"
     ]
    }
   ],
   "source": [
    "print(len(awp), len(news), len(reddit), len(rte), len(stress))"
   ],
   "metadata": {
    "collapsed": false
   }
  },
  {
   "cell_type": "code",
   "execution_count": 16,
   "outputs": [
    {
     "data": {
      "text/plain": "dict"
     },
     "execution_count": 16,
     "metadata": {},
     "output_type": "execute_result"
    }
   ],
   "source": [
    "type(awp[0])"
   ],
   "metadata": {
    "collapsed": false
   }
  },
  {
   "cell_type": "code",
   "execution_count": 17,
   "outputs": [
    {
     "data": {
      "text/plain": "dict_keys(['sentence2_tokens', 'sentence1_dep_parse', 'sentence1_binary_parse', 'sentence2_binary_parse', 'sentence1_syntax_parse', 'sentence1', 'sentence2', 'sentence2_syntax_parse', 'sentence2_pos', 'sentence2_dep_parse', 'gold_label', 'sentence1_pos', 'sentence1_tokens'])"
     },
     "execution_count": 17,
     "metadata": {},
     "output_type": "execute_result"
    }
   ],
   "source": [
    "awp[0].keys()"
   ],
   "metadata": {
    "collapsed": false
   }
  },
  {
   "cell_type": "code",
   "execution_count": 6,
   "outputs": [],
   "source": [
    "# extract only s1, s2 and label\n",
    "awp_subset = [{key: example[key] for key in ['sentence1', 'sentence2', 'gold_label']} for example in awp]\n",
    "news_subset = [{key: example[key] for key in ['sentence1', 'sentence2', 'gold_label']} for example in news]\n",
    "reddit_subset = [{key: example[key] for key in ['sentence1', 'sentence2', 'gold_label']} for example in reddit]\n",
    "rte_subset = [{key: example[key] for key in ['sentence1', 'sentence2', 'gold_label']} for example in rte]\n",
    "stress_subset = [{key: example[key] for key in ['sentence1', 'sentence2', 'gold_label']} for example in stress]"
   ],
   "metadata": {
    "collapsed": false
   }
  },
  {
   "cell_type": "code",
   "execution_count": 7,
   "outputs": [
    {
     "name": "stdout",
     "output_type": "stream",
     "text": [
      "722 968 250 166 7596\n"
     ]
    }
   ],
   "source": [
    "print(len(awp_subset), len(news_subset), len(reddit_subset), len(rte_subset), len(stress_subset))"
   ],
   "metadata": {
    "collapsed": false
   }
  },
  {
   "cell_type": "code",
   "execution_count": 8,
   "outputs": [],
   "source": [
    "awp_df = pd.DataFrame(awp_subset)\n",
    "news_df = pd.DataFrame(news_subset)\n",
    "reddit_df = pd.DataFrame(reddit_subset)\n",
    "rte_df = pd.DataFrame(rte_subset)\n",
    "stress_df = pd.DataFrame(stress_subset)"
   ],
   "metadata": {
    "collapsed": false
   }
  },
  {
   "cell_type": "markdown",
   "source": [
    "UTIL FUNCTIONS"
   ],
   "metadata": {
    "collapsed": false
   }
  },
  {
   "cell_type": "code",
   "execution_count": 21,
   "outputs": [],
   "source": [
    "def remove_double_and_trailing_spaces(df, column_name):\n",
    "    df[column_name] = df[column_name].apply(lambda str_value: re.sub(' +', ' ', str_value).strip())"
   ],
   "metadata": {
    "collapsed": false
   }
  },
  {
   "cell_type": "code",
   "execution_count": 22,
   "outputs": [],
   "source": [
    "def count_words_in_string(df, column_name):\n",
    "    df[f\"{column_name}_word_cnt\"] = df[column_name].apply(lambda str_value: len(str_value.split(\" \")))"
   ],
   "metadata": {
    "collapsed": false
   }
  },
  {
   "cell_type": "code",
   "execution_count": 23,
   "outputs": [],
   "source": [
    "def count_chars_in_string(df, column_name):\n",
    "    df[f\"{column_name}_char_cnt\"] = df[column_name].apply(lambda str_value: len(str_value))"
   ],
   "metadata": {
    "collapsed": false
   }
  },
  {
   "cell_type": "code",
   "execution_count": 24,
   "outputs": [],
   "source": [
    "def inspect_dataset(dataset_df):\n",
    "    remove_double_and_trailing_spaces(dataset_df, \"sentence1\")\n",
    "    remove_double_and_trailing_spaces(dataset_df, \"sentence2\")\n",
    "    count_words_in_string(dataset_df, \"sentence1\")\n",
    "    count_words_in_string(dataset_df, \"sentence2\")\n",
    "    count_chars_in_string(dataset_df, \"sentence1\")\n",
    "    count_chars_in_string(dataset_df, \"sentence2\")"
   ],
   "metadata": {
    "collapsed": false
   }
  },
  {
   "cell_type": "markdown",
   "source": [
    "## AWP dataset"
   ],
   "metadata": {
    "collapsed": false
   }
  },
  {
   "cell_type": "code",
   "execution_count": 25,
   "outputs": [
    {
     "data": {
      "text/plain": "                                           sentence1  \\\n0  Sam had 9.0 dimes in his bank  and his dad gav...   \n1  Sam had 9.0 dimes in his bank  and his dad gav...   \n2  A restaurant served 9.0 pizzas during lunch an...   \n3  A restaurant served 9.0 pizzas during lunch an...   \n4  There are 2.0 pencils in the drawer  and Tim p...   \n\n                             sentence2     gold_label  \n0               Sam has 16.0 dimes now     entailment  \n1               Sam has 17.0 dimes now  contradiction  \n2        15.0 pizzas were served today     entailment  \n3        17.0 pizzas were served today  contradiction  \n4  5.0 pencils are now there in total      entailment  ",
      "text/html": "<div>\n<style scoped>\n    .dataframe tbody tr th:only-of-type {\n        vertical-align: middle;\n    }\n\n    .dataframe tbody tr th {\n        vertical-align: top;\n    }\n\n    .dataframe thead th {\n        text-align: right;\n    }\n</style>\n<table border=\"1\" class=\"dataframe\">\n  <thead>\n    <tr style=\"text-align: right;\">\n      <th></th>\n      <th>sentence1</th>\n      <th>sentence2</th>\n      <th>gold_label</th>\n    </tr>\n  </thead>\n  <tbody>\n    <tr>\n      <th>0</th>\n      <td>Sam had 9.0 dimes in his bank  and his dad gav...</td>\n      <td>Sam has 16.0 dimes now</td>\n      <td>entailment</td>\n    </tr>\n    <tr>\n      <th>1</th>\n      <td>Sam had 9.0 dimes in his bank  and his dad gav...</td>\n      <td>Sam has 17.0 dimes now</td>\n      <td>contradiction</td>\n    </tr>\n    <tr>\n      <th>2</th>\n      <td>A restaurant served 9.0 pizzas during lunch an...</td>\n      <td>15.0 pizzas were served today</td>\n      <td>entailment</td>\n    </tr>\n    <tr>\n      <th>3</th>\n      <td>A restaurant served 9.0 pizzas during lunch an...</td>\n      <td>17.0 pizzas were served today</td>\n      <td>contradiction</td>\n    </tr>\n    <tr>\n      <th>4</th>\n      <td>There are 2.0 pencils in the drawer  and Tim p...</td>\n      <td>5.0 pencils are now there in total</td>\n      <td>entailment</td>\n    </tr>\n  </tbody>\n</table>\n</div>"
     },
     "execution_count": 25,
     "metadata": {},
     "output_type": "execute_result"
    }
   ],
   "source": [
    "awp_df.head()"
   ],
   "metadata": {
    "collapsed": false
   }
  },
  {
   "cell_type": "code",
   "execution_count": 8,
   "outputs": [
    {
     "data": {
      "text/plain": "gold_label\nentailment       361\ncontradiction    361\nName: count, dtype: int64"
     },
     "execution_count": 8,
     "metadata": {},
     "output_type": "execute_result"
    }
   ],
   "source": [
    "awp_df['gold_label'].value_counts()"
   ],
   "metadata": {
    "collapsed": false
   }
  },
  {
   "cell_type": "code",
   "execution_count": 27,
   "outputs": [
    {
     "data": {
      "text/plain": "                                           sentence1  \\\n0  Sam had 9.0 dimes in his bank and his dad gave...   \n1  Sam had 9.0 dimes in his bank and his dad gave...   \n2  A restaurant served 9.0 pizzas during lunch an...   \n3  A restaurant served 9.0 pizzas during lunch an...   \n4  There are 2.0 pencils in the drawer and Tim pl...   \n\n                            sentence2     gold_label  sentence1_word_cnt  \\\n0              Sam has 16.0 dimes now     entailment                  14   \n1              Sam has 17.0 dimes now  contradiction                  14   \n2       15.0 pizzas were served today     entailment                  13   \n3       17.0 pizzas were served today  contradiction                  13   \n4  5.0 pencils are now there in total     entailment                  15   \n\n   sentence2_word_cnt  sentence1_char_cnt  sentence2_char_cnt  \n0                   5                  60                  22  \n1                   5                  60                  22  \n2                   5                  73                  29  \n3                   5                  73                  29  \n4                   7                  76                  34  ",
      "text/html": "<div>\n<style scoped>\n    .dataframe tbody tr th:only-of-type {\n        vertical-align: middle;\n    }\n\n    .dataframe tbody tr th {\n        vertical-align: top;\n    }\n\n    .dataframe thead th {\n        text-align: right;\n    }\n</style>\n<table border=\"1\" class=\"dataframe\">\n  <thead>\n    <tr style=\"text-align: right;\">\n      <th></th>\n      <th>sentence1</th>\n      <th>sentence2</th>\n      <th>gold_label</th>\n      <th>sentence1_word_cnt</th>\n      <th>sentence2_word_cnt</th>\n      <th>sentence1_char_cnt</th>\n      <th>sentence2_char_cnt</th>\n    </tr>\n  </thead>\n  <tbody>\n    <tr>\n      <th>0</th>\n      <td>Sam had 9.0 dimes in his bank and his dad gave...</td>\n      <td>Sam has 16.0 dimes now</td>\n      <td>entailment</td>\n      <td>14</td>\n      <td>5</td>\n      <td>60</td>\n      <td>22</td>\n    </tr>\n    <tr>\n      <th>1</th>\n      <td>Sam had 9.0 dimes in his bank and his dad gave...</td>\n      <td>Sam has 17.0 dimes now</td>\n      <td>contradiction</td>\n      <td>14</td>\n      <td>5</td>\n      <td>60</td>\n      <td>22</td>\n    </tr>\n    <tr>\n      <th>2</th>\n      <td>A restaurant served 9.0 pizzas during lunch an...</td>\n      <td>15.0 pizzas were served today</td>\n      <td>entailment</td>\n      <td>13</td>\n      <td>5</td>\n      <td>73</td>\n      <td>29</td>\n    </tr>\n    <tr>\n      <th>3</th>\n      <td>A restaurant served 9.0 pizzas during lunch an...</td>\n      <td>17.0 pizzas were served today</td>\n      <td>contradiction</td>\n      <td>13</td>\n      <td>5</td>\n      <td>73</td>\n      <td>29</td>\n    </tr>\n    <tr>\n      <th>4</th>\n      <td>There are 2.0 pencils in the drawer and Tim pl...</td>\n      <td>5.0 pencils are now there in total</td>\n      <td>entailment</td>\n      <td>15</td>\n      <td>7</td>\n      <td>76</td>\n      <td>34</td>\n    </tr>\n  </tbody>\n</table>\n</div>"
     },
     "execution_count": 27,
     "metadata": {},
     "output_type": "execute_result"
    }
   ],
   "source": [
    "inspect_dataset(awp_df)\n",
    "\n",
    "awp_df.head()"
   ],
   "metadata": {
    "collapsed": false
   }
  },
  {
   "cell_type": "code",
   "execution_count": 28,
   "outputs": [
    {
     "data": {
      "text/plain": "sentence1_word_cnt    16.236842\nsentence1_char_cnt    84.925208\nsentence2_word_cnt     6.450139\nsentence2_char_cnt    33.279778\ndtype: float64"
     },
     "execution_count": 28,
     "metadata": {},
     "output_type": "execute_result"
    }
   ],
   "source": [
    "awp_df[[\"sentence1_word_cnt\", \"sentence1_char_cnt\", \"sentence2_word_cnt\", \"sentence2_char_cnt\"]].mean()"
   ],
   "metadata": {
    "collapsed": false
   }
  },
  {
   "cell_type": "markdown",
   "source": [
    "## News dataset"
   ],
   "metadata": {
    "collapsed": false
   }
  },
  {
   "cell_type": "code",
   "execution_count": 9,
   "outputs": [
    {
     "data": {
      "text/plain": "                                           sentence1  \\\n0  Lepore said he was moved to photograph the slu...   \n1  Sharper , 38 , faces rape charges in Arizona a...   \n2  I am the single mother of three sons -- grown ...   \n3  In addition to 79 fatalities , some 170 passen...   \n4  Treacherous currents took at least four lives ...   \n\n                                           sentence2  gold_label  \n0  Joey Lepore says he took photos of one guard s...  entailment  \n1  Darren Sharper has been charged in two states ...  entailment  \n2  Weldon says she 's a single mom of three flour...  entailment  \n3  The crash took the lives of 79 people and inju...  entailment  \n4  Rip currents kill four in Alabama , close beac...  entailment  ",
      "text/html": "<div>\n<style scoped>\n    .dataframe tbody tr th:only-of-type {\n        vertical-align: middle;\n    }\n\n    .dataframe tbody tr th {\n        vertical-align: top;\n    }\n\n    .dataframe thead th {\n        text-align: right;\n    }\n</style>\n<table border=\"1\" class=\"dataframe\">\n  <thead>\n    <tr style=\"text-align: right;\">\n      <th></th>\n      <th>sentence1</th>\n      <th>sentence2</th>\n      <th>gold_label</th>\n    </tr>\n  </thead>\n  <tbody>\n    <tr>\n      <th>0</th>\n      <td>Lepore said he was moved to photograph the slu...</td>\n      <td>Joey Lepore says he took photos of one guard s...</td>\n      <td>entailment</td>\n    </tr>\n    <tr>\n      <th>1</th>\n      <td>Sharper , 38 , faces rape charges in Arizona a...</td>\n      <td>Darren Sharper has been charged in two states ...</td>\n      <td>entailment</td>\n    </tr>\n    <tr>\n      <th>2</th>\n      <td>I am the single mother of three sons -- grown ...</td>\n      <td>Weldon says she 's a single mom of three flour...</td>\n      <td>entailment</td>\n    </tr>\n    <tr>\n      <th>3</th>\n      <td>In addition to 79 fatalities , some 170 passen...</td>\n      <td>The crash took the lives of 79 people and inju...</td>\n      <td>entailment</td>\n    </tr>\n    <tr>\n      <th>4</th>\n      <td>Treacherous currents took at least four lives ...</td>\n      <td>Rip currents kill four in Alabama , close beac...</td>\n      <td>entailment</td>\n    </tr>\n  </tbody>\n</table>\n</div>"
     },
     "execution_count": 9,
     "metadata": {},
     "output_type": "execute_result"
    }
   ],
   "source": [
    "news_df.head()"
   ],
   "metadata": {
    "collapsed": false
   }
  },
  {
   "cell_type": "code",
   "execution_count": 10,
   "outputs": [
    {
     "data": {
      "text/plain": "gold_label\nentailment    491\nneutral       477\nName: count, dtype: int64"
     },
     "execution_count": 10,
     "metadata": {},
     "output_type": "execute_result"
    }
   ],
   "source": [
    "news_df['gold_label'].value_counts()"
   ],
   "metadata": {
    "collapsed": false
   }
  },
  {
   "cell_type": "code",
   "execution_count": 12,
   "outputs": [
    {
     "data": {
      "text/plain": "0.5072314049586777"
     },
     "execution_count": 12,
     "metadata": {},
     "output_type": "execute_result"
    }
   ],
   "source": [
    "491/(491+477)"
   ],
   "metadata": {
    "collapsed": false
   }
  },
  {
   "cell_type": "code",
   "execution_count": 11,
   "outputs": [],
   "source": [
    "news_df[news_df['gold_label'] == 'neutral'].head(30).to_excel(\"NewsNLI_neutral_samples.xlsx\")"
   ],
   "metadata": {
    "collapsed": false
   }
  },
  {
   "cell_type": "code",
   "execution_count": 31,
   "outputs": [
    {
     "data": {
      "text/plain": "                                           sentence1  \\\n0  Lepore said he was moved to photograph the slu...   \n1  Sharper , 38 , faces rape charges in Arizona a...   \n2  I am the single mother of three sons -- grown ...   \n3  In addition to 79 fatalities , some 170 passen...   \n4  Treacherous currents took at least four lives ...   \n\n                                           sentence2  gold_label  \\\n0  Joey Lepore says he took photos of one guard s...  entailment   \n1  Darren Sharper has been charged in two states ...  entailment   \n2  Weldon says she 's a single mom of three flour...  entailment   \n3  The crash took the lives of 79 people and inju...  entailment   \n4  Rip currents kill four in Alabama , close beac...  entailment   \n\n   sentence1_word_cnt  sentence2_word_cnt  sentence1_char_cnt  \\\n0                  20                  14                 123   \n1                  22                  13                 114   \n2                  17                  16                  78   \n3                  12                  12                  65   \n4                  23                  11                 128   \n\n   sentence2_char_cnt  \n0                  73  \n1                  76  \n2                  85  \n3                  58  \n4                  60  ",
      "text/html": "<div>\n<style scoped>\n    .dataframe tbody tr th:only-of-type {\n        vertical-align: middle;\n    }\n\n    .dataframe tbody tr th {\n        vertical-align: top;\n    }\n\n    .dataframe thead th {\n        text-align: right;\n    }\n</style>\n<table border=\"1\" class=\"dataframe\">\n  <thead>\n    <tr style=\"text-align: right;\">\n      <th></th>\n      <th>sentence1</th>\n      <th>sentence2</th>\n      <th>gold_label</th>\n      <th>sentence1_word_cnt</th>\n      <th>sentence2_word_cnt</th>\n      <th>sentence1_char_cnt</th>\n      <th>sentence2_char_cnt</th>\n    </tr>\n  </thead>\n  <tbody>\n    <tr>\n      <th>0</th>\n      <td>Lepore said he was moved to photograph the slu...</td>\n      <td>Joey Lepore says he took photos of one guard s...</td>\n      <td>entailment</td>\n      <td>20</td>\n      <td>14</td>\n      <td>123</td>\n      <td>73</td>\n    </tr>\n    <tr>\n      <th>1</th>\n      <td>Sharper , 38 , faces rape charges in Arizona a...</td>\n      <td>Darren Sharper has been charged in two states ...</td>\n      <td>entailment</td>\n      <td>22</td>\n      <td>13</td>\n      <td>114</td>\n      <td>76</td>\n    </tr>\n    <tr>\n      <th>2</th>\n      <td>I am the single mother of three sons -- grown ...</td>\n      <td>Weldon says she 's a single mom of three flour...</td>\n      <td>entailment</td>\n      <td>17</td>\n      <td>16</td>\n      <td>78</td>\n      <td>85</td>\n    </tr>\n    <tr>\n      <th>3</th>\n      <td>In addition to 79 fatalities , some 170 passen...</td>\n      <td>The crash took the lives of 79 people and inju...</td>\n      <td>entailment</td>\n      <td>12</td>\n      <td>12</td>\n      <td>65</td>\n      <td>58</td>\n    </tr>\n    <tr>\n      <th>4</th>\n      <td>Treacherous currents took at least four lives ...</td>\n      <td>Rip currents kill four in Alabama , close beac...</td>\n      <td>entailment</td>\n      <td>23</td>\n      <td>11</td>\n      <td>128</td>\n      <td>60</td>\n    </tr>\n  </tbody>\n</table>\n</div>"
     },
     "execution_count": 31,
     "metadata": {},
     "output_type": "execute_result"
    }
   ],
   "source": [
    "inspect_dataset(news_df)\n",
    "\n",
    "news_df.head()"
   ],
   "metadata": {
    "collapsed": false
   }
  },
  {
   "cell_type": "code",
   "execution_count": 32,
   "outputs": [
    {
     "data": {
      "text/plain": "sentence1_word_cnt     22.330579\nsentence1_char_cnt    120.600207\nsentence2_word_cnt     11.984504\nsentence2_char_cnt     66.581612\ndtype: float64"
     },
     "execution_count": 32,
     "metadata": {},
     "output_type": "execute_result"
    }
   ],
   "source": [
    "news_df[[\"sentence1_word_cnt\", \"sentence1_char_cnt\", \"sentence2_word_cnt\", \"sentence2_char_cnt\"]].mean()"
   ],
   "metadata": {
    "collapsed": false
   }
  },
  {
   "cell_type": "markdown",
   "source": [
    "## Reddit dataset"
   ],
   "metadata": {
    "collapsed": false
   }
  },
  {
   "cell_type": "code",
   "execution_count": 33,
   "outputs": [
    {
     "data": {
      "text/plain": "                                           sentence1  \\\n0  stocks nifty future call today: Sensex Weak an...   \n1  At DAVOS, Financial Billionaire Schwartzman, w...   \n2  SENSEX Nifty up, Today stocks nifty future tra...   \n3  At DAVOS, Financial Billionaire Schwartzman, w...   \n4  Sensex and Nifty up, 2 sept Nifty stock market...   \n\n                                           sentence2     gold_label  \n0  Sensex and Nifty up, 2 sept Nifty stock market...  contradiction  \n1  At Davos, Wall Street Billionaire Steven Schwa...        neutral  \n2  Sensex down 74.58 points, Nifty future tips, T...  contradiction  \n3  At Davos, Wall Street Billionaire Mr Schwartzf...     entailment  \n4  stocks nifty future call today: Sensex Weak an...  contradiction  ",
      "text/html": "<div>\n<style scoped>\n    .dataframe tbody tr th:only-of-type {\n        vertical-align: middle;\n    }\n\n    .dataframe tbody tr th {\n        vertical-align: top;\n    }\n\n    .dataframe thead th {\n        text-align: right;\n    }\n</style>\n<table border=\"1\" class=\"dataframe\">\n  <thead>\n    <tr style=\"text-align: right;\">\n      <th></th>\n      <th>sentence1</th>\n      <th>sentence2</th>\n      <th>gold_label</th>\n    </tr>\n  </thead>\n  <tbody>\n    <tr>\n      <th>0</th>\n      <td>stocks nifty future call today: Sensex Weak an...</td>\n      <td>Sensex and Nifty up, 2 sept Nifty stock market...</td>\n      <td>contradiction</td>\n    </tr>\n    <tr>\n      <th>1</th>\n      <td>At DAVOS, Financial Billionaire Schwartzman, w...</td>\n      <td>At Davos, Wall Street Billionaire Steven Schwa...</td>\n      <td>neutral</td>\n    </tr>\n    <tr>\n      <th>2</th>\n      <td>SENSEX Nifty up, Today stocks nifty future tra...</td>\n      <td>Sensex down 74.58 points, Nifty future tips, T...</td>\n      <td>contradiction</td>\n    </tr>\n    <tr>\n      <th>3</th>\n      <td>At DAVOS, Financial Billionaire Schwartzman, w...</td>\n      <td>At Davos, Wall Street Billionaire Mr Schwartzf...</td>\n      <td>entailment</td>\n    </tr>\n    <tr>\n      <th>4</th>\n      <td>Sensex and Nifty up, 2 sept Nifty stock market...</td>\n      <td>stocks nifty future call today: Sensex Weak an...</td>\n      <td>contradiction</td>\n    </tr>\n  </tbody>\n</table>\n</div>"
     },
     "execution_count": 33,
     "metadata": {},
     "output_type": "execute_result"
    }
   ],
   "source": [
    "reddit_df.head()"
   ],
   "metadata": {
    "collapsed": false
   }
  },
  {
   "cell_type": "code",
   "execution_count": 14,
   "outputs": [
    {
     "data": {
      "text/plain": "0.8848484848484849"
     },
     "execution_count": 14,
     "metadata": {},
     "output_type": "execute_result"
    }
   ],
   "source": [
    "146/(146+19)"
   ],
   "metadata": {
    "collapsed": false
   }
  },
  {
   "cell_type": "code",
   "execution_count": 34,
   "outputs": [
    {
     "data": {
      "text/plain": "gold_label\nentailment       146\nneutral           85\ncontradiction     19\nName: count, dtype: int64"
     },
     "execution_count": 34,
     "metadata": {},
     "output_type": "execute_result"
    }
   ],
   "source": [
    "reddit_df['gold_label'].value_counts()"
   ],
   "metadata": {
    "collapsed": false
   }
  },
  {
   "cell_type": "code",
   "execution_count": 187,
   "outputs": [
    {
     "data": {
      "text/plain": "                                           sentence1  \\\n0  stocks nifty future call today: Sensex Weak an...   \n1  At DAVOS, Financial Billionaire Schwartzman, w...   \n2  SENSEX Nifty up, Today stocks nifty future tra...   \n3  At DAVOS, Financial Billionaire Schwartzman, w...   \n4  Sensex and Nifty up, 2 sept Nifty stock market...   \n5  Indian Rupee down, Tomorrow On Monday stock ni...   \n6  The US is quickly becoming a 3rd world country...   \n7  At DAVOS, Financial Billionaire Schwartzman, w...   \n8  At Davos, Wall Street Billionaire Steven Schwa...   \n9  At Davos, Wall Street Billionaire Mr Schwartzf...   \n\n                                           sentence2     gold_label  \\\n0  Sensex and Nifty up, 2 sept Nifty stock market...  contradiction   \n1  At Davos, Wall Street Billionaire Steven Schwa...        neutral   \n2  Sensex down 74.58 points, Nifty future tips, T...  contradiction   \n3  At Davos, Wall Street Billionaire Mr Schwartzf...     entailment   \n4  stocks nifty future call today: Sensex Weak an...  contradiction   \n5  SENSEX Nifty up, Today stocks nifty future tra...        neutral   \n6  Never forget the USA is the best in everything...     entailment   \n7  At Davos, Wall Street Billionaire Schwartzfman...     entailment   \n8  At DAVOS, Financial Billionaire Schwartzman, w...     entailment   \n9  At DAVOS, Financial Billionaire Schwartzman, w...        neutral   \n\n   sentence1_word_cnt  sentence2_word_cnt  sentence1_char_cnt  \\\n0                  28                  30                 153   \n1                  22                  24                 146   \n2                  27                  26                 153   \n3                  22                  24                 146   \n4                  30                  28                 167   \n5                  24                  27                 141   \n6                  23                  27                 128   \n7                  22                  23                 146   \n8                  24                  22                 160   \n9                  24                  22                 154   \n\n   sentence2_char_cnt  \n0                 167  \n1                 160  \n2                 158  \n3                 154  \n4                 153  \n5                 153  \n6                 152  \n7                 151  \n8                 146  \n9                 146  ",
      "text/html": "<div>\n<style scoped>\n    .dataframe tbody tr th:only-of-type {\n        vertical-align: middle;\n    }\n\n    .dataframe tbody tr th {\n        vertical-align: top;\n    }\n\n    .dataframe thead th {\n        text-align: right;\n    }\n</style>\n<table border=\"1\" class=\"dataframe\">\n  <thead>\n    <tr style=\"text-align: right;\">\n      <th></th>\n      <th>sentence1</th>\n      <th>sentence2</th>\n      <th>gold_label</th>\n      <th>sentence1_word_cnt</th>\n      <th>sentence2_word_cnt</th>\n      <th>sentence1_char_cnt</th>\n      <th>sentence2_char_cnt</th>\n    </tr>\n  </thead>\n  <tbody>\n    <tr>\n      <th>0</th>\n      <td>stocks nifty future call today: Sensex Weak an...</td>\n      <td>Sensex and Nifty up, 2 sept Nifty stock market...</td>\n      <td>contradiction</td>\n      <td>28</td>\n      <td>30</td>\n      <td>153</td>\n      <td>167</td>\n    </tr>\n    <tr>\n      <th>1</th>\n      <td>At DAVOS, Financial Billionaire Schwartzman, w...</td>\n      <td>At Davos, Wall Street Billionaire Steven Schwa...</td>\n      <td>neutral</td>\n      <td>22</td>\n      <td>24</td>\n      <td>146</td>\n      <td>160</td>\n    </tr>\n    <tr>\n      <th>2</th>\n      <td>SENSEX Nifty up, Today stocks nifty future tra...</td>\n      <td>Sensex down 74.58 points, Nifty future tips, T...</td>\n      <td>contradiction</td>\n      <td>27</td>\n      <td>26</td>\n      <td>153</td>\n      <td>158</td>\n    </tr>\n    <tr>\n      <th>3</th>\n      <td>At DAVOS, Financial Billionaire Schwartzman, w...</td>\n      <td>At Davos, Wall Street Billionaire Mr Schwartzf...</td>\n      <td>entailment</td>\n      <td>22</td>\n      <td>24</td>\n      <td>146</td>\n      <td>154</td>\n    </tr>\n    <tr>\n      <th>4</th>\n      <td>Sensex and Nifty up, 2 sept Nifty stock market...</td>\n      <td>stocks nifty future call today: Sensex Weak an...</td>\n      <td>contradiction</td>\n      <td>30</td>\n      <td>28</td>\n      <td>167</td>\n      <td>153</td>\n    </tr>\n    <tr>\n      <th>5</th>\n      <td>Indian Rupee down, Tomorrow On Monday stock ni...</td>\n      <td>SENSEX Nifty up, Today stocks nifty future tra...</td>\n      <td>neutral</td>\n      <td>24</td>\n      <td>27</td>\n      <td>141</td>\n      <td>153</td>\n    </tr>\n    <tr>\n      <th>6</th>\n      <td>The US is quickly becoming a 3rd world country...</td>\n      <td>Never forget the USA is the best in everything...</td>\n      <td>entailment</td>\n      <td>23</td>\n      <td>27</td>\n      <td>128</td>\n      <td>152</td>\n    </tr>\n    <tr>\n      <th>7</th>\n      <td>At DAVOS, Financial Billionaire Schwartzman, w...</td>\n      <td>At Davos, Wall Street Billionaire Schwartzfman...</td>\n      <td>entailment</td>\n      <td>22</td>\n      <td>23</td>\n      <td>146</td>\n      <td>151</td>\n    </tr>\n    <tr>\n      <th>8</th>\n      <td>At Davos, Wall Street Billionaire Steven Schwa...</td>\n      <td>At DAVOS, Financial Billionaire Schwartzman, w...</td>\n      <td>entailment</td>\n      <td>24</td>\n      <td>22</td>\n      <td>160</td>\n      <td>146</td>\n    </tr>\n    <tr>\n      <th>9</th>\n      <td>At Davos, Wall Street Billionaire Mr Schwartzf...</td>\n      <td>At DAVOS, Financial Billionaire Schwartzman, w...</td>\n      <td>neutral</td>\n      <td>24</td>\n      <td>22</td>\n      <td>154</td>\n      <td>146</td>\n    </tr>\n  </tbody>\n</table>\n</div>"
     },
     "execution_count": 187,
     "metadata": {},
     "output_type": "execute_result"
    }
   ],
   "source": [
    "inspect_dataset(reddit_df)\n",
    "\n",
    "reddit_df.head(10)"
   ],
   "metadata": {
    "collapsed": false
   }
  },
  {
   "cell_type": "code",
   "execution_count": 36,
   "outputs": [
    {
     "data": {
      "text/plain": "sentence1_word_cnt    11.960\nsentence1_char_cnt    69.456\nsentence2_word_cnt    11.460\nsentence2_char_cnt    65.660\ndtype: float64"
     },
     "execution_count": 36,
     "metadata": {},
     "output_type": "execute_result"
    }
   ],
   "source": [
    "reddit_df[[\"sentence1_word_cnt\", \"sentence1_char_cnt\", \"sentence2_word_cnt\", \"sentence2_char_cnt\"]].mean()"
   ],
   "metadata": {
    "collapsed": false
   }
  },
  {
   "cell_type": "markdown",
   "source": [
    "## RTE dataset"
   ],
   "metadata": {
    "collapsed": false
   }
  },
  {
   "cell_type": "code",
   "execution_count": 37,
   "outputs": [
    {
     "data": {
      "text/plain": "                                           sentence1  \\\n0  In 1956 Accardo won the Geneva Competition and...   \n1  David Golinkin is the editor or author of eigh...   \n2  David Golinkin is single-handedly responsible ...   \n3  During Reinsdorf 's 24 seasons as chairman of ...   \n4  During Reinsdorf 's 24 seasons as chairman of ...   \n\n                                           sentence2  gold_label  \n0                     Accardo composed 24 Caprices .     neutral  \n1              Golinkin has written eighteen books .     neutral  \n2  David Golinkin is the author of dozen of respo...     neutral  \n3  Reinsdorf was the chairman of the White Sox fo...  entailment  \n4          The White Sox have won 24 championships .     neutral  ",
      "text/html": "<div>\n<style scoped>\n    .dataframe tbody tr th:only-of-type {\n        vertical-align: middle;\n    }\n\n    .dataframe tbody tr th {\n        vertical-align: top;\n    }\n\n    .dataframe thead th {\n        text-align: right;\n    }\n</style>\n<table border=\"1\" class=\"dataframe\">\n  <thead>\n    <tr style=\"text-align: right;\">\n      <th></th>\n      <th>sentence1</th>\n      <th>sentence2</th>\n      <th>gold_label</th>\n    </tr>\n  </thead>\n  <tbody>\n    <tr>\n      <th>0</th>\n      <td>In 1956 Accardo won the Geneva Competition and...</td>\n      <td>Accardo composed 24 Caprices .</td>\n      <td>neutral</td>\n    </tr>\n    <tr>\n      <th>1</th>\n      <td>David Golinkin is the editor or author of eigh...</td>\n      <td>Golinkin has written eighteen books .</td>\n      <td>neutral</td>\n    </tr>\n    <tr>\n      <th>2</th>\n      <td>David Golinkin is single-handedly responsible ...</td>\n      <td>David Golinkin is the author of dozen of respo...</td>\n      <td>neutral</td>\n    </tr>\n    <tr>\n      <th>3</th>\n      <td>During Reinsdorf 's 24 seasons as chairman of ...</td>\n      <td>Reinsdorf was the chairman of the White Sox fo...</td>\n      <td>entailment</td>\n    </tr>\n    <tr>\n      <th>4</th>\n      <td>During Reinsdorf 's 24 seasons as chairman of ...</td>\n      <td>The White Sox have won 24 championships .</td>\n      <td>neutral</td>\n    </tr>\n  </tbody>\n</table>\n</div>"
     },
     "execution_count": 37,
     "metadata": {},
     "output_type": "execute_result"
    }
   ],
   "source": [
    "rte_df.head()"
   ],
   "metadata": {
    "collapsed": false
   }
  },
  {
   "cell_type": "code",
   "execution_count": 38,
   "outputs": [
    {
     "data": {
      "text/plain": "gold_label\nneutral       96\nentailment    70\nName: count, dtype: int64"
     },
     "execution_count": 38,
     "metadata": {},
     "output_type": "execute_result"
    }
   ],
   "source": [
    "rte_df['gold_label'].value_counts()"
   ],
   "metadata": {
    "collapsed": false
   }
  },
  {
   "cell_type": "code",
   "execution_count": 15,
   "outputs": [],
   "source": [
    "rte_df[rte_df[\"gold_label\"] == \"neutral\"].head(30).to_excel(\"RTE_neutral_samples.xlsx\")"
   ],
   "metadata": {
    "collapsed": false
   }
  },
  {
   "cell_type": "code",
   "execution_count": 39,
   "outputs": [
    {
     "data": {
      "text/plain": "                                           sentence1  \\\n0  In 1956 Accardo won the Geneva Competition and...   \n1  David Golinkin is the editor or author of eigh...   \n2  David Golinkin is single-handedly responsible ...   \n3  During Reinsdorf 's 24 seasons as chairman of ...   \n4  During Reinsdorf 's 24 seasons as chairman of ...   \n\n                                           sentence2  gold_label  \\\n0                     Accardo composed 24 Caprices .     neutral   \n1              Golinkin has written eighteen books .     neutral   \n2  David Golinkin is the author of dozen of respo...     neutral   \n3  Reinsdorf was the chairman of the White Sox fo...  entailment   \n4          The White Sox have won 24 championships .     neutral   \n\n   sentence1_word_cnt  sentence2_word_cnt  sentence1_char_cnt  \\\n0                  52                   5                 281   \n1                  22                   6                 113   \n2                  37                  22                 239   \n3                  31                  12                 176   \n4                  31                   8                 176   \n\n   sentence2_char_cnt  \n0                  30  \n1                  37  \n2                 123  \n3                  60  \n4                  41  ",
      "text/html": "<div>\n<style scoped>\n    .dataframe tbody tr th:only-of-type {\n        vertical-align: middle;\n    }\n\n    .dataframe tbody tr th {\n        vertical-align: top;\n    }\n\n    .dataframe thead th {\n        text-align: right;\n    }\n</style>\n<table border=\"1\" class=\"dataframe\">\n  <thead>\n    <tr style=\"text-align: right;\">\n      <th></th>\n      <th>sentence1</th>\n      <th>sentence2</th>\n      <th>gold_label</th>\n      <th>sentence1_word_cnt</th>\n      <th>sentence2_word_cnt</th>\n      <th>sentence1_char_cnt</th>\n      <th>sentence2_char_cnt</th>\n    </tr>\n  </thead>\n  <tbody>\n    <tr>\n      <th>0</th>\n      <td>In 1956 Accardo won the Geneva Competition and...</td>\n      <td>Accardo composed 24 Caprices .</td>\n      <td>neutral</td>\n      <td>52</td>\n      <td>5</td>\n      <td>281</td>\n      <td>30</td>\n    </tr>\n    <tr>\n      <th>1</th>\n      <td>David Golinkin is the editor or author of eigh...</td>\n      <td>Golinkin has written eighteen books .</td>\n      <td>neutral</td>\n      <td>22</td>\n      <td>6</td>\n      <td>113</td>\n      <td>37</td>\n    </tr>\n    <tr>\n      <th>2</th>\n      <td>David Golinkin is single-handedly responsible ...</td>\n      <td>David Golinkin is the author of dozen of respo...</td>\n      <td>neutral</td>\n      <td>37</td>\n      <td>22</td>\n      <td>239</td>\n      <td>123</td>\n    </tr>\n    <tr>\n      <th>3</th>\n      <td>During Reinsdorf 's 24 seasons as chairman of ...</td>\n      <td>Reinsdorf was the chairman of the White Sox fo...</td>\n      <td>entailment</td>\n      <td>31</td>\n      <td>12</td>\n      <td>176</td>\n      <td>60</td>\n    </tr>\n    <tr>\n      <th>4</th>\n      <td>During Reinsdorf 's 24 seasons as chairman of ...</td>\n      <td>The White Sox have won 24 championships .</td>\n      <td>neutral</td>\n      <td>31</td>\n      <td>8</td>\n      <td>176</td>\n      <td>41</td>\n    </tr>\n  </tbody>\n</table>\n</div>"
     },
     "execution_count": 39,
     "metadata": {},
     "output_type": "execute_result"
    }
   ],
   "source": [
    "inspect_dataset(rte_df)\n",
    "\n",
    "rte_df.head()"
   ],
   "metadata": {
    "collapsed": false
   }
  },
  {
   "cell_type": "code",
   "execution_count": 40,
   "outputs": [
    {
     "data": {
      "text/plain": "sentence1_word_cnt     32.138554\nsentence1_char_cnt    176.753012\nsentence2_word_cnt     11.590361\nsentence2_char_cnt     61.246988\ndtype: float64"
     },
     "execution_count": 40,
     "metadata": {},
     "output_type": "execute_result"
    }
   ],
   "source": [
    "rte_df[[\"sentence1_word_cnt\", \"sentence1_char_cnt\", \"sentence2_word_cnt\", \"sentence2_char_cnt\"]].mean()"
   ],
   "metadata": {
    "collapsed": false
   }
  },
  {
   "cell_type": "markdown",
   "source": [
    "## Stress dataset"
   ],
   "metadata": {
    "collapsed": false
   }
  },
  {
   "cell_type": "code",
   "execution_count": 41,
   "outputs": [
    {
     "data": {
      "text/plain": "                                           sentence1  \\\n0  If Joe goes with her 6 years old twin brothers...   \n1  If Joe goes with her more than 1 years old twi...   \n2  If Joe goes with her 6 years old twin brothers...   \n3  Tim has 350 pounds of cement in 100 , 50 , and...   \n4  Tim has less than 750 pounds of cement in 100 ...   \n\n                                           sentence2     gold_label  \n0  If Joe goes with her more than 1 years old twi...     entailment  \n1  If Joe goes with her 6 years old twin brothers...        neutral  \n2  If Joe goes with her less than 6 years old twi...  contradiction  \n3  Tim has less than 750 pounds of cement in 100 ...     entailment  \n4  Tim has 350 pounds of cement in 100 , 50 , and...        neutral  ",
      "text/html": "<div>\n<style scoped>\n    .dataframe tbody tr th:only-of-type {\n        vertical-align: middle;\n    }\n\n    .dataframe tbody tr th {\n        vertical-align: top;\n    }\n\n    .dataframe thead th {\n        text-align: right;\n    }\n</style>\n<table border=\"1\" class=\"dataframe\">\n  <thead>\n    <tr style=\"text-align: right;\">\n      <th></th>\n      <th>sentence1</th>\n      <th>sentence2</th>\n      <th>gold_label</th>\n    </tr>\n  </thead>\n  <tbody>\n    <tr>\n      <th>0</th>\n      <td>If Joe goes with her 6 years old twin brothers...</td>\n      <td>If Joe goes with her more than 1 years old twi...</td>\n      <td>entailment</td>\n    </tr>\n    <tr>\n      <th>1</th>\n      <td>If Joe goes with her more than 1 years old twi...</td>\n      <td>If Joe goes with her 6 years old twin brothers...</td>\n      <td>neutral</td>\n    </tr>\n    <tr>\n      <th>2</th>\n      <td>If Joe goes with her 6 years old twin brothers...</td>\n      <td>If Joe goes with her less than 6 years old twi...</td>\n      <td>contradiction</td>\n    </tr>\n    <tr>\n      <th>3</th>\n      <td>Tim has 350 pounds of cement in 100 , 50 , and...</td>\n      <td>Tim has less than 750 pounds of cement in 100 ...</td>\n      <td>entailment</td>\n    </tr>\n    <tr>\n      <th>4</th>\n      <td>Tim has less than 750 pounds of cement in 100 ...</td>\n      <td>Tim has 350 pounds of cement in 100 , 50 , and...</td>\n      <td>neutral</td>\n    </tr>\n  </tbody>\n</table>\n</div>"
     },
     "execution_count": 41,
     "metadata": {},
     "output_type": "execute_result"
    }
   ],
   "source": [
    "stress_df.head()"
   ],
   "metadata": {
    "collapsed": false
   }
  },
  {
   "cell_type": "code",
   "execution_count": 42,
   "outputs": [
    {
     "data": {
      "text/plain": "gold_label\nentailment       2532\nneutral          2532\ncontradiction    2532\nName: count, dtype: int64"
     },
     "execution_count": 42,
     "metadata": {},
     "output_type": "execute_result"
    }
   ],
   "source": [
    "stress_df['gold_label'].value_counts()"
   ],
   "metadata": {
    "collapsed": false
   }
  },
  {
   "cell_type": "code",
   "execution_count": 43,
   "outputs": [
    {
     "data": {
      "text/plain": "                                           sentence1  \\\n0  If Joe goes with her 6 years old twin brothers...   \n1  If Joe goes with her more than 1 years old twi...   \n2  If Joe goes with her 6 years old twin brothers...   \n3  Tim has 350 pounds of cement in 100 , 50 , and...   \n4  Tim has less than 750 pounds of cement in 100 ...   \n\n                                           sentence2     gold_label  \\\n0  If Joe goes with her more than 1 years old twi...     entailment   \n1  If Joe goes with her 6 years old twin brothers...        neutral   \n2  If Joe goes with her less than 6 years old twi...  contradiction   \n3  Tim has less than 750 pounds of cement in 100 ...     entailment   \n4  Tim has 350 pounds of cement in 100 , 50 , and...        neutral   \n\n   sentence1_word_cnt  sentence2_word_cnt  sentence1_char_cnt  \\\n0                  19                  21                  84   \n1                  21                  19                  94   \n2                  19                  21                  84   \n3                  15                  17                  60   \n4                  17                  15                  70   \n\n   sentence2_char_cnt  \n0                  94  \n1                  84  \n2                  94  \n3                  70  \n4                  60  ",
      "text/html": "<div>\n<style scoped>\n    .dataframe tbody tr th:only-of-type {\n        vertical-align: middle;\n    }\n\n    .dataframe tbody tr th {\n        vertical-align: top;\n    }\n\n    .dataframe thead th {\n        text-align: right;\n    }\n</style>\n<table border=\"1\" class=\"dataframe\">\n  <thead>\n    <tr style=\"text-align: right;\">\n      <th></th>\n      <th>sentence1</th>\n      <th>sentence2</th>\n      <th>gold_label</th>\n      <th>sentence1_word_cnt</th>\n      <th>sentence2_word_cnt</th>\n      <th>sentence1_char_cnt</th>\n      <th>sentence2_char_cnt</th>\n    </tr>\n  </thead>\n  <tbody>\n    <tr>\n      <th>0</th>\n      <td>If Joe goes with her 6 years old twin brothers...</td>\n      <td>If Joe goes with her more than 1 years old twi...</td>\n      <td>entailment</td>\n      <td>19</td>\n      <td>21</td>\n      <td>84</td>\n      <td>94</td>\n    </tr>\n    <tr>\n      <th>1</th>\n      <td>If Joe goes with her more than 1 years old twi...</td>\n      <td>If Joe goes with her 6 years old twin brothers...</td>\n      <td>neutral</td>\n      <td>21</td>\n      <td>19</td>\n      <td>94</td>\n      <td>84</td>\n    </tr>\n    <tr>\n      <th>2</th>\n      <td>If Joe goes with her 6 years old twin brothers...</td>\n      <td>If Joe goes with her less than 6 years old twi...</td>\n      <td>contradiction</td>\n      <td>19</td>\n      <td>21</td>\n      <td>84</td>\n      <td>94</td>\n    </tr>\n    <tr>\n      <th>3</th>\n      <td>Tim has 350 pounds of cement in 100 , 50 , and...</td>\n      <td>Tim has less than 750 pounds of cement in 100 ...</td>\n      <td>entailment</td>\n      <td>15</td>\n      <td>17</td>\n      <td>60</td>\n      <td>70</td>\n    </tr>\n    <tr>\n      <th>4</th>\n      <td>Tim has less than 750 pounds of cement in 100 ...</td>\n      <td>Tim has 350 pounds of cement in 100 , 50 , and...</td>\n      <td>neutral</td>\n      <td>17</td>\n      <td>15</td>\n      <td>70</td>\n      <td>60</td>\n    </tr>\n  </tbody>\n</table>\n</div>"
     },
     "execution_count": 43,
     "metadata": {},
     "output_type": "execute_result"
    }
   ],
   "source": [
    "inspect_dataset(stress_df)\n",
    "\n",
    "stress_df.head()"
   ],
   "metadata": {
    "collapsed": false
   }
  },
  {
   "cell_type": "code",
   "execution_count": 44,
   "outputs": [
    {
     "data": {
      "text/plain": "sentence1_word_cnt    20.905082\nsentence1_char_cnt    95.779753\nsentence2_word_cnt    21.247367\nsentence2_char_cnt    97.442206\ndtype: float64"
     },
     "execution_count": 44,
     "metadata": {},
     "output_type": "execute_result"
    }
   ],
   "source": [
    "stress_df[[\"sentence1_word_cnt\", \"sentence1_char_cnt\", \"sentence2_word_cnt\", \"sentence2_char_cnt\"]].mean()"
   ],
   "metadata": {
    "collapsed": false
   }
  },
  {
   "cell_type": "markdown",
   "source": [
    "## Potential EDA questions\n",
    "\n",
    "<ul>\n",
    "    <li>Word cloud for each dataset</li>\n",
    "    <li>Extract numbers and inspect ranges, distribution</li>\n",
    "    <li>Labels distributions</li>\n",
    "    <li>Verbs used and operations they imply: https://stackoverflow.com/questions/47856247/extract-verb-phrases-using-spacy</li>\n",
    "</ul>"
   ],
   "metadata": {
    "collapsed": false
   }
  },
  {
   "cell_type": "code",
   "execution_count": 45,
   "outputs": [
    {
     "name": "stderr",
     "output_type": "stream",
     "text": [
      "UsageError: Line magic function `%` not found.\n"
     ]
    }
   ],
   "source": [
    "from PIL import Image\n",
    "from wordcloud import WordCloud, STOPWORDS, ImageColorGenerator\n",
    "import matplotlib.pyplot as plt\n",
    "% matplotlib inline"
   ],
   "metadata": {
    "collapsed": false
   }
  },
  {
   "cell_type": "code",
   "execution_count": 55,
   "outputs": [],
   "source": [
    "def generate_word_cloud(text):\n",
    "    wordcloud = WordCloud(stopwords=STOPWORDS,\n",
    "    background_color='white',\n",
    "    collocations=False,\n",
    "    max_words=20).generate(text)\n",
    "\n",
    "    # Display the generated image:\n",
    "    plt.imshow(wordcloud, interpolation='bilinear')\n",
    "    plt.axis(\"off\")\n",
    "    plt.show()"
   ],
   "metadata": {
    "collapsed": false
   }
  },
  {
   "cell_type": "code",
   "execution_count": 334,
   "outputs": [
    {
     "data": {
      "text/plain": "<Figure size 640x480 with 1 Axes>",
      "image/png": "[encoded data removed]"
     },
     "metadata": {},
     "output_type": "display_data"
    }
   ],
   "source": [
    "premise_list = list(rte_df[\"sentence1\"].values)\n",
    "hypothesis_list = list(rte_df[\"sentence2\"].values)\n",
    "premise, hypothesis = \" \".join(premise_list), \" \".join(hypothesis_list)\n",
    "# Create and generate a word cloud image:\n",
    "generate_word_cloud(premise)"
   ],
   "metadata": {
    "collapsed": false
   }
  },
  {
   "cell_type": "code",
   "execution_count": 335,
   "outputs": [
    {
     "data": {
      "text/plain": "<Figure size 640x480 with 1 Axes>",
      "image/png": "[encoded data removed]"
     },
     "metadata": {},
     "output_type": "display_data"
    }
   ],
   "source": [
    "generate_word_cloud(hypothesis)"
   ],
   "metadata": {
    "collapsed": false
   }
  },
  {
   "cell_type": "code",
   "execution_count": 336,
   "outputs": [
    {
     "name": "stderr",
     "output_type": "stream",
     "text": [
      "[nltk_data] Downloading package punkt to\n",
      "[nltk_data]     /Users/ioanamazilu/nltk_data...\n",
      "[nltk_data]   Package punkt is already up-to-date!\n",
      "[nltk_data] Downloading package averaged_perceptron_tagger to\n",
      "[nltk_data]     /Users/ioanamazilu/nltk_data...\n",
      "[nltk_data]   Package averaged_perceptron_tagger is already up-to-\n",
      "[nltk_data]       date!\n"
     ]
    }
   ],
   "source": [
    "import nltk\n",
    "nltk.download('punkt')\n",
    "nltk.download('averaged_perceptron_tagger')\n",
    "\n",
    "def extract_verbs_from_text(text):\n",
    "    tokens = nltk.word_tokenize(text)\n",
    "    tagged_tokens = nltk.pos_tag(tokens)\n",
    "    verbs = list(map(lambda x: x[0], filter(lambda word: 'VB' in word[1], tagged_tokens)))\n",
    "    return verbs"
   ],
   "metadata": {
    "collapsed": false
   }
  },
  {
   "cell_type": "code",
   "execution_count": 337,
   "outputs": [],
   "source": [
    "verbs_premise, verbs_hypothesis = extract_verbs_from_text(premise), extract_verbs_from_text(hypothesis)"
   ],
   "metadata": {
    "collapsed": false
   }
  },
  {
   "cell_type": "code",
   "execution_count": 338,
   "outputs": [
    {
     "data": {
      "text/plain": "<Figure size 640x480 with 1 Axes>",
      "image/png": "[encoded data removed]"
     },
     "metadata": {},
     "output_type": "display_data"
    }
   ],
   "source": [
    "generate_word_cloud(\" \".join(verbs_premise))"
   ],
   "metadata": {
    "collapsed": false
   }
  },
  {
   "cell_type": "code",
   "execution_count": 339,
   "outputs": [
    {
     "data": {
      "text/plain": "<Figure size 640x480 with 1 Axes>",
      "image/png": "[encoded data removed]"
     },
     "metadata": {},
     "output_type": "display_data"
    }
   ],
   "source": [
    "generate_word_cloud(\" \".join(verbs_hypothesis))"
   ],
   "metadata": {
    "collapsed": false
   }
  },
  {
   "cell_type": "code",
   "execution_count": 340,
   "outputs": [
    {
     "data": {
      "text/plain": "[Quantity(2, \"Unit(name=\"dimensionless\", entity=Entity(\"dimensionless\"), uri=Dimensionless_quantity)\"),\n Quantity(8, \"Unit(name=\"dimensionless\", entity=Entity(\"dimensionless\"), uri=Dimensionless_quantity)\"),\n Quantity(43, \"Unit(name=\"dimensionless\", entity=Entity(\"dimensionless\"), uri=Dimensionless_quantity)\"),\n Quantity(1, \"Unit(name=\"dimensionless\", entity=Entity(\"dimensionless\"), uri=Dimensionless_quantity)\"),\n Quantity(230.45, \"Unit(name=\"gram\", entity=Entity(\"mass\"), uri=Gram)\"),\n Quantity(2, \"Unit(name=\"dimensionless\", entity=Entity(\"dimensionless\"), uri=Dimensionless_quantity)\"),\n Quantity(1.5, \"Unit(name=\"dimensionless\", entity=Entity(\"dimensionless\"), uri=Dimensionless_quantity)\")]"
     },
     "execution_count": 340,
     "metadata": {},
     "output_type": "execute_result"
    }
   ],
   "source": [
    "parser.parse(\"This is a text that contains 2 quantities. Eight is also a quantity. One apple and forty three bananas. I gave you 1 apple. The apple weights 230.45 grams. Two apples weight more. Also one and a half is a number\")"
   ],
   "metadata": {
    "collapsed": false
   }
  },
  {
   "cell_type": "code",
   "execution_count": 341,
   "outputs": [
    {
     "data": {
      "text/plain": "[2, 3]"
     },
     "execution_count": 341,
     "metadata": {},
     "output_type": "execute_result"
    }
   ],
   "source": [
    "a = [2, 3]\n",
    "a.extend([])\n",
    "a"
   ],
   "metadata": {
    "collapsed": false
   }
  },
  {
   "cell_type": "code",
   "execution_count": 342,
   "outputs": [],
   "source": [
    "def extract_quantities_from_texts(texts):\n",
    "    quantities = []\n",
    "    expr = re.compile('[-+]? (?: (?: \\d* \\. \\d+ ) | (?: \\d+ \\.? ) )(?: [Ee] [+-]? \\d+ ) ?', re.VERBOSE)\n",
    "    for text in texts:\n",
    "        quant_regex = expr.findall(text)\n",
    "        one_count = text.lower().count(\" one \") # add spaces so we don't count `one` as part of a word\n",
    "        ones_list = [1.0] * one_count if one_count != 0 else []\n",
    "        quantities.extend(ones_list)\n",
    "        try:\n",
    "            extracted_quantities = parser.parse(text)\n",
    "            quantities.extend([quantity.value for quantity in extracted_quantities])\n",
    "        except:\n",
    "            quantities.extend(quant_regex)\n",
    "    return quantities\n",
    "\n",
    "def bin_quantities_by_magnitude(quantities):\n",
    "    magnitude_counts = dict()\n",
    "    for quantity in quantities:\n",
    "        quantity = str(quantity).split(\".\")[0]  # remove decimal points\n",
    "        if len(quantity) == 0:\n",
    "            print(quantity)\n",
    "        magnitude_count = magnitude_counts.get(len(quantity), 0)\n",
    "        magnitude_count += 1\n",
    "        magnitude_counts[len(quantity)] = magnitude_count\n",
    "    return magnitude_counts\n",
    "\n",
    "def analyse_quantity_magnitudes_in_text(texts):\n",
    "    quantities = extract_quantities_from_texts(texts)\n",
    "    binned_quantities = bin_quantities_by_magnitude(quantities)\n",
    "    binned_quantities_df = pd.DataFrame({\"magnitude\": binned_quantities.keys(), \"count\": binned_quantities.values()})\n",
    "    fig = px.histogram(binned_quantities_df, y=\"count\", x=\"magnitude\", nbins=16)\n",
    "    fig.show()\n",
    "    return binned_quantities_df"
   ],
   "metadata": {
    "collapsed": false
   }
  },
  {
   "cell_type": "code",
   "execution_count": 343,
   "outputs": [
    {
     "data": {
      "application/vnd.plotly.v1+json": {
       "data": [
        {
         "alignmentgroup": "True",
         "bingroup": "x",
         "histfunc": "sum",
         "hovertemplate": "magnitude=%{x}<br>sum of count=%{y}<extra></extra>",
         "legendgroup": "",
         "marker": {
          "color": "#636efa",
          "pattern": {
           "shape": ""
          }
         },
         "name": "",
         "nbinsx": 16,
         "offsetgroup": "",
         "orientation": "v",
         "showlegend": false,
         "x": [
          4,
          2,
          1,
          3,
          10,
          8,
          6,
          5,
          7,
          13,
          11
         ],
         "xaxis": "x",
         "y": [
          53,
          97,
          116,
          25,
          5,
          3,
          9,
          8,
          5,
          2,
          1
         ],
         "yaxis": "y",
         "type": "histogram"
        }
       ],
       "layout": {
        "template": {
         "data": {
          "histogram2dcontour": [
           {
            "type": "histogram2dcontour",
            "colorbar": {
             "outlinewidth": 0,
             "ticks": ""
            },
            "colorscale": [
             [
              0.0,
              "#0d0887"
             ],
             [
              0.1111111111111111,
              "#46039f"
             ],
             [
              0.2222222222222222,
              "#7201a8"
             ],
             [
              0.3333333333333333,
              "#9c179e"
             ],
             [
              0.4444444444444444,
              "#bd3786"
             ],
             [
              0.5555555555555556,
              "#d8576b"
             ],
             [
              0.6666666666666666,
              "#ed7953"
             ],
             [
              0.7777777777777778,
              "#fb9f3a"
             ],
             [
              0.8888888888888888,
              "#fdca26"
             ],
             [
              1.0,
              "#f0f921"
             ]
            ]
           }
          ],
          "choropleth": [
           {
            "type": "choropleth",
            "colorbar": {
             "outlinewidth": 0,
             "ticks": ""
            }
           }
          ],
          "histogram2d": [
           {
            "type": "histogram2d",
            "colorbar": {
             "outlinewidth": 0,
             "ticks": ""
            },
            "colorscale": [
             [
              0.0,
              "#0d0887"
             ],
             [
              0.1111111111111111,
              "#46039f"
             ],
             [
              0.2222222222222222,
              "#7201a8"
             ],
             [
              0.3333333333333333,
              "#9c179e"
             ],
             [
              0.4444444444444444,
              "#bd3786"
             ],
             [
              0.5555555555555556,
              "#d8576b"
             ],
             [
              0.6666666666666666,
              "#ed7953"
             ],
             [
              0.7777777777777778,
              "#fb9f3a"
             ],
             [
              0.8888888888888888,
              "#fdca26"
             ],
             [
              1.0,
              "#f0f921"
             ]
            ]
           }
          ],
          "heatmap": [
           {
            "type": "heatmap",
            "colorbar": {
             "outlinewidth": 0,
             "ticks": ""
            },
            "colorscale": [
             [
              0.0,
              "#0d0887"
             ],
             [
              0.1111111111111111,
              "#46039f"
             ],
             [
              0.2222222222222222,
              "#7201a8"
             ],
             [
              0.3333333333333333,
              "#9c179e"
             ],
             [
              0.4444444444444444,
              "#bd3786"
             ],
             [
              0.5555555555555556,
              "#d8576b"
             ],
             [
              0.6666666666666666,
              "#ed7953"
             ],
             [
              0.7777777777777778,
              "#fb9f3a"
             ],
             [
              0.8888888888888888,
              "#fdca26"
             ],
             [
              1.0,
              "#f0f921"
             ]
            ]
           }
          ],
          "heatmapgl": [
           {
            "type": "heatmapgl",
            "colorbar": {
             "outlinewidth": 0,
             "ticks": ""
            },
            "colorscale": [
             [
              0.0,
              "#0d0887"
             ],
             [
              0.1111111111111111,
              "#46039f"
             ],
             [
              0.2222222222222222,
              "#7201a8"
             ],
             [
              0.3333333333333333,
              "#9c179e"
             ],
             [
              0.4444444444444444,
              "#bd3786"
             ],
             [
              0.5555555555555556,
              "#d8576b"
             ],
             [
              0.6666666666666666,
              "#ed7953"
             ],
             [
              0.7777777777777778,
              "#fb9f3a"
             ],
             [
              0.8888888888888888,
              "#fdca26"
             ],
             [
              1.0,
              "#f0f921"
             ]
            ]
           }
          ],
          "contourcarpet": [
           {
            "type": "contourcarpet",
            "colorbar": {
             "outlinewidth": 0,
             "ticks": ""
            }
           }
          ],
          "contour": [
           {
            "type": "contour",
            "colorbar": {
             "outlinewidth": 0,
             "ticks": ""
            },
            "colorscale": [
             [
              0.0,
              "#0d0887"
             ],
             [
              0.1111111111111111,
              "#46039f"
             ],
             [
              0.2222222222222222,
              "#7201a8"
             ],
             [
              0.3333333333333333,
              "#9c179e"
             ],
             [
              0.4444444444444444,
              "#bd3786"
             ],
             [
              0.5555555555555556,
              "#d8576b"
             ],
             [
              0.6666666666666666,
              "#ed7953"
             ],
             [
              0.7777777777777778,
              "#fb9f3a"
             ],
             [
              0.8888888888888888,
              "#fdca26"
             ],
             [
              1.0,
              "#f0f921"
             ]
            ]
           }
          ],
          "surface": [
           {
            "type": "surface",
            "colorbar": {
             "outlinewidth": 0,
             "ticks": ""
            },
            "colorscale": [
             [
              0.0,
              "#0d0887"
             ],
             [
              0.1111111111111111,
              "#46039f"
             ],
             [
              0.2222222222222222,
              "#7201a8"
             ],
             [
              0.3333333333333333,
              "#9c179e"
             ],
             [
              0.4444444444444444,
              "#bd3786"
             ],
             [
              0.5555555555555556,
              "#d8576b"
             ],
             [
              0.6666666666666666,
              "#ed7953"
             ],
             [
              0.7777777777777778,
              "#fb9f3a"
             ],
             [
              0.8888888888888888,
              "#fdca26"
             ],
             [
              1.0,
              "#f0f921"
             ]
            ]
           }
          ],
          "mesh3d": [
           {
            "type": "mesh3d",
            "colorbar": {
             "outlinewidth": 0,
             "ticks": ""
            }
           }
          ],
          "scatter": [
           {
            "marker": {
             "line": {
              "color": "#283442"
             }
            },
            "type": "scatter"
           }
          ],
          "parcoords": [
           {
            "type": "parcoords",
            "line": {
             "colorbar": {
              "outlinewidth": 0,
              "ticks": ""
             }
            }
           }
          ],
          "scatterpolargl": [
           {
            "type": "scatterpolargl",
            "marker": {
             "colorbar": {
              "outlinewidth": 0,
              "ticks": ""
             }
            }
           }
          ],
          "bar": [
           {
            "error_x": {
             "color": "#f2f5fa"
            },
            "error_y": {
             "color": "#f2f5fa"
            },
            "marker": {
             "line": {
              "color": "rgb(17,17,17)",
              "width": 0.5
             },
             "pattern": {
              "fillmode": "overlay",
              "size": 10,
              "solidity": 0.2
             }
            },
            "type": "bar"
           }
          ],
          "scattergeo": [
           {
            "type": "scattergeo",
            "marker": {
             "colorbar": {
              "outlinewidth": 0,
              "ticks": ""
             }
            }
           }
          ],
          "scatterpolar": [
           {
            "type": "scatterpolar",
            "marker": {
             "colorbar": {
              "outlinewidth": 0,
              "ticks": ""
             }
            }
           }
          ],
          "histogram": [
           {
            "marker": {
             "pattern": {
              "fillmode": "overlay",
              "size": 10,
              "solidity": 0.2
             }
            },
            "type": "histogram"
           }
          ],
          "scattergl": [
           {
            "marker": {
             "line": {
              "color": "#283442"
             }
            },
            "type": "scattergl"
           }
          ],
          "scatter3d": [
           {
            "type": "scatter3d",
            "line": {
             "colorbar": {
              "outlinewidth": 0,
              "ticks": ""
             }
            },
            "marker": {
             "colorbar": {
              "outlinewidth": 0,
              "ticks": ""
             }
            }
           }
          ],
          "scattermapbox": [
           {
            "type": "scattermapbox",
            "marker": {
             "colorbar": {
              "outlinewidth": 0,
              "ticks": ""
             }
            }
           }
          ],
          "scatterternary": [
           {
            "type": "scatterternary",
            "marker": {
             "colorbar": {
              "outlinewidth": 0,
              "ticks": ""
             }
            }
           }
          ],
          "scattercarpet": [
           {
            "type": "scattercarpet",
            "marker": {
             "colorbar": {
              "outlinewidth": 0,
              "ticks": ""
             }
            }
           }
          ],
          "carpet": [
           {
            "aaxis": {
             "endlinecolor": "#A2B1C6",
             "gridcolor": "#506784",
             "linecolor": "#506784",
             "minorgridcolor": "#506784",
             "startlinecolor": "#A2B1C6"
            },
            "baxis": {
             "endlinecolor": "#A2B1C6",
             "gridcolor": "#506784",
             "linecolor": "#506784",
             "minorgridcolor": "#506784",
             "startlinecolor": "#A2B1C6"
            },
            "type": "carpet"
           }
          ],
          "table": [
           {
            "cells": {
             "fill": {
              "color": "#506784"
             },
             "line": {
              "color": "rgb(17,17,17)"
             }
            },
            "header": {
             "fill": {
              "color": "#2a3f5f"
             },
             "line": {
              "color": "rgb(17,17,17)"
             }
            },
            "type": "table"
           }
          ],
          "barpolar": [
           {
            "marker": {
             "line": {
              "color": "rgb(17,17,17)",
              "width": 0.5
             },
             "pattern": {
              "fillmode": "overlay",
              "size": 10,
              "solidity": 0.2
             }
            },
            "type": "barpolar"
           }
          ],
          "pie": [
           {
            "automargin": true,
            "type": "pie"
           }
          ]
         },
         "layout": {
          "autotypenumbers": "strict",
          "colorway": [
           "#636efa",
           "#EF553B",
           "#00cc96",
           "#ab63fa",
           "#FFA15A",
           "#19d3f3",
           "#FF6692",
           "#B6E880",
           "#FF97FF",
           "#FECB52"
          ],
          "font": {
           "color": "#f2f5fa"
          },
          "hovermode": "closest",
          "hoverlabel": {
           "align": "left"
          },
          "paper_bgcolor": "rgb(17,17,17)",
          "plot_bgcolor": "rgb(17,17,17)",
          "polar": {
           "bgcolor": "rgb(17,17,17)",
           "angularaxis": {
            "gridcolor": "#506784",
            "linecolor": "#506784",
            "ticks": ""
           },
           "radialaxis": {
            "gridcolor": "#506784",
            "linecolor": "#506784",
            "ticks": ""
           }
          },
          "ternary": {
           "bgcolor": "rgb(17,17,17)",
           "aaxis": {
            "gridcolor": "#506784",
            "linecolor": "#506784",
            "ticks": ""
           },
           "baxis": {
            "gridcolor": "#506784",
            "linecolor": "#506784",
            "ticks": ""
           },
           "caxis": {
            "gridcolor": "#506784",
            "linecolor": "#506784",
            "ticks": ""
           }
          },
          "coloraxis": {
           "colorbar": {
            "outlinewidth": 0,
            "ticks": ""
           }
          },
          "colorscale": {
           "sequential": [
            [
             0.0,
             "#0d0887"
            ],
            [
             0.1111111111111111,
             "#46039f"
            ],
            [
             0.2222222222222222,
             "#7201a8"
            ],
            [
             0.3333333333333333,
             "#9c179e"
            ],
            [
             0.4444444444444444,
             "#bd3786"
            ],
            [
             0.5555555555555556,
             "#d8576b"
            ],
            [
             0.6666666666666666,
             "#ed7953"
            ],
            [
             0.7777777777777778,
             "#fb9f3a"
            ],
            [
             0.8888888888888888,
             "#fdca26"
            ],
            [
             1.0,
             "#f0f921"
            ]
           ],
           "sequentialminus": [
            [
             0.0,
             "#0d0887"
            ],
            [
             0.1111111111111111,
             "#46039f"
            ],
            [
             0.2222222222222222,
             "#7201a8"
            ],
            [
             0.3333333333333333,
             "#9c179e"
            ],
            [
             0.4444444444444444,
             "#bd3786"
            ],
            [
             0.5555555555555556,
             "#d8576b"
            ],
            [
             0.6666666666666666,
             "#ed7953"
            ],
            [
             0.7777777777777778,
             "#fb9f3a"
            ],
            [
             0.8888888888888888,
             "#fdca26"
            ],
            [
             1.0,
             "#f0f921"
            ]
           ],
           "diverging": [
            [
             0,
             "#8e0152"
            ],
            [
             0.1,
             "#c51b7d"
            ],
            [
             0.2,
             "#de77ae"
            ],
            [
             0.3,
             "#f1b6da"
            ],
            [
             0.4,
             "#fde0ef"
            ],
            [
             0.5,
             "#f7f7f7"
            ],
            [
             0.6,
             "#e6f5d0"
            ],
            [
             0.7,
             "#b8e186"
            ],
            [
             0.8,
             "#7fbc41"
            ],
            [
             0.9,
             "#4d9221"
            ],
            [
             1,
             "#276419"
            ]
           ]
          },
          "xaxis": {
           "gridcolor": "#283442",
           "linecolor": "#506784",
           "ticks": "",
           "title": {
            "standoff": 15
           },
           "zerolinecolor": "#283442",
           "automargin": true,
           "zerolinewidth": 2
          },
          "yaxis": {
           "gridcolor": "#283442",
           "linecolor": "#506784",
           "ticks": "",
           "title": {
            "standoff": 15
           },
           "zerolinecolor": "#283442",
           "automargin": true,
           "zerolinewidth": 2
          },
          "scene": {
           "xaxis": {
            "backgroundcolor": "rgb(17,17,17)",
            "gridcolor": "#506784",
            "linecolor": "#506784",
            "showbackground": true,
            "ticks": "",
            "zerolinecolor": "#C8D4E3",
            "gridwidth": 2
           },
           "yaxis": {
            "backgroundcolor": "rgb(17,17,17)",
            "gridcolor": "#506784",
            "linecolor": "#506784",
            "showbackground": true,
            "ticks": "",
            "zerolinecolor": "#C8D4E3",
            "gridwidth": 2
           },
           "zaxis": {
            "backgroundcolor": "rgb(17,17,17)",
            "gridcolor": "#506784",
            "linecolor": "#506784",
            "showbackground": true,
            "ticks": "",
            "zerolinecolor": "#C8D4E3",
            "gridwidth": 2
           }
          },
          "shapedefaults": {
           "line": {
            "color": "#f2f5fa"
           }
          },
          "annotationdefaults": {
           "arrowcolor": "#f2f5fa",
           "arrowhead": 0,
           "arrowwidth": 1
          },
          "geo": {
           "bgcolor": "rgb(17,17,17)",
           "landcolor": "rgb(17,17,17)",
           "subunitcolor": "#506784",
           "showland": true,
           "showlakes": true,
           "lakecolor": "rgb(17,17,17)"
          },
          "title": {
           "x": 0.05
          },
          "updatemenudefaults": {
           "bgcolor": "#506784",
           "borderwidth": 0
          },
          "sliderdefaults": {
           "bgcolor": "#C8D4E3",
           "borderwidth": 1,
           "bordercolor": "rgb(17,17,17)",
           "tickwidth": 0
          },
          "mapbox": {
           "style": "dark"
          }
         }
        },
        "xaxis": {
         "anchor": "y",
         "domain": [
          0.0,
          1.0
         ],
         "title": {
          "text": "magnitude"
         }
        },
        "yaxis": {
         "anchor": "x",
         "domain": [
          0.0,
          1.0
         ],
         "title": {
          "text": "sum of count"
         }
        },
        "legend": {
         "tracegroupgap": 0
        },
        "margin": {
         "t": 60
        },
        "barmode": "relative"
       },
       "config": {
        "plotlyServerURL": "https://plot.ly"
       }
      },
      "text/html": "<div>                            <div id=\"e7756f64-0797-480b-9881-072a4b4b69e8\" class=\"plotly-graph-div\" style=\"height:525px; width:100%;\"></div>            <script type=\"text/javascript\">                require([\"plotly\"], function(Plotly) {                    window.PLOTLYENV=window.PLOTLYENV || {};                                    if (document.getElementById(\"e7756f64-0797-480b-9881-072a4b4b69e8\")) {                    Plotly.newPlot(                        \"e7756f64-0797-480b-9881-072a4b4b69e8\",                        [{\"alignmentgroup\":\"True\",\"bingroup\":\"x\",\"histfunc\":\"sum\",\"hovertemplate\":\"magnitude=%{x}\\u003cbr\\u003esum of count=%{y}\\u003cextra\\u003e\\u003c\\u002fextra\\u003e\",\"legendgroup\":\"\",\"marker\":{\"color\":\"#636efa\",\"pattern\":{\"shape\":\"\"}},\"name\":\"\",\"nbinsx\":16,\"offsetgroup\":\"\",\"orientation\":\"v\",\"showlegend\":false,\"x\":[4,2,1,3,10,8,6,5,7,13,11],\"xaxis\":\"x\",\"y\":[53,97,116,25,5,3,9,8,5,2,1],\"yaxis\":\"y\",\"type\":\"histogram\"}],                        {\"template\":{\"data\":{\"histogram2dcontour\":[{\"type\":\"histogram2dcontour\",\"colorbar\":{\"outlinewidth\":0,\"ticks\":\"\"},\"colorscale\":[[0.0,\"#0d0887\"],[0.1111111111111111,\"#46039f\"],[0.2222222222222222,\"#7201a8\"],[0.3333333333333333,\"#9c179e\"],[0.4444444444444444,\"#bd3786\"],[0.5555555555555556,\"#d8576b\"],[0.6666666666666666,\"#ed7953\"],[0.7777777777777778,\"#fb9f3a\"],[0.8888888888888888,\"#fdca26\"],[1.0,\"#f0f921\"]]}],\"choropleth\":[{\"type\":\"choropleth\",\"colorbar\":{\"outlinewidth\":0,\"ticks\":\"\"}}],\"histogram2d\":[{\"type\":\"histogram2d\",\"colorbar\":{\"outlinewidth\":0,\"ticks\":\"\"},\"colorscale\":[[0.0,\"#0d0887\"],[0.1111111111111111,\"#46039f\"],[0.2222222222222222,\"#7201a8\"],[0.3333333333333333,\"#9c179e\"],[0.4444444444444444,\"#bd3786\"],[0.5555555555555556,\"#d8576b\"],[0.6666666666666666,\"#ed7953\"],[0.7777777777777778,\"#fb9f3a\"],[0.8888888888888888,\"#fdca26\"],[1.0,\"#f0f921\"]]}],\"heatmap\":[{\"type\":\"heatmap\",\"colorbar\":{\"outlinewidth\":0,\"ticks\":\"\"},\"colorscale\":[[0.0,\"#0d0887\"],[0.1111111111111111,\"#46039f\"],[0.2222222222222222,\"#7201a8\"],[0.3333333333333333,\"#9c179e\"],[0.4444444444444444,\"#bd3786\"],[0.5555555555555556,\"#d8576b\"],[0.6666666666666666,\"#ed7953\"],[0.7777777777777778,\"#fb9f3a\"],[0.8888888888888888,\"#fdca26\"],[1.0,\"#f0f921\"]]}],\"heatmapgl\":[{\"type\":\"heatmapgl\",\"colorbar\":{\"outlinewidth\":0,\"ticks\":\"\"},\"colorscale\":[[0.0,\"#0d0887\"],[0.1111111111111111,\"#46039f\"],[0.2222222222222222,\"#7201a8\"],[0.3333333333333333,\"#9c179e\"],[0.4444444444444444,\"#bd3786\"],[0.5555555555555556,\"#d8576b\"],[0.6666666666666666,\"#ed7953\"],[0.7777777777777778,\"#fb9f3a\"],[0.8888888888888888,\"#fdca26\"],[1.0,\"#f0f921\"]]}],\"contourcarpet\":[{\"type\":\"contourcarpet\",\"colorbar\":{\"outlinewidth\":0,\"ticks\":\"\"}}],\"contour\":[{\"type\":\"contour\",\"colorbar\":{\"outlinewidth\":0,\"ticks\":\"\"},\"colorscale\":[[0.0,\"#0d0887\"],[0.1111111111111111,\"#46039f\"],[0.2222222222222222,\"#7201a8\"],[0.3333333333333333,\"#9c179e\"],[0.4444444444444444,\"#bd3786\"],[0.5555555555555556,\"#d8576b\"],[0.6666666666666666,\"#ed7953\"],[0.7777777777777778,\"#fb9f3a\"],[0.8888888888888888,\"#fdca26\"],[1.0,\"#f0f921\"]]}],\"surface\":[{\"type\":\"surface\",\"colorbar\":{\"outlinewidth\":0,\"ticks\":\"\"},\"colorscale\":[[0.0,\"#0d0887\"],[0.1111111111111111,\"#46039f\"],[0.2222222222222222,\"#7201a8\"],[0.3333333333333333,\"#9c179e\"],[0.4444444444444444,\"#bd3786\"],[0.5555555555555556,\"#d8576b\"],[0.6666666666666666,\"#ed7953\"],[0.7777777777777778,\"#fb9f3a\"],[0.8888888888888888,\"#fdca26\"],[1.0,\"#f0f921\"]]}],\"mesh3d\":[{\"type\":\"mesh3d\",\"colorbar\":{\"outlinewidth\":0,\"ticks\":\"\"}}],\"scatter\":[{\"marker\":{\"line\":{\"color\":\"#283442\"}},\"type\":\"scatter\"}],\"parcoords\":[{\"type\":\"parcoords\",\"line\":{\"colorbar\":{\"outlinewidth\":0,\"ticks\":\"\"}}}],\"scatterpolargl\":[{\"type\":\"scatterpolargl\",\"marker\":{\"colorbar\":{\"outlinewidth\":0,\"ticks\":\"\"}}}],\"bar\":[{\"error_x\":{\"color\":\"#f2f5fa\"},\"error_y\":{\"color\":\"#f2f5fa\"},\"marker\":{\"line\":{\"color\":\"rgb(17,17,17)\",\"width\":0.5},\"pattern\":{\"fillmode\":\"overlay\",\"size\":10,\"solidity\":0.2}},\"type\":\"bar\"}],\"scattergeo\":[{\"type\":\"scattergeo\",\"marker\":{\"colorbar\":{\"outlinewidth\":0,\"ticks\":\"\"}}}],\"scatterpolar\":[{\"type\":\"scatterpolar\",\"marker\":{\"colorbar\":{\"outlinewidth\":0,\"ticks\":\"\"}}}],\"histogram\":[{\"marker\":{\"pattern\":{\"fillmode\":\"overlay\",\"size\":10,\"solidity\":0.2}},\"type\":\"histogram\"}],\"scattergl\":[{\"marker\":{\"line\":{\"color\":\"#283442\"}},\"type\":\"scattergl\"}],\"scatter3d\":[{\"type\":\"scatter3d\",\"line\":{\"colorbar\":{\"outlinewidth\":0,\"ticks\":\"\"}},\"marker\":{\"colorbar\":{\"outlinewidth\":0,\"ticks\":\"\"}}}],\"scattermapbox\":[{\"type\":\"scattermapbox\",\"marker\":{\"colorbar\":{\"outlinewidth\":0,\"ticks\":\"\"}}}],\"scatterternary\":[{\"type\":\"scatterternary\",\"marker\":{\"colorbar\":{\"outlinewidth\":0,\"ticks\":\"\"}}}],\"scattercarpet\":[{\"type\":\"scattercarpet\",\"marker\":{\"colorbar\":{\"outlinewidth\":0,\"ticks\":\"\"}}}],\"carpet\":[{\"aaxis\":{\"endlinecolor\":\"#A2B1C6\",\"gridcolor\":\"#506784\",\"linecolor\":\"#506784\",\"minorgridcolor\":\"#506784\",\"startlinecolor\":\"#A2B1C6\"},\"baxis\":{\"endlinecolor\":\"#A2B1C6\",\"gridcolor\":\"#506784\",\"linecolor\":\"#506784\",\"minorgridcolor\":\"#506784\",\"startlinecolor\":\"#A2B1C6\"},\"type\":\"carpet\"}],\"table\":[{\"cells\":{\"fill\":{\"color\":\"#506784\"},\"line\":{\"color\":\"rgb(17,17,17)\"}},\"header\":{\"fill\":{\"color\":\"#2a3f5f\"},\"line\":{\"color\":\"rgb(17,17,17)\"}},\"type\":\"table\"}],\"barpolar\":[{\"marker\":{\"line\":{\"color\":\"rgb(17,17,17)\",\"width\":0.5},\"pattern\":{\"fillmode\":\"overlay\",\"size\":10,\"solidity\":0.2}},\"type\":\"barpolar\"}],\"pie\":[{\"automargin\":true,\"type\":\"pie\"}]},\"layout\":{\"autotypenumbers\":\"strict\",\"colorway\":[\"#636efa\",\"#EF553B\",\"#00cc96\",\"#ab63fa\",\"#FFA15A\",\"#19d3f3\",\"#FF6692\",\"#B6E880\",\"#FF97FF\",\"#FECB52\"],\"font\":{\"color\":\"#f2f5fa\"},\"hovermode\":\"closest\",\"hoverlabel\":{\"align\":\"left\"},\"paper_bgcolor\":\"rgb(17,17,17)\",\"plot_bgcolor\":\"rgb(17,17,17)\",\"polar\":{\"bgcolor\":\"rgb(17,17,17)\",\"angularaxis\":{\"gridcolor\":\"#506784\",\"linecolor\":\"#506784\",\"ticks\":\"\"},\"radialaxis\":{\"gridcolor\":\"#506784\",\"linecolor\":\"#506784\",\"ticks\":\"\"}},\"ternary\":{\"bgcolor\":\"rgb(17,17,17)\",\"aaxis\":{\"gridcolor\":\"#506784\",\"linecolor\":\"#506784\",\"ticks\":\"\"},\"baxis\":{\"gridcolor\":\"#506784\",\"linecolor\":\"#506784\",\"ticks\":\"\"},\"caxis\":{\"gridcolor\":\"#506784\",\"linecolor\":\"#506784\",\"ticks\":\"\"}},\"coloraxis\":{\"colorbar\":{\"outlinewidth\":0,\"ticks\":\"\"}},\"colorscale\":{\"sequential\":[[0.0,\"#0d0887\"],[0.1111111111111111,\"#46039f\"],[0.2222222222222222,\"#7201a8\"],[0.3333333333333333,\"#9c179e\"],[0.4444444444444444,\"#bd3786\"],[0.5555555555555556,\"#d8576b\"],[0.6666666666666666,\"#ed7953\"],[0.7777777777777778,\"#fb9f3a\"],[0.8888888888888888,\"#fdca26\"],[1.0,\"#f0f921\"]],\"sequentialminus\":[[0.0,\"#0d0887\"],[0.1111111111111111,\"#46039f\"],[0.2222222222222222,\"#7201a8\"],[0.3333333333333333,\"#9c179e\"],[0.4444444444444444,\"#bd3786\"],[0.5555555555555556,\"#d8576b\"],[0.6666666666666666,\"#ed7953\"],[0.7777777777777778,\"#fb9f3a\"],[0.8888888888888888,\"#fdca26\"],[1.0,\"#f0f921\"]],\"diverging\":[[0,\"#8e0152\"],[0.1,\"#c51b7d\"],[0.2,\"#de77ae\"],[0.3,\"#f1b6da\"],[0.4,\"#fde0ef\"],[0.5,\"#f7f7f7\"],[0.6,\"#e6f5d0\"],[0.7,\"#b8e186\"],[0.8,\"#7fbc41\"],[0.9,\"#4d9221\"],[1,\"#276419\"]]},\"xaxis\":{\"gridcolor\":\"#283442\",\"linecolor\":\"#506784\",\"ticks\":\"\",\"title\":{\"standoff\":15},\"zerolinecolor\":\"#283442\",\"automargin\":true,\"zerolinewidth\":2},\"yaxis\":{\"gridcolor\":\"#283442\",\"linecolor\":\"#506784\",\"ticks\":\"\",\"title\":{\"standoff\":15},\"zerolinecolor\":\"#283442\",\"automargin\":true,\"zerolinewidth\":2},\"scene\":{\"xaxis\":{\"backgroundcolor\":\"rgb(17,17,17)\",\"gridcolor\":\"#506784\",\"linecolor\":\"#506784\",\"showbackground\":true,\"ticks\":\"\",\"zerolinecolor\":\"#C8D4E3\",\"gridwidth\":2},\"yaxis\":{\"backgroundcolor\":\"rgb(17,17,17)\",\"gridcolor\":\"#506784\",\"linecolor\":\"#506784\",\"showbackground\":true,\"ticks\":\"\",\"zerolinecolor\":\"#C8D4E3\",\"gridwidth\":2},\"zaxis\":{\"backgroundcolor\":\"rgb(17,17,17)\",\"gridcolor\":\"#506784\",\"linecolor\":\"#506784\",\"showbackground\":true,\"ticks\":\"\",\"zerolinecolor\":\"#C8D4E3\",\"gridwidth\":2}},\"shapedefaults\":{\"line\":{\"color\":\"#f2f5fa\"}},\"annotationdefaults\":{\"arrowcolor\":\"#f2f5fa\",\"arrowhead\":0,\"arrowwidth\":1},\"geo\":{\"bgcolor\":\"rgb(17,17,17)\",\"landcolor\":\"rgb(17,17,17)\",\"subunitcolor\":\"#506784\",\"showland\":true,\"showlakes\":true,\"lakecolor\":\"rgb(17,17,17)\"},\"title\":{\"x\":0.05},\"updatemenudefaults\":{\"bgcolor\":\"#506784\",\"borderwidth\":0},\"sliderdefaults\":{\"bgcolor\":\"#C8D4E3\",\"borderwidth\":1,\"bordercolor\":\"rgb(17,17,17)\",\"tickwidth\":0},\"mapbox\":{\"style\":\"dark\"}}},\"xaxis\":{\"anchor\":\"y\",\"domain\":[0.0,1.0],\"title\":{\"text\":\"magnitude\"}},\"yaxis\":{\"anchor\":\"x\",\"domain\":[0.0,1.0],\"title\":{\"text\":\"sum of count\"}},\"legend\":{\"tracegroupgap\":0},\"margin\":{\"t\":60},\"barmode\":\"relative\"},                        {\"responsive\": true}                    ).then(function(){\n                            \nvar gd = document.getElementById('e7756f64-0797-480b-9881-072a4b4b69e8');\nvar x = new MutationObserver(function (mutations, observer) {{\n        var display = window.getComputedStyle(gd).display;\n        if (!display || display === 'none') {{\n            console.log([gd, 'removed!']);\n            Plotly.purge(gd);\n            observer.disconnect();\n        }}\n}});\n\n// Listen for the removal of the full notebook cells\nvar notebookContainer = gd.closest('#notebook-container');\nif (notebookContainer) {{\n    x.observe(notebookContainer, {childList: true});\n}}\n\n// Listen for the clearing of the current output cell\nvar outputEl = gd.closest('.output');\nif (outputEl) {{\n    x.observe(outputEl, {childList: true});\n}}\n\n                        })                };                });            </script>        </div>"
     },
     "metadata": {},
     "output_type": "display_data"
    },
    {
     "data": {
      "text/plain": "    magnitude  count\n0           4     53\n1           2     97\n2           1    116\n3           3     25\n4          10      5\n5           8      3\n6           6      9\n7           5      8\n8           7      5\n9          13      2\n10         11      1",
      "text/html": "<div>\n<style scoped>\n    .dataframe tbody tr th:only-of-type {\n        vertical-align: middle;\n    }\n\n    .dataframe tbody tr th {\n        vertical-align: top;\n    }\n\n    .dataframe thead th {\n        text-align: right;\n    }\n</style>\n<table border=\"1\" class=\"dataframe\">\n  <thead>\n    <tr style=\"text-align: right;\">\n      <th></th>\n      <th>magnitude</th>\n      <th>count</th>\n    </tr>\n  </thead>\n  <tbody>\n    <tr>\n      <th>0</th>\n      <td>4</td>\n      <td>53</td>\n    </tr>\n    <tr>\n      <th>1</th>\n      <td>2</td>\n      <td>97</td>\n    </tr>\n    <tr>\n      <th>2</th>\n      <td>1</td>\n      <td>116</td>\n    </tr>\n    <tr>\n      <th>3</th>\n      <td>3</td>\n      <td>25</td>\n    </tr>\n    <tr>\n      <th>4</th>\n      <td>10</td>\n      <td>5</td>\n    </tr>\n    <tr>\n      <th>5</th>\n      <td>8</td>\n      <td>3</td>\n    </tr>\n    <tr>\n      <th>6</th>\n      <td>6</td>\n      <td>9</td>\n    </tr>\n    <tr>\n      <th>7</th>\n      <td>5</td>\n      <td>8</td>\n    </tr>\n    <tr>\n      <th>8</th>\n      <td>7</td>\n      <td>5</td>\n    </tr>\n    <tr>\n      <th>9</th>\n      <td>13</td>\n      <td>2</td>\n    </tr>\n    <tr>\n      <th>10</th>\n      <td>11</td>\n      <td>1</td>\n    </tr>\n  </tbody>\n</table>\n</div>"
     },
     "execution_count": 343,
     "metadata": {},
     "output_type": "execute_result"
    }
   ],
   "source": [
    "analyse_quantity_magnitudes_in_text(premise_list)"
   ],
   "metadata": {
    "collapsed": false
   }
  },
  {
   "cell_type": "code",
   "execution_count": 344,
   "outputs": [
    {
     "data": {
      "application/vnd.plotly.v1+json": {
       "data": [
        {
         "alignmentgroup": "True",
         "bingroup": "x",
         "histfunc": "sum",
         "hovertemplate": "magnitude=%{x}<br>sum of count=%{y}<extra></extra>",
         "legendgroup": "",
         "marker": {
          "color": "#636efa",
          "pattern": {
           "shape": ""
          }
         },
         "name": "",
         "nbinsx": 16,
         "offsetgroup": "",
         "orientation": "v",
         "showlegend": false,
         "x": [
          2,
          3,
          1,
          4,
          10,
          8,
          6,
          11,
          7,
          5
         ],
         "xaxis": "x",
         "y": [
          56,
          16,
          58,
          30,
          5,
          3,
          10,
          3,
          2,
          6
         ],
         "yaxis": "y",
         "type": "histogram"
        }
       ],
       "layout": {
        "template": {
         "data": {
          "histogram2dcontour": [
           {
            "type": "histogram2dcontour",
            "colorbar": {
             "outlinewidth": 0,
             "ticks": ""
            },
            "colorscale": [
             [
              0.0,
              "#0d0887"
             ],
             [
              0.1111111111111111,
              "#46039f"
             ],
             [
              0.2222222222222222,
              "#7201a8"
             ],
             [
              0.3333333333333333,
              "#9c179e"
             ],
             [
              0.4444444444444444,
              "#bd3786"
             ],
             [
              0.5555555555555556,
              "#d8576b"
             ],
             [
              0.6666666666666666,
              "#ed7953"
             ],
             [
              0.7777777777777778,
              "#fb9f3a"
             ],
             [
              0.8888888888888888,
              "#fdca26"
             ],
             [
              1.0,
              "#f0f921"
             ]
            ]
           }
          ],
          "choropleth": [
           {
            "type": "choropleth",
            "colorbar": {
             "outlinewidth": 0,
             "ticks": ""
            }
           }
          ],
          "histogram2d": [
           {
            "type": "histogram2d",
            "colorbar": {
             "outlinewidth": 0,
             "ticks": ""
            },
            "colorscale": [
             [
              0.0,
              "#0d0887"
             ],
             [
              0.1111111111111111,
              "#46039f"
             ],
             [
              0.2222222222222222,
              "#7201a8"
             ],
             [
              0.3333333333333333,
              "#9c179e"
             ],
             [
              0.4444444444444444,
              "#bd3786"
             ],
             [
              0.5555555555555556,
              "#d8576b"
             ],
             [
              0.6666666666666666,
              "#ed7953"
             ],
             [
              0.7777777777777778,
              "#fb9f3a"
             ],
             [
              0.8888888888888888,
              "#fdca26"
             ],
             [
              1.0,
              "#f0f921"
             ]
            ]
           }
          ],
          "heatmap": [
           {
            "type": "heatmap",
            "colorbar": {
             "outlinewidth": 0,
             "ticks": ""
            },
            "colorscale": [
             [
              0.0,
              "#0d0887"
             ],
             [
              0.1111111111111111,
              "#46039f"
             ],
             [
              0.2222222222222222,
              "#7201a8"
             ],
             [
              0.3333333333333333,
              "#9c179e"
             ],
             [
              0.4444444444444444,
              "#bd3786"
             ],
             [
              0.5555555555555556,
              "#d8576b"
             ],
             [
              0.6666666666666666,
              "#ed7953"
             ],
             [
              0.7777777777777778,
              "#fb9f3a"
             ],
             [
              0.8888888888888888,
              "#fdca26"
             ],
             [
              1.0,
              "#f0f921"
             ]
            ]
           }
          ],
          "heatmapgl": [
           {
            "type": "heatmapgl",
            "colorbar": {
             "outlinewidth": 0,
             "ticks": ""
            },
            "colorscale": [
             [
              0.0,
              "#0d0887"
             ],
             [
              0.1111111111111111,
              "#46039f"
             ],
             [
              0.2222222222222222,
              "#7201a8"
             ],
             [
              0.3333333333333333,
              "#9c179e"
             ],
             [
              0.4444444444444444,
              "#bd3786"
             ],
             [
              0.5555555555555556,
              "#d8576b"
             ],
             [
              0.6666666666666666,
              "#ed7953"
             ],
             [
              0.7777777777777778,
              "#fb9f3a"
             ],
             [
              0.8888888888888888,
              "#fdca26"
             ],
             [
              1.0,
              "#f0f921"
             ]
            ]
           }
          ],
          "contourcarpet": [
           {
            "type": "contourcarpet",
            "colorbar": {
             "outlinewidth": 0,
             "ticks": ""
            }
           }
          ],
          "contour": [
           {
            "type": "contour",
            "colorbar": {
             "outlinewidth": 0,
             "ticks": ""
            },
            "colorscale": [
             [
              0.0,
              "#0d0887"
             ],
             [
              0.1111111111111111,
              "#46039f"
             ],
             [
              0.2222222222222222,
              "#7201a8"
             ],
             [
              0.3333333333333333,
              "#9c179e"
             ],
             [
              0.4444444444444444,
              "#bd3786"
             ],
             [
              0.5555555555555556,
              "#d8576b"
             ],
             [
              0.6666666666666666,
              "#ed7953"
             ],
             [
              0.7777777777777778,
              "#fb9f3a"
             ],
             [
              0.8888888888888888,
              "#fdca26"
             ],
             [
              1.0,
              "#f0f921"
             ]
            ]
           }
          ],
          "surface": [
           {
            "type": "surface",
            "colorbar": {
             "outlinewidth": 0,
             "ticks": ""
            },
            "colorscale": [
             [
              0.0,
              "#0d0887"
             ],
             [
              0.1111111111111111,
              "#46039f"
             ],
             [
              0.2222222222222222,
              "#7201a8"
             ],
             [
              0.3333333333333333,
              "#9c179e"
             ],
             [
              0.4444444444444444,
              "#bd3786"
             ],
             [
              0.5555555555555556,
              "#d8576b"
             ],
             [
              0.6666666666666666,
              "#ed7953"
             ],
             [
              0.7777777777777778,
              "#fb9f3a"
             ],
             [
              0.8888888888888888,
              "#fdca26"
             ],
             [
              1.0,
              "#f0f921"
             ]
            ]
           }
          ],
          "mesh3d": [
           {
            "type": "mesh3d",
            "colorbar": {
             "outlinewidth": 0,
             "ticks": ""
            }
           }
          ],
          "scatter": [
           {
            "marker": {
             "line": {
              "color": "#283442"
             }
            },
            "type": "scatter"
           }
          ],
          "parcoords": [
           {
            "type": "parcoords",
            "line": {
             "colorbar": {
              "outlinewidth": 0,
              "ticks": ""
             }
            }
           }
          ],
          "scatterpolargl": [
           {
            "type": "scatterpolargl",
            "marker": {
             "colorbar": {
              "outlinewidth": 0,
              "ticks": ""
             }
            }
           }
          ],
          "bar": [
           {
            "error_x": {
             "color": "#f2f5fa"
            },
            "error_y": {
             "color": "#f2f5fa"
            },
            "marker": {
             "line": {
              "color": "rgb(17,17,17)",
              "width": 0.5
             },
             "pattern": {
              "fillmode": "overlay",
              "size": 10,
              "solidity": 0.2
             }
            },
            "type": "bar"
           }
          ],
          "scattergeo": [
           {
            "type": "scattergeo",
            "marker": {
             "colorbar": {
              "outlinewidth": 0,
              "ticks": ""
             }
            }
           }
          ],
          "scatterpolar": [
           {
            "type": "scatterpolar",
            "marker": {
             "colorbar": {
              "outlinewidth": 0,
              "ticks": ""
             }
            }
           }
          ],
          "histogram": [
           {
            "marker": {
             "pattern": {
              "fillmode": "overlay",
              "size": 10,
              "solidity": 0.2
             }
            },
            "type": "histogram"
           }
          ],
          "scattergl": [
           {
            "marker": {
             "line": {
              "color": "#283442"
             }
            },
            "type": "scattergl"
           }
          ],
          "scatter3d": [
           {
            "type": "scatter3d",
            "line": {
             "colorbar": {
              "outlinewidth": 0,
              "ticks": ""
             }
            },
            "marker": {
             "colorbar": {
              "outlinewidth": 0,
              "ticks": ""
             }
            }
           }
          ],
          "scattermapbox": [
           {
            "type": "scattermapbox",
            "marker": {
             "colorbar": {
              "outlinewidth": 0,
              "ticks": ""
             }
            }
           }
          ],
          "scatterternary": [
           {
            "type": "scatterternary",
            "marker": {
             "colorbar": {
              "outlinewidth": 0,
              "ticks": ""
             }
            }
           }
          ],
          "scattercarpet": [
           {
            "type": "scattercarpet",
            "marker": {
             "colorbar": {
              "outlinewidth": 0,
              "ticks": ""
             }
            }
           }
          ],
          "carpet": [
           {
            "aaxis": {
             "endlinecolor": "#A2B1C6",
             "gridcolor": "#506784",
             "linecolor": "#506784",
             "minorgridcolor": "#506784",
             "startlinecolor": "#A2B1C6"
            },
            "baxis": {
             "endlinecolor": "#A2B1C6",
             "gridcolor": "#506784",
             "linecolor": "#506784",
             "minorgridcolor": "#506784",
             "startlinecolor": "#A2B1C6"
            },
            "type": "carpet"
           }
          ],
          "table": [
           {
            "cells": {
             "fill": {
              "color": "#506784"
             },
             "line": {
              "color": "rgb(17,17,17)"
             }
            },
            "header": {
             "fill": {
              "color": "#2a3f5f"
             },
             "line": {
              "color": "rgb(17,17,17)"
             }
            },
            "type": "table"
           }
          ],
          "barpolar": [
           {
            "marker": {
             "line": {
              "color": "rgb(17,17,17)",
              "width": 0.5
             },
             "pattern": {
              "fillmode": "overlay",
              "size": 10,
              "solidity": 0.2
             }
            },
            "type": "barpolar"
           }
          ],
          "pie": [
           {
            "automargin": true,
            "type": "pie"
           }
          ]
         },
         "layout": {
          "autotypenumbers": "strict",
          "colorway": [
           "#636efa",
           "#EF553B",
           "#00cc96",
           "#ab63fa",
           "#FFA15A",
           "#19d3f3",
           "#FF6692",
           "#B6E880",
           "#FF97FF",
           "#FECB52"
          ],
          "font": {
           "color": "#f2f5fa"
          },
          "hovermode": "closest",
          "hoverlabel": {
           "align": "left"
          },
          "paper_bgcolor": "rgb(17,17,17)",
          "plot_bgcolor": "rgb(17,17,17)",
          "polar": {
           "bgcolor": "rgb(17,17,17)",
           "angularaxis": {
            "gridcolor": "#506784",
            "linecolor": "#506784",
            "ticks": ""
           },
           "radialaxis": {
            "gridcolor": "#506784",
            "linecolor": "#506784",
            "ticks": ""
           }
          },
          "ternary": {
           "bgcolor": "rgb(17,17,17)",
           "aaxis": {
            "gridcolor": "#506784",
            "linecolor": "#506784",
            "ticks": ""
           },
           "baxis": {
            "gridcolor": "#506784",
            "linecolor": "#506784",
            "ticks": ""
           },
           "caxis": {
            "gridcolor": "#506784",
            "linecolor": "#506784",
            "ticks": ""
           }
          },
          "coloraxis": {
           "colorbar": {
            "outlinewidth": 0,
            "ticks": ""
           }
          },
          "colorscale": {
           "sequential": [
            [
             0.0,
             "#0d0887"
            ],
            [
             0.1111111111111111,
             "#46039f"
            ],
            [
             0.2222222222222222,
             "#7201a8"
            ],
            [
             0.3333333333333333,
             "#9c179e"
            ],
            [
             0.4444444444444444,
             "#bd3786"
            ],
            [
             0.5555555555555556,
             "#d8576b"
            ],
            [
             0.6666666666666666,
             "#ed7953"
            ],
            [
             0.7777777777777778,
             "#fb9f3a"
            ],
            [
             0.8888888888888888,
             "#fdca26"
            ],
            [
             1.0,
             "#f0f921"
            ]
           ],
           "sequentialminus": [
            [
             0.0,
             "#0d0887"
            ],
            [
             0.1111111111111111,
             "#46039f"
            ],
            [
             0.2222222222222222,
             "#7201a8"
            ],
            [
             0.3333333333333333,
             "#9c179e"
            ],
            [
             0.4444444444444444,
             "#bd3786"
            ],
            [
             0.5555555555555556,
             "#d8576b"
            ],
            [
             0.6666666666666666,
             "#ed7953"
            ],
            [
             0.7777777777777778,
             "#fb9f3a"
            ],
            [
             0.8888888888888888,
             "#fdca26"
            ],
            [
             1.0,
             "#f0f921"
            ]
           ],
           "diverging": [
            [
             0,
             "#8e0152"
            ],
            [
             0.1,
             "#c51b7d"
            ],
            [
             0.2,
             "#de77ae"
            ],
            [
             0.3,
             "#f1b6da"
            ],
            [
             0.4,
             "#fde0ef"
            ],
            [
             0.5,
             "#f7f7f7"
            ],
            [
             0.6,
             "#e6f5d0"
            ],
            [
             0.7,
             "#b8e186"
            ],
            [
             0.8,
             "#7fbc41"
            ],
            [
             0.9,
             "#4d9221"
            ],
            [
             1,
             "#276419"
            ]
           ]
          },
          "xaxis": {
           "gridcolor": "#283442",
           "linecolor": "#506784",
           "ticks": "",
           "title": {
            "standoff": 15
           },
           "zerolinecolor": "#283442",
           "automargin": true,
           "zerolinewidth": 2
          },
          "yaxis": {
           "gridcolor": "#283442",
           "linecolor": "#506784",
           "ticks": "",
           "title": {
            "standoff": 15
           },
           "zerolinecolor": "#283442",
           "automargin": true,
           "zerolinewidth": 2
          },
          "scene": {
           "xaxis": {
            "backgroundcolor": "rgb(17,17,17)",
            "gridcolor": "#506784",
            "linecolor": "#506784",
            "showbackground": true,
            "ticks": "",
            "zerolinecolor": "#C8D4E3",
            "gridwidth": 2
           },
           "yaxis": {
            "backgroundcolor": "rgb(17,17,17)",
            "gridcolor": "#506784",
            "linecolor": "#506784",
            "showbackground": true,
            "ticks": "",
            "zerolinecolor": "#C8D4E3",
            "gridwidth": 2
           },
           "zaxis": {
            "backgroundcolor": "rgb(17,17,17)",
            "gridcolor": "#506784",
            "linecolor": "#506784",
            "showbackground": true,
            "ticks": "",
            "zerolinecolor": "#C8D4E3",
            "gridwidth": 2
           }
          },
          "shapedefaults": {
           "line": {
            "color": "#f2f5fa"
           }
          },
          "annotationdefaults": {
           "arrowcolor": "#f2f5fa",
           "arrowhead": 0,
           "arrowwidth": 1
          },
          "geo": {
           "bgcolor": "rgb(17,17,17)",
           "landcolor": "rgb(17,17,17)",
           "subunitcolor": "#506784",
           "showland": true,
           "showlakes": true,
           "lakecolor": "rgb(17,17,17)"
          },
          "title": {
           "x": 0.05
          },
          "updatemenudefaults": {
           "bgcolor": "#506784",
           "borderwidth": 0
          },
          "sliderdefaults": {
           "bgcolor": "#C8D4E3",
           "borderwidth": 1,
           "bordercolor": "rgb(17,17,17)",
           "tickwidth": 0
          },
          "mapbox": {
           "style": "dark"
          }
         }
        },
        "xaxis": {
         "anchor": "y",
         "domain": [
          0.0,
          1.0
         ],
         "title": {
          "text": "magnitude"
         }
        },
        "yaxis": {
         "anchor": "x",
         "domain": [
          0.0,
          1.0
         ],
         "title": {
          "text": "sum of count"
         }
        },
        "legend": {
         "tracegroupgap": 0
        },
        "margin": {
         "t": 60
        },
        "barmode": "relative"
       },
       "config": {
        "plotlyServerURL": "https://plot.ly"
       }
      },
      "text/html": "<div>                            <div id=\"f7ff0d53-a2be-4c6f-8ff5-ffdcbd1401f9\" class=\"plotly-graph-div\" style=\"height:525px; width:100%;\"></div>            <script type=\"text/javascript\">                require([\"plotly\"], function(Plotly) {                    window.PLOTLYENV=window.PLOTLYENV || {};                                    if (document.getElementById(\"f7ff0d53-a2be-4c6f-8ff5-ffdcbd1401f9\")) {                    Plotly.newPlot(                        \"f7ff0d53-a2be-4c6f-8ff5-ffdcbd1401f9\",                        [{\"alignmentgroup\":\"True\",\"bingroup\":\"x\",\"histfunc\":\"sum\",\"hovertemplate\":\"magnitude=%{x}\\u003cbr\\u003esum of count=%{y}\\u003cextra\\u003e\\u003c\\u002fextra\\u003e\",\"legendgroup\":\"\",\"marker\":{\"color\":\"#636efa\",\"pattern\":{\"shape\":\"\"}},\"name\":\"\",\"nbinsx\":16,\"offsetgroup\":\"\",\"orientation\":\"v\",\"showlegend\":false,\"x\":[2,3,1,4,10,8,6,11,7,5],\"xaxis\":\"x\",\"y\":[56,16,58,30,5,3,10,3,2,6],\"yaxis\":\"y\",\"type\":\"histogram\"}],                        {\"template\":{\"data\":{\"histogram2dcontour\":[{\"type\":\"histogram2dcontour\",\"colorbar\":{\"outlinewidth\":0,\"ticks\":\"\"},\"colorscale\":[[0.0,\"#0d0887\"],[0.1111111111111111,\"#46039f\"],[0.2222222222222222,\"#7201a8\"],[0.3333333333333333,\"#9c179e\"],[0.4444444444444444,\"#bd3786\"],[0.5555555555555556,\"#d8576b\"],[0.6666666666666666,\"#ed7953\"],[0.7777777777777778,\"#fb9f3a\"],[0.8888888888888888,\"#fdca26\"],[1.0,\"#f0f921\"]]}],\"choropleth\":[{\"type\":\"choropleth\",\"colorbar\":{\"outlinewidth\":0,\"ticks\":\"\"}}],\"histogram2d\":[{\"type\":\"histogram2d\",\"colorbar\":{\"outlinewidth\":0,\"ticks\":\"\"},\"colorscale\":[[0.0,\"#0d0887\"],[0.1111111111111111,\"#46039f\"],[0.2222222222222222,\"#7201a8\"],[0.3333333333333333,\"#9c179e\"],[0.4444444444444444,\"#bd3786\"],[0.5555555555555556,\"#d8576b\"],[0.6666666666666666,\"#ed7953\"],[0.7777777777777778,\"#fb9f3a\"],[0.8888888888888888,\"#fdca26\"],[1.0,\"#f0f921\"]]}],\"heatmap\":[{\"type\":\"heatmap\",\"colorbar\":{\"outlinewidth\":0,\"ticks\":\"\"},\"colorscale\":[[0.0,\"#0d0887\"],[0.1111111111111111,\"#46039f\"],[0.2222222222222222,\"#7201a8\"],[0.3333333333333333,\"#9c179e\"],[0.4444444444444444,\"#bd3786\"],[0.5555555555555556,\"#d8576b\"],[0.6666666666666666,\"#ed7953\"],[0.7777777777777778,\"#fb9f3a\"],[0.8888888888888888,\"#fdca26\"],[1.0,\"#f0f921\"]]}],\"heatmapgl\":[{\"type\":\"heatmapgl\",\"colorbar\":{\"outlinewidth\":0,\"ticks\":\"\"},\"colorscale\":[[0.0,\"#0d0887\"],[0.1111111111111111,\"#46039f\"],[0.2222222222222222,\"#7201a8\"],[0.3333333333333333,\"#9c179e\"],[0.4444444444444444,\"#bd3786\"],[0.5555555555555556,\"#d8576b\"],[0.6666666666666666,\"#ed7953\"],[0.7777777777777778,\"#fb9f3a\"],[0.8888888888888888,\"#fdca26\"],[1.0,\"#f0f921\"]]}],\"contourcarpet\":[{\"type\":\"contourcarpet\",\"colorbar\":{\"outlinewidth\":0,\"ticks\":\"\"}}],\"contour\":[{\"type\":\"contour\",\"colorbar\":{\"outlinewidth\":0,\"ticks\":\"\"},\"colorscale\":[[0.0,\"#0d0887\"],[0.1111111111111111,\"#46039f\"],[0.2222222222222222,\"#7201a8\"],[0.3333333333333333,\"#9c179e\"],[0.4444444444444444,\"#bd3786\"],[0.5555555555555556,\"#d8576b\"],[0.6666666666666666,\"#ed7953\"],[0.7777777777777778,\"#fb9f3a\"],[0.8888888888888888,\"#fdca26\"],[1.0,\"#f0f921\"]]}],\"surface\":[{\"type\":\"surface\",\"colorbar\":{\"outlinewidth\":0,\"ticks\":\"\"},\"colorscale\":[[0.0,\"#0d0887\"],[0.1111111111111111,\"#46039f\"],[0.2222222222222222,\"#7201a8\"],[0.3333333333333333,\"#9c179e\"],[0.4444444444444444,\"#bd3786\"],[0.5555555555555556,\"#d8576b\"],[0.6666666666666666,\"#ed7953\"],[0.7777777777777778,\"#fb9f3a\"],[0.8888888888888888,\"#fdca26\"],[1.0,\"#f0f921\"]]}],\"mesh3d\":[{\"type\":\"mesh3d\",\"colorbar\":{\"outlinewidth\":0,\"ticks\":\"\"}}],\"scatter\":[{\"marker\":{\"line\":{\"color\":\"#283442\"}},\"type\":\"scatter\"}],\"parcoords\":[{\"type\":\"parcoords\",\"line\":{\"colorbar\":{\"outlinewidth\":0,\"ticks\":\"\"}}}],\"scatterpolargl\":[{\"type\":\"scatterpolargl\",\"marker\":{\"colorbar\":{\"outlinewidth\":0,\"ticks\":\"\"}}}],\"bar\":[{\"error_x\":{\"color\":\"#f2f5fa\"},\"error_y\":{\"color\":\"#f2f5fa\"},\"marker\":{\"line\":{\"color\":\"rgb(17,17,17)\",\"width\":0.5},\"pattern\":{\"fillmode\":\"overlay\",\"size\":10,\"solidity\":0.2}},\"type\":\"bar\"}],\"scattergeo\":[{\"type\":\"scattergeo\",\"marker\":{\"colorbar\":{\"outlinewidth\":0,\"ticks\":\"\"}}}],\"scatterpolar\":[{\"type\":\"scatterpolar\",\"marker\":{\"colorbar\":{\"outlinewidth\":0,\"ticks\":\"\"}}}],\"histogram\":[{\"marker\":{\"pattern\":{\"fillmode\":\"overlay\",\"size\":10,\"solidity\":0.2}},\"type\":\"histogram\"}],\"scattergl\":[{\"marker\":{\"line\":{\"color\":\"#283442\"}},\"type\":\"scattergl\"}],\"scatter3d\":[{\"type\":\"scatter3d\",\"line\":{\"colorbar\":{\"outlinewidth\":0,\"ticks\":\"\"}},\"marker\":{\"colorbar\":{\"outlinewidth\":0,\"ticks\":\"\"}}}],\"scattermapbox\":[{\"type\":\"scattermapbox\",\"marker\":{\"colorbar\":{\"outlinewidth\":0,\"ticks\":\"\"}}}],\"scatterternary\":[{\"type\":\"scatterternary\",\"marker\":{\"colorbar\":{\"outlinewidth\":0,\"ticks\":\"\"}}}],\"scattercarpet\":[{\"type\":\"scattercarpet\",\"marker\":{\"colorbar\":{\"outlinewidth\":0,\"ticks\":\"\"}}}],\"carpet\":[{\"aaxis\":{\"endlinecolor\":\"#A2B1C6\",\"gridcolor\":\"#506784\",\"linecolor\":\"#506784\",\"minorgridcolor\":\"#506784\",\"startlinecolor\":\"#A2B1C6\"},\"baxis\":{\"endlinecolor\":\"#A2B1C6\",\"gridcolor\":\"#506784\",\"linecolor\":\"#506784\",\"minorgridcolor\":\"#506784\",\"startlinecolor\":\"#A2B1C6\"},\"type\":\"carpet\"}],\"table\":[{\"cells\":{\"fill\":{\"color\":\"#506784\"},\"line\":{\"color\":\"rgb(17,17,17)\"}},\"header\":{\"fill\":{\"color\":\"#2a3f5f\"},\"line\":{\"color\":\"rgb(17,17,17)\"}},\"type\":\"table\"}],\"barpolar\":[{\"marker\":{\"line\":{\"color\":\"rgb(17,17,17)\",\"width\":0.5},\"pattern\":{\"fillmode\":\"overlay\",\"size\":10,\"solidity\":0.2}},\"type\":\"barpolar\"}],\"pie\":[{\"automargin\":true,\"type\":\"pie\"}]},\"layout\":{\"autotypenumbers\":\"strict\",\"colorway\":[\"#636efa\",\"#EF553B\",\"#00cc96\",\"#ab63fa\",\"#FFA15A\",\"#19d3f3\",\"#FF6692\",\"#B6E880\",\"#FF97FF\",\"#FECB52\"],\"font\":{\"color\":\"#f2f5fa\"},\"hovermode\":\"closest\",\"hoverlabel\":{\"align\":\"left\"},\"paper_bgcolor\":\"rgb(17,17,17)\",\"plot_bgcolor\":\"rgb(17,17,17)\",\"polar\":{\"bgcolor\":\"rgb(17,17,17)\",\"angularaxis\":{\"gridcolor\":\"#506784\",\"linecolor\":\"#506784\",\"ticks\":\"\"},\"radialaxis\":{\"gridcolor\":\"#506784\",\"linecolor\":\"#506784\",\"ticks\":\"\"}},\"ternary\":{\"bgcolor\":\"rgb(17,17,17)\",\"aaxis\":{\"gridcolor\":\"#506784\",\"linecolor\":\"#506784\",\"ticks\":\"\"},\"baxis\":{\"gridcolor\":\"#506784\",\"linecolor\":\"#506784\",\"ticks\":\"\"},\"caxis\":{\"gridcolor\":\"#506784\",\"linecolor\":\"#506784\",\"ticks\":\"\"}},\"coloraxis\":{\"colorbar\":{\"outlinewidth\":0,\"ticks\":\"\"}},\"colorscale\":{\"sequential\":[[0.0,\"#0d0887\"],[0.1111111111111111,\"#46039f\"],[0.2222222222222222,\"#7201a8\"],[0.3333333333333333,\"#9c179e\"],[0.4444444444444444,\"#bd3786\"],[0.5555555555555556,\"#d8576b\"],[0.6666666666666666,\"#ed7953\"],[0.7777777777777778,\"#fb9f3a\"],[0.8888888888888888,\"#fdca26\"],[1.0,\"#f0f921\"]],\"sequentialminus\":[[0.0,\"#0d0887\"],[0.1111111111111111,\"#46039f\"],[0.2222222222222222,\"#7201a8\"],[0.3333333333333333,\"#9c179e\"],[0.4444444444444444,\"#bd3786\"],[0.5555555555555556,\"#d8576b\"],[0.6666666666666666,\"#ed7953\"],[0.7777777777777778,\"#fb9f3a\"],[0.8888888888888888,\"#fdca26\"],[1.0,\"#f0f921\"]],\"diverging\":[[0,\"#8e0152\"],[0.1,\"#c51b7d\"],[0.2,\"#de77ae\"],[0.3,\"#f1b6da\"],[0.4,\"#fde0ef\"],[0.5,\"#f7f7f7\"],[0.6,\"#e6f5d0\"],[0.7,\"#b8e186\"],[0.8,\"#7fbc41\"],[0.9,\"#4d9221\"],[1,\"#276419\"]]},\"xaxis\":{\"gridcolor\":\"#283442\",\"linecolor\":\"#506784\",\"ticks\":\"\",\"title\":{\"standoff\":15},\"zerolinecolor\":\"#283442\",\"automargin\":true,\"zerolinewidth\":2},\"yaxis\":{\"gridcolor\":\"#283442\",\"linecolor\":\"#506784\",\"ticks\":\"\",\"title\":{\"standoff\":15},\"zerolinecolor\":\"#283442\",\"automargin\":true,\"zerolinewidth\":2},\"scene\":{\"xaxis\":{\"backgroundcolor\":\"rgb(17,17,17)\",\"gridcolor\":\"#506784\",\"linecolor\":\"#506784\",\"showbackground\":true,\"ticks\":\"\",\"zerolinecolor\":\"#C8D4E3\",\"gridwidth\":2},\"yaxis\":{\"backgroundcolor\":\"rgb(17,17,17)\",\"gridcolor\":\"#506784\",\"linecolor\":\"#506784\",\"showbackground\":true,\"ticks\":\"\",\"zerolinecolor\":\"#C8D4E3\",\"gridwidth\":2},\"zaxis\":{\"backgroundcolor\":\"rgb(17,17,17)\",\"gridcolor\":\"#506784\",\"linecolor\":\"#506784\",\"showbackground\":true,\"ticks\":\"\",\"zerolinecolor\":\"#C8D4E3\",\"gridwidth\":2}},\"shapedefaults\":{\"line\":{\"color\":\"#f2f5fa\"}},\"annotationdefaults\":{\"arrowcolor\":\"#f2f5fa\",\"arrowhead\":0,\"arrowwidth\":1},\"geo\":{\"bgcolor\":\"rgb(17,17,17)\",\"landcolor\":\"rgb(17,17,17)\",\"subunitcolor\":\"#506784\",\"showland\":true,\"showlakes\":true,\"lakecolor\":\"rgb(17,17,17)\"},\"title\":{\"x\":0.05},\"updatemenudefaults\":{\"bgcolor\":\"#506784\",\"borderwidth\":0},\"sliderdefaults\":{\"bgcolor\":\"#C8D4E3\",\"borderwidth\":1,\"bordercolor\":\"rgb(17,17,17)\",\"tickwidth\":0},\"mapbox\":{\"style\":\"dark\"}}},\"xaxis\":{\"anchor\":\"y\",\"domain\":[0.0,1.0],\"title\":{\"text\":\"magnitude\"}},\"yaxis\":{\"anchor\":\"x\",\"domain\":[0.0,1.0],\"title\":{\"text\":\"sum of count\"}},\"legend\":{\"tracegroupgap\":0},\"margin\":{\"t\":60},\"barmode\":\"relative\"},                        {\"responsive\": true}                    ).then(function(){\n                            \nvar gd = document.getElementById('f7ff0d53-a2be-4c6f-8ff5-ffdcbd1401f9');\nvar x = new MutationObserver(function (mutations, observer) {{\n        var display = window.getComputedStyle(gd).display;\n        if (!display || display === 'none') {{\n            console.log([gd, 'removed!']);\n            Plotly.purge(gd);\n            observer.disconnect();\n        }}\n}});\n\n// Listen for the removal of the full notebook cells\nvar notebookContainer = gd.closest('#notebook-container');\nif (notebookContainer) {{\n    x.observe(notebookContainer, {childList: true});\n}}\n\n// Listen for the clearing of the current output cell\nvar outputEl = gd.closest('.output');\nif (outputEl) {{\n    x.observe(outputEl, {childList: true});\n}}\n\n                        })                };                });            </script>        </div>"
     },
     "metadata": {},
     "output_type": "display_data"
    },
    {
     "data": {
      "text/plain": "   magnitude  count\n0          2     56\n1          3     16\n2          1     58\n3          4     30\n4         10      5\n5          8      3\n6          6     10\n7         11      3\n8          7      2\n9          5      6",
      "text/html": "<div>\n<style scoped>\n    .dataframe tbody tr th:only-of-type {\n        vertical-align: middle;\n    }\n\n    .dataframe tbody tr th {\n        vertical-align: top;\n    }\n\n    .dataframe thead th {\n        text-align: right;\n    }\n</style>\n<table border=\"1\" class=\"dataframe\">\n  <thead>\n    <tr style=\"text-align: right;\">\n      <th></th>\n      <th>magnitude</th>\n      <th>count</th>\n    </tr>\n  </thead>\n  <tbody>\n    <tr>\n      <th>0</th>\n      <td>2</td>\n      <td>56</td>\n    </tr>\n    <tr>\n      <th>1</th>\n      <td>3</td>\n      <td>16</td>\n    </tr>\n    <tr>\n      <th>2</th>\n      <td>1</td>\n      <td>58</td>\n    </tr>\n    <tr>\n      <th>3</th>\n      <td>4</td>\n      <td>30</td>\n    </tr>\n    <tr>\n      <th>4</th>\n      <td>10</td>\n      <td>5</td>\n    </tr>\n    <tr>\n      <th>5</th>\n      <td>8</td>\n      <td>3</td>\n    </tr>\n    <tr>\n      <th>6</th>\n      <td>6</td>\n      <td>10</td>\n    </tr>\n    <tr>\n      <th>7</th>\n      <td>11</td>\n      <td>3</td>\n    </tr>\n    <tr>\n      <th>8</th>\n      <td>7</td>\n      <td>2</td>\n    </tr>\n    <tr>\n      <th>9</th>\n      <td>5</td>\n      <td>6</td>\n    </tr>\n  </tbody>\n</table>\n</div>"
     },
     "execution_count": 344,
     "metadata": {},
     "output_type": "execute_result"
    }
   ],
   "source": [
    "analyse_quantity_magnitudes_in_text(hypothesis_list)"
   ],
   "metadata": {
    "collapsed": false
   }
  },
  {
   "cell_type": "code",
   "execution_count": 321,
   "outputs": [
    {
     "name": "stdout",
     "output_type": "stream",
     "text": [
      "(18, 18, {'around', 'about', 'over', 'up to'})\n"
     ]
    }
   ],
   "source": [
    "quantifiers = [\"at least\", \"not less than\", \"no less than\", \"minimum of\", \"equal to or greater than\", \"no fewer than\", \"not fewer than\", \"not below\", \"at most\", \"no more than\", \"not more than\", \"more than\", \"maximum of\", \"equal to or less than\", \"no greater than\", \"not above\", \"less than or equal to\", \"not exceeding\", \"up to\",\n",
    "\"greater than or equal to\", \"not fewer than\", \"down to\", \"less than\", \"below\", \"under\", \"lower than\", \"above\", \"over\", \"greater than\", \"as high as\", \"as little as\", \"exceeding\", \"around\", \"approximately\", \"roughly\", \"about\", \"near\", \"close to\"]\n",
    "\n",
    "# quantifiers = {\n",
    "#     \"at least\": [\"at least\", \"not less than\", \"minimum of\", \"equal to or greater than\", \"no fewer than\", \"not below\"],\n",
    "#     \"at most\": [\"at most\", \"no more than\", \"maximum of\", \"equal to or less than\", \"no greater than\", \"not above\"],\n",
    "#     \"no more than\": [\"no more than\", \"at most\", \"maximum of\", \"less than or equal to\", \"not exceeding\", \"up to\"],\n",
    "#     \"no less than\": [\"no less than\", \"at least\", \"minimum of\", \"not below\", \"equal to or greater than\", \"not fewer than\"],\n",
    "#     \"less than\": [\"less than\", \"below\", \"under\", \"lower than\", \"inferior to\", \"beneath\"],\n",
    "#     \"more than\": [\"more than\", \"above\", \"over\", \"greater than\", \"superior to\", \"beyond\"],\n",
    "#     \"as high as\": [\"as high as\", \"equal to or as high as\", \"up to\", \"reaching\", \"matching\", \"climbing to\"],\n",
    "#     \"as little as\": [\"as little as\", \"equal to or as little as\", \"down to\", \"at a minimum of\", \"no more than\", \"only\"],\n",
    "#     \"above\": [\"above\", \"beyond\", \"higher than\", \"over\", \"exceeding\", \"upwards of\"],\n",
    "#     \"below\": [\"below\", \"under\", \"beneath\", \"less than\", \"lower than\", \"inferior to\"],\n",
    "#     \"around\": [\"around\", \"approximately\", \"roughly\", \"about\", \"near\", \"close to\"],\n",
    "#     \"approximately\": [\"approximately\", \"around\", \"roughly\", \"about\", \"nearly\", \"close to\"]\n",
    "# }\n",
    "\n",
    "def count_lookup_phrases(sentences):\n",
    "    total_cnt, premise_count = 0, 0\n",
    "    phrases_found = set()\n",
    "    for phrase in quantifiers:\n",
    "        for premise in sentences:\n",
    "            premise_counted = False\n",
    "            if phrase in premise:\n",
    "                phrases_found.add(phrase)\n",
    "                total_cnt += 1\n",
    "                if not premise_counted:\n",
    "                    premise_count += 1\n",
    "    return total_cnt, premise_count, phrases_found\n",
    "\n",
    "print(count_lookup_phrases(list(awp_df[\"sentence1\"].values)))"
   ],
   "metadata": {
    "collapsed": false
   }
  },
  {
   "cell_type": "code",
   "execution_count": 322,
   "outputs": [
    {
     "data": {
      "text/plain": "                                             sentence1  \\\n342  Christian’s father and the senior ranger gathe...   \n343  Christian’s father and the senior ranger gathe...   \n712  Christian’s father and the senior ranger gathe...   \n713  Christian’s father and the senior ranger gathe...   \n\n                                             sentence2     gold_label  \\\n342  They were able to fill 4.0 sacks if they gathe...     entailment   \n343  They were able to fill 6.0 sacks if they gathe...  contradiction   \n712  They were able to gather 1600.0 pieces of fire...     entailment   \n713  They were able to gather 1604.0 pieces of fire...  contradiction   \n\n     sentence1_word_cnt  sentence2_word_cnt  sentence1_char_cnt  \\\n342                  32                  14                 185   \n343                  32                  14                 185   \n712                  32                  14                 185   \n713                  32                  14                 185   \n\n     sentence2_char_cnt  \n342                  69  \n343                  69  \n712                  78  \n713                  78  ",
      "text/html": "<div>\n<style scoped>\n    .dataframe tbody tr th:only-of-type {\n        vertical-align: middle;\n    }\n\n    .dataframe tbody tr th {\n        vertical-align: top;\n    }\n\n    .dataframe thead th {\n        text-align: right;\n    }\n</style>\n<table border=\"1\" class=\"dataframe\">\n  <thead>\n    <tr style=\"text-align: right;\">\n      <th></th>\n      <th>sentence1</th>\n      <th>sentence2</th>\n      <th>gold_label</th>\n      <th>sentence1_word_cnt</th>\n      <th>sentence2_word_cnt</th>\n      <th>sentence1_char_cnt</th>\n      <th>sentence2_char_cnt</th>\n    </tr>\n  </thead>\n  <tbody>\n    <tr>\n      <th>342</th>\n      <td>Christian’s father and the senior ranger gathe...</td>\n      <td>They were able to fill 4.0 sacks if they gathe...</td>\n      <td>entailment</td>\n      <td>32</td>\n      <td>14</td>\n      <td>185</td>\n      <td>69</td>\n    </tr>\n    <tr>\n      <th>343</th>\n      <td>Christian’s father and the senior ranger gathe...</td>\n      <td>They were able to fill 6.0 sacks if they gathe...</td>\n      <td>contradiction</td>\n      <td>32</td>\n      <td>14</td>\n      <td>185</td>\n      <td>69</td>\n    </tr>\n    <tr>\n      <th>712</th>\n      <td>Christian’s father and the senior ranger gathe...</td>\n      <td>They were able to gather 1600.0 pieces of fire...</td>\n      <td>entailment</td>\n      <td>32</td>\n      <td>14</td>\n      <td>185</td>\n      <td>78</td>\n    </tr>\n    <tr>\n      <th>713</th>\n      <td>Christian’s father and the senior ranger gathe...</td>\n      <td>They were able to gather 1604.0 pieces of fire...</td>\n      <td>contradiction</td>\n      <td>32</td>\n      <td>14</td>\n      <td>185</td>\n      <td>78</td>\n    </tr>\n  </tbody>\n</table>\n</div>"
     },
     "execution_count": 322,
     "metadata": {},
     "output_type": "execute_result"
    }
   ],
   "source": [
    "awp_df[awp_df[\"sentence1\"].str.contains(\"around\")]"
   ],
   "metadata": {
    "collapsed": false
   }
  },
  {
   "cell_type": "code",
   "execution_count": 323,
   "outputs": [
    {
     "name": "stdout",
     "output_type": "stream",
     "text": [
      "(8, 8, {'over'})\n"
     ]
    }
   ],
   "source": [
    "print(count_lookup_phrases(list(awp_df[\"sentence2\"].values)))"
   ],
   "metadata": {
    "collapsed": false
   }
  },
  {
   "cell_type": "code",
   "execution_count": 324,
   "outputs": [
    {
     "name": "stdout",
     "output_type": "stream",
     "text": [
      "(41, 41, {'near', 'below', 'at least', 'around', 'down to', 'more than', 'above', 'about', 'under', 'close to', 'over', 'exceeding'})\n"
     ]
    }
   ],
   "source": [
    "print(count_lookup_phrases(list(reddit_df[\"sentence1\"].values)))"
   ],
   "metadata": {
    "collapsed": false
   }
  },
  {
   "cell_type": "code",
   "execution_count": 325,
   "outputs": [
    {
     "data": {
      "text/plain": "                                           sentence1  \\\n8  At Davos, Wall Street Billionaire Steven Schwa...   \n\n                                           sentence2  gold_label  \\\n8  At DAVOS, Financial Billionaire Schwartzman, w...  entailment   \n\n   sentence1_word_cnt  sentence2_word_cnt  sentence1_char_cnt  \\\n8                  24                  22                 160   \n\n   sentence2_char_cnt  \n8                 146  ",
      "text/html": "<div>\n<style scoped>\n    .dataframe tbody tr th:only-of-type {\n        vertical-align: middle;\n    }\n\n    .dataframe tbody tr th {\n        vertical-align: top;\n    }\n\n    .dataframe thead th {\n        text-align: right;\n    }\n</style>\n<table border=\"1\" class=\"dataframe\">\n  <thead>\n    <tr style=\"text-align: right;\">\n      <th></th>\n      <th>sentence1</th>\n      <th>sentence2</th>\n      <th>gold_label</th>\n      <th>sentence1_word_cnt</th>\n      <th>sentence2_word_cnt</th>\n      <th>sentence1_char_cnt</th>\n      <th>sentence2_char_cnt</th>\n    </tr>\n  </thead>\n  <tbody>\n    <tr>\n      <th>8</th>\n      <td>At Davos, Wall Street Billionaire Steven Schwa...</td>\n      <td>At DAVOS, Financial Billionaire Schwartzman, w...</td>\n      <td>entailment</td>\n      <td>24</td>\n      <td>22</td>\n      <td>160</td>\n      <td>146</td>\n    </tr>\n  </tbody>\n</table>\n</div>"
     },
     "execution_count": 325,
     "metadata": {},
     "output_type": "execute_result"
    }
   ],
   "source": [
    "reddit_df[reddit_df[\"sentence1\"].str.contains(\"around\")]"
   ],
   "metadata": {
    "collapsed": false
   }
  },
  {
   "cell_type": "code",
   "execution_count": 326,
   "outputs": [
    {
     "data": {
      "text/plain": "                                             sentence1  \\\n12   Sensex closed up 204.96 points, Nifty above 54...   \n19   Sensex high 20000 touch, Nifty above 5900, Tue...   \n89   Sensex rises 103 points, Nifty ends above 8,90...   \n182  Dow closes above 18000 for first time in 9 months   \n249       Nifty traded above 7500, Trading Calls Today   \n\n                                             sentence2     gold_label  \\\n12   Indian Rupee down, Tomorrow On Monday stock ni...        neutral   \n19   SENSEX & Nifty down, Sensex down 357.39 Pts, N...  contradiction   \n89   Sensex rises 100 pts, Nifty ends above 8900, S...  contradiction   \n182     Dow Closes Above 18K for First Time Since July     entailment   \n249                                  Nifty above 7400,     entailment   \n\n     sentence1_word_cnt  sentence2_word_cnt  sentence1_char_cnt  \\\n12                   22                  24                 138   \n19                   19                  21                 116   \n89                   12                  11                  76   \n182                  10                   9                  49   \n249                   7                   3                  44   \n\n     sentence2_char_cnt  \n12                  141  \n19                  132  \n89                   64  \n182                  46  \n249                  17  ",
      "text/html": "<div>\n<style scoped>\n    .dataframe tbody tr th:only-of-type {\n        vertical-align: middle;\n    }\n\n    .dataframe tbody tr th {\n        vertical-align: top;\n    }\n\n    .dataframe thead th {\n        text-align: right;\n    }\n</style>\n<table border=\"1\" class=\"dataframe\">\n  <thead>\n    <tr style=\"text-align: right;\">\n      <th></th>\n      <th>sentence1</th>\n      <th>sentence2</th>\n      <th>gold_label</th>\n      <th>sentence1_word_cnt</th>\n      <th>sentence2_word_cnt</th>\n      <th>sentence1_char_cnt</th>\n      <th>sentence2_char_cnt</th>\n    </tr>\n  </thead>\n  <tbody>\n    <tr>\n      <th>12</th>\n      <td>Sensex closed up 204.96 points, Nifty above 54...</td>\n      <td>Indian Rupee down, Tomorrow On Monday stock ni...</td>\n      <td>neutral</td>\n      <td>22</td>\n      <td>24</td>\n      <td>138</td>\n      <td>141</td>\n    </tr>\n    <tr>\n      <th>19</th>\n      <td>Sensex high 20000 touch, Nifty above 5900, Tue...</td>\n      <td>SENSEX &amp; Nifty down, Sensex down 357.39 Pts, N...</td>\n      <td>contradiction</td>\n      <td>19</td>\n      <td>21</td>\n      <td>116</td>\n      <td>132</td>\n    </tr>\n    <tr>\n      <th>89</th>\n      <td>Sensex rises 103 points, Nifty ends above 8,90...</td>\n      <td>Sensex rises 100 pts, Nifty ends above 8900, S...</td>\n      <td>contradiction</td>\n      <td>12</td>\n      <td>11</td>\n      <td>76</td>\n      <td>64</td>\n    </tr>\n    <tr>\n      <th>182</th>\n      <td>Dow closes above 18000 for first time in 9 months</td>\n      <td>Dow Closes Above 18K for First Time Since July</td>\n      <td>entailment</td>\n      <td>10</td>\n      <td>9</td>\n      <td>49</td>\n      <td>46</td>\n    </tr>\n    <tr>\n      <th>249</th>\n      <td>Nifty traded above 7500, Trading Calls Today</td>\n      <td>Nifty above 7400,</td>\n      <td>entailment</td>\n      <td>7</td>\n      <td>3</td>\n      <td>44</td>\n      <td>17</td>\n    </tr>\n  </tbody>\n</table>\n</div>"
     },
     "execution_count": 326,
     "metadata": {},
     "output_type": "execute_result"
    }
   ],
   "source": [
    "reddit_df[reddit_df[\"sentence1\"].str.contains(\"above\")]"
   ],
   "metadata": {
    "collapsed": false
   }
  },
  {
   "cell_type": "code",
   "execution_count": 327,
   "outputs": [
    {
     "name": "stdout",
     "output_type": "stream",
     "text": [
      "(35, 35, {'near', 'below', 'at least', 'around', 'down to', 'more than', 'above', 'about', 'up to', 'under', 'over'})\n"
     ]
    }
   ],
   "source": [
    "print(count_lookup_phrases(list(reddit_df[\"sentence2\"].values)))"
   ],
   "metadata": {
    "collapsed": false
   }
  },
  {
   "cell_type": "code",
   "execution_count": 328,
   "outputs": [
    {
     "name": "stdout",
     "output_type": "stream",
     "text": [
      "(296, 296, {'near', 'below', 'at least', 'less than', 'down to', 'more than', 'above', 'as high as', 'around', 'about', 'close to', 'up to', 'under', 'approximately', 'roughly', 'over'})\n"
     ]
    }
   ],
   "source": [
    "print(count_lookup_phrases(list(news_df[\"sentence1\"].values)))"
   ],
   "metadata": {
    "collapsed": false
   }
  },
  {
   "cell_type": "code",
   "execution_count": 329,
   "outputs": [
    {
     "name": "stdout",
     "output_type": "stream",
     "text": [
      "(170, 170, {'near', 'below', 'at least', 'less than', 'down to', 'more than', 'no more than', 'above', 'around', 'about', 'up to', 'under', 'close to', 'over'})\n"
     ]
    }
   ],
   "source": [
    "print(count_lookup_phrases(list(news_df[\"sentence2\"].values)))"
   ],
   "metadata": {
    "collapsed": false
   }
  },
  {
   "cell_type": "code",
   "execution_count": 330,
   "outputs": [
    {
     "name": "stdout",
     "output_type": "stream",
     "text": [
      "(72, 72, {'near', 'below', 'at least', 'less than', 'around', 'more than', 'above', 'about', 'up to', 'greater than', 'under', 'roughly', 'over'})\n"
     ]
    }
   ],
   "source": [
    "print(count_lookup_phrases(list(rte_df[\"sentence1\"].values)))"
   ],
   "metadata": {
    "collapsed": false
   }
  },
  {
   "cell_type": "code",
   "execution_count": 331,
   "outputs": [
    {
     "name": "stdout",
     "output_type": "stream",
     "text": [
      "(25, 25, {'near', 'at least', 'less than', 'about', 'more than', 'up to', 'greater than', 'roughly', 'over'})\n"
     ]
    }
   ],
   "source": [
    "print(count_lookup_phrases(list(rte_df[\"sentence2\"].values)))"
   ],
   "metadata": {
    "collapsed": false
   }
  },
  {
   "cell_type": "code",
   "execution_count": 332,
   "outputs": [
    {
     "name": "stdout",
     "output_type": "stream",
     "text": [
      "(3122, 3122, {'near', 'below', 'at least', 'less than', 'around', 'more than', 'no more than', 'maximum of', 'at most', 'above', 'about', 'minimum of', 'up to', 'greater than', 'under', 'approximately', 'over'})\n"
     ]
    }
   ],
   "source": [
    "print(count_lookup_phrases(list(stress_df[\"sentence1\"].values)))"
   ],
   "metadata": {
    "collapsed": false
   }
  },
  {
   "cell_type": "code",
   "execution_count": 333,
   "outputs": [
    {
     "name": "stdout",
     "output_type": "stream",
     "text": [
      "(4368, 4368, {'near', 'below', 'at least', 'less than', 'around', 'more than', 'no more than', 'maximum of', 'at most', 'above', 'about', 'minimum of', 'up to', 'greater than', 'under', 'approximately', 'over'})\n"
     ]
    }
   ],
   "source": [
    "print(count_lookup_phrases(list(stress_df[\"sentence2\"].values)))"
   ],
   "metadata": {
    "collapsed": false
   }
  },
  {
   "cell_type": "code",
   "execution_count": null,
   "outputs": [],
   "source": [],
   "metadata": {
    "collapsed": false,
    "pycharm": {
     "is_executing": true
    }
   }
  },
  {
   "cell_type": "code",
   "execution_count": 333,
   "outputs": [],
   "source": [],
   "metadata": {
    "collapsed": false
   }
  }
 ],
 "metadata": {
  "kernelspec": {
   "display_name": "Python 3",
   "language": "python",
   "name": "python3"
  },
  "language_info": {
   "codemirror_mode": {
    "name": "ipython",
    "version": 2
   },
   "file_extension": ".py",
   "mimetype": "text/x-python",
   "name": "python",
   "nbconvert_exporter": "python",
   "pygments_lexer": "ipython2",
   "version": "2.7.6"
  }
 },
 "nbformat": 4,
 "nbformat_minor": 0
}
